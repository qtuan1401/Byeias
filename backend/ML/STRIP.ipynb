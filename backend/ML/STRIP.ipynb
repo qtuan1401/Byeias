{
 "cells": [
  {
   "cell_type": "code",
   "execution_count": 2,
   "metadata": {},
   "outputs": [
    {
     "name": "stdout",
     "output_type": "stream",
     "text": [
      "3.9.12\n"
     ]
    }
   ],
   "source": [
    "import pandas as pd\n",
    "from tqdm.auto import tqdm\n",
    "\n",
    "from platform import python_version\n",
    "print(python_version())"
   ]
  },
  {
   "cell_type": "code",
   "execution_count": 25,
   "metadata": {},
   "outputs": [],
   "source": [
    "def Crunch(L, R):\n",
    "    d = abs(L - R)\n",
    "    if L > R:\n",
    "        swing = (-1)*d\n",
    "    elif R > L:\n",
    "        swing = (1)*d\n",
    "    else:\n",
    "        swing = d\n",
    "\n",
    "    return swing"
   ]
  },
  {
   "cell_type": "code",
   "execution_count": 26,
   "metadata": {},
   "outputs": [],
   "source": [
    "def getNumVal(val):\n",
    "    if val == 'Negative':\n",
    "        return -2\n",
    "    elif val == 'SomewhatNegative':\n",
    "        return -1\n",
    "    elif val == 'Neutral':\n",
    "        return 0\n",
    "    elif val == 'SomewhatPositive':\n",
    "        return 1\n",
    "    elif val == 'Positive':\n",
    "        return 2"
   ]
  },
  {
   "cell_type": "code",
   "execution_count": 27,
   "metadata": {},
   "outputs": [],
   "source": [
    "df1 = pd.read_csv(r'../data/kaggleIN.csv')"
   ]
  },
  {
   "cell_type": "code",
   "execution_count": 37,
   "metadata": {},
   "outputs": [
    {
     "data": {
      "application/vnd.jupyter.widget-view+json": {
       "model_id": "15b985d4b6f647b99401922c389f0fbd",
       "version_major": 2,
       "version_minor": 0
      },
      "text/plain": [
       "  0%|          | 0/21004 [00:00<?, ?it/s]"
      ]
     },
     "metadata": {},
     "output_type": "display_data"
    },
    {
     "data": {
      "text/html": [
       "<div>\n",
       "<style scoped>\n",
       "    .dataframe tbody tr th:only-of-type {\n",
       "        vertical-align: middle;\n",
       "    }\n",
       "\n",
       "    .dataframe tbody tr th {\n",
       "        vertical-align: top;\n",
       "    }\n",
       "\n",
       "    .dataframe thead th {\n",
       "        text-align: right;\n",
       "    }\n",
       "</style>\n",
       "<table border=\"1\" class=\"dataframe\">\n",
       "  <thead>\n",
       "    <tr style=\"text-align: right;\">\n",
       "      <th></th>\n",
       "      <th>url</th>\n",
       "      <th>q3</th>\n",
       "      <th>perceived</th>\n",
       "      <th>primary_topic</th>\n",
       "      <th>secondary_topic</th>\n",
       "      <th>democrat_vote</th>\n",
       "      <th>republican_vote</th>\n",
       "      <th>Bias</th>\n",
       "    </tr>\n",
       "  </thead>\n",
       "  <tbody>\n",
       "    <tr>\n",
       "      <th>0</th>\n",
       "      <td>http://www.usatoday.com/story/news/nation/2013...</td>\n",
       "      <td>other</td>\n",
       "      <td>1</td>\n",
       "      <td>Civil Rights</td>\n",
       "      <td>Civil Rights</td>\n",
       "      <td>Neutral</td>\n",
       "      <td>Neutral</td>\n",
       "      <td>0</td>\n",
       "    </tr>\n",
       "    <tr>\n",
       "      <th>1</th>\n",
       "      <td>http://www.huffingtonpost.com/2013/05/21/senat...</td>\n",
       "      <td>News</td>\n",
       "      <td>0</td>\n",
       "      <td>Civil Rights</td>\n",
       "      <td>Civil Rights</td>\n",
       "      <td>Neutral</td>\n",
       "      <td>Neutral</td>\n",
       "      <td>0</td>\n",
       "    </tr>\n",
       "    <tr>\n",
       "      <th>2</th>\n",
       "      <td>http://www.washingtonpost.com/opinions/dont-le...</td>\n",
       "      <td>Opinion</td>\n",
       "      <td>1</td>\n",
       "      <td>Civil Rights</td>\n",
       "      <td>Civil Rights</td>\n",
       "      <td>Neutral</td>\n",
       "      <td>Neutral</td>\n",
       "      <td>0</td>\n",
       "    </tr>\n",
       "    <tr>\n",
       "      <th>3</th>\n",
       "      <td>http://www.foxnews.com/politics/2013/04/03/oba...</td>\n",
       "      <td>Opinion</td>\n",
       "      <td>1</td>\n",
       "      <td>Civil Rights</td>\n",
       "      <td>Civil Rights</td>\n",
       "      <td>Neutral</td>\n",
       "      <td>Neutral</td>\n",
       "      <td>0</td>\n",
       "    </tr>\n",
       "    <tr>\n",
       "      <th>4</th>\n",
       "      <td>http://www.breitbart.com/Big-Government/2013/1...</td>\n",
       "      <td>Opinion</td>\n",
       "      <td>1</td>\n",
       "      <td>Civil Rights</td>\n",
       "      <td>Civil Rights</td>\n",
       "      <td>Neutral</td>\n",
       "      <td>Neutral</td>\n",
       "      <td>0</td>\n",
       "    </tr>\n",
       "  </tbody>\n",
       "</table>\n",
       "</div>"
      ],
      "text/plain": [
       "                                                 url       q3  perceived  \\\n",
       "0  http://www.usatoday.com/story/news/nation/2013...    other          1   \n",
       "1  http://www.huffingtonpost.com/2013/05/21/senat...     News          0   \n",
       "2  http://www.washingtonpost.com/opinions/dont-le...  Opinion          1   \n",
       "3  http://www.foxnews.com/politics/2013/04/03/oba...  Opinion          1   \n",
       "4  http://www.breitbart.com/Big-Government/2013/1...  Opinion          1   \n",
       "\n",
       "  primary_topic secondary_topic democrat_vote republican_vote  Bias  \n",
       "0  Civil Rights    Civil Rights       Neutral         Neutral     0  \n",
       "1  Civil Rights    Civil Rights       Neutral         Neutral     0  \n",
       "2  Civil Rights    Civil Rights       Neutral         Neutral     0  \n",
       "3  Civil Rights    Civil Rights       Neutral         Neutral     0  \n",
       "4  Civil Rights    Civil Rights       Neutral         Neutral     0  "
      ]
     },
     "execution_count": 37,
     "metadata": {},
     "output_type": "execute_result"
    }
   ],
   "source": [
    "bias = []\n",
    "for i in tqdm(range(len(df1))):\n",
    "    bias.append(Crunch(getNumVal(df1.at[i, 'democrat_vote']), getNumVal(df1.at[i, 'republican_vote'])))\n",
    "\n",
    "df1['Bias'] = bias\n",
    "df1.head()"
   ]
  },
  {
   "cell_type": "code",
   "execution_count": 38,
   "metadata": {},
   "outputs": [],
   "source": [
    "df1.to_csv(r'..\\data\\kaggleUPDATED.csv')"
   ]
  },
  {
   "cell_type": "code",
   "execution_count": 11,
   "metadata": {},
   "outputs": [],
   "source": [
    "df = pd.read_csv(r'../data/articles2.csv')"
   ]
  },
  {
   "cell_type": "code",
   "execution_count": 9,
   "metadata": {},
   "outputs": [],
   "source": [
    "df = pd.read_csv(r'../data/articles1.csv')"
   ]
  },
  {
   "cell_type": "code",
   "execution_count": 14,
   "metadata": {},
   "outputs": [
    {
     "data": {
      "application/vnd.jupyter.widget-view+json": {
       "model_id": "bac41accc3a14bcabb69eea757824af6",
       "version_major": 2,
       "version_minor": 0
      },
      "text/plain": [
       "  0%|          | 0/9713 [00:00<?, ?it/s]"
      ]
     },
     "metadata": {},
     "output_type": "display_data"
    },
    {
     "data": {
      "application/vnd.jupyter.widget-view+json": {
       "model_id": "908577623edf46e985788f7a159a4624",
       "version_major": 2,
       "version_minor": 0
      },
      "text/plain": [
       "  0%|          | 0/9713 [00:00<?, ?it/s]"
      ]
     },
     "metadata": {},
     "output_type": "display_data"
    }
   ],
   "source": [
    "char = ['a', 'b', 'c', 'd', 'e', 'f', 'g', 'h', 'i', 'j', 'k', 'l', 'm', 'n', 'o', 'p', 'q', 'r', 's', 't', 'u', 'v', 'w', 'x', 'y', 'z', ' ']\n",
    "\n",
    "for i in tqdm(range(len(df))):\n",
    "    string = df.at[i, 'text']\n",
    "    df.at[i, 'text'] = ''.join(e for e in string if e.lower() in char)\n",
    "\n",
    "for i in tqdm(range(len(df))):\n",
    "    string = df.at[i, 'headline']\n",
    "    df.at[i, 'headline'] = ''.join(e for e in string if e.lower() in char)"
   ]
  },
  {
   "cell_type": "code",
   "execution_count": 15,
   "metadata": {},
   "outputs": [
    {
     "data": {
      "text/plain": [
       "0       The acquittal of George Zimmerman in the killi...\n",
       "1       WASHINGTON  The Senate Judiciary Committee app...\n",
       "2       David Cole is a professor of constitutional la...\n",
       "3       Latest setback for landmark legislation Lots o...\n",
       "4       In a public statement that will be released Th...\n",
       "                              ...                        \n",
       "9708    Our challenge today is to explain how Congress...\n",
       "9709    President Obama won reelection in part by beat...\n",
       "9710    Rep Steve Stockmans moment as a viable Senate ...\n",
       "9711    We interrupt this highly partisan and ideologi...\n",
       "9712    ABC News This Week took some heat on Sunday ov...\n",
       "Name: text, Length: 9713, dtype: object"
      ]
     },
     "execution_count": 15,
     "metadata": {},
     "output_type": "execute_result"
    }
   ],
   "source": [
    "df['text']"
   ]
  },
  {
   "cell_type": "code",
   "execution_count": 16,
   "metadata": {},
   "outputs": [],
   "source": [
    "df.to_csv(r'..\\data\\adFontesinOUT.csv')"
   ]
  }
 ],
 "metadata": {
  "kernelspec": {
   "display_name": "Python 3.9.13 ('pww3')",
   "language": "python",
   "name": "python3"
  },
  "language_info": {
   "codemirror_mode": {
    "name": "ipython",
    "version": 3
   },
   "file_extension": ".py",
   "mimetype": "text/x-python",
   "name": "python",
   "nbconvert_exporter": "python",
   "pygments_lexer": "ipython3",
   "version": "3.9.13"
  },
  "orig_nbformat": 4,
  "vscode": {
   "interpreter": {
    "hash": "9bfb2af505bcafee846240d94eb88b72f3d716c790475ff172ee572d9cd64fb0"
   }
  }
 },
 "nbformat": 4,
 "nbformat_minor": 2
}
