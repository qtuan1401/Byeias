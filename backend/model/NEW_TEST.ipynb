{
 "cells": [
  {
   "cell_type": "code",
   "execution_count": 1,
   "metadata": {},
   "outputs": [
    {
     "name": "stderr",
     "output_type": "stream",
     "text": [
      "C:\\Users\\Sam's PC\\AppData\\Local\\Packages\\PythonSoftwareFoundation.Python.3.10_qbz5n2kfra8p0\\LocalCache\\local-packages\\Python310\\site-packages\\requests\\__init__.py:102: RequestsDependencyWarning: urllib3 (1.26.9) or chardet (5.0.0)/charset_normalizer (2.0.12) doesn't match a supported version!\n",
      "  warnings.warn(\"urllib3 ({}) or chardet ({})/charset_normalizer ({}) doesn't match a supported \"\n"
     ]
    }
   ],
   "source": [
    "## for data\n",
    "import json\n",
    "import pandas as pd\n",
    "import numpy as np\n",
    "from sklearn import metrics, manifold\n",
    "## for processing\n",
    "import re\n",
    "import nltk\n",
    "## for plotting\n",
    "import matplotlib.pyplot as plt\n",
    "import seaborn as sns\n",
    "## for w2v\n",
    "import gensim\n",
    "import gensim.downloader as gensim_api\n",
    "## for bert\n",
    "from transformers import BertTokenizer, BertModel\n",
    "import transformers\n",
    "\n",
    "from tqdm.notebook import tqdm\n",
    "tqdm.pandas()\n",
    "import torch\n",
    "\n",
    "#device = torch.device('cuda' if torch.cuda.is_available() else 'cpu')\n",
    "#print(device)"
   ]
  },
  {
   "cell_type": "code",
   "execution_count": 2,
   "metadata": {},
   "outputs": [
    {
     "data": {
      "text/html": [
       "<div>\n",
       "<style scoped>\n",
       "    .dataframe tbody tr th:only-of-type {\n",
       "        vertical-align: middle;\n",
       "    }\n",
       "\n",
       "    .dataframe tbody tr th {\n",
       "        vertical-align: top;\n",
       "    }\n",
       "\n",
       "    .dataframe thead th {\n",
       "        text-align: right;\n",
       "    }\n",
       "</style>\n",
       "<table border=\"1\" class=\"dataframe\">\n",
       "  <thead>\n",
       "    <tr style=\"text-align: right;\">\n",
       "      <th></th>\n",
       "      <th>y</th>\n",
       "      <th>text</th>\n",
       "    </tr>\n",
       "  </thead>\n",
       "  <tbody>\n",
       "    <tr>\n",
       "      <th>17842</th>\n",
       "      <td>Male</td>\n",
       "      <td>Administrators at Georgetown University releas...</td>\n",
       "    </tr>\n",
       "    <tr>\n",
       "      <th>10152</th>\n",
       "      <td>Male</td>\n",
       "      <td>Washington (CNN) The White House can’t get its...</td>\n",
       "    </tr>\n",
       "    <tr>\n",
       "      <th>450</th>\n",
       "      <td>Male</td>\n",
       "      <td>Leaked tapes of CNN employees released by Proj...</td>\n",
       "    </tr>\n",
       "    <tr>\n",
       "      <th>40091</th>\n",
       "      <td>Female</td>\n",
       "      <td>COPENHAGEN, Denmark (AP)  —   A Danish prosecu...</td>\n",
       "    </tr>\n",
       "    <tr>\n",
       "      <th>71</th>\n",
       "      <td>Male</td>\n",
       "      <td>Former Late Show host David Letterman says he ...</td>\n",
       "    </tr>\n",
       "  </tbody>\n",
       "</table>\n",
       "</div>"
      ],
      "text/plain": [
       "            y                                               text\n",
       "17842    Male  Administrators at Georgetown University releas...\n",
       "10152    Male  Washington (CNN) The White House can’t get its...\n",
       "450      Male  Leaked tapes of CNN employees released by Proj...\n",
       "40091  Female  COPENHAGEN, Denmark (AP)  —   A Danish prosecu...\n",
       "71       Male  Former Late Show host David Letterman says he ..."
      ]
     },
     "execution_count": 2,
     "metadata": {},
     "output_type": "execute_result"
    }
   ],
   "source": [
    "df = pd.read_csv(r'..\\data\\dataout.csv')\n",
    "\n",
    "df = df[df[\"label\"].isin(['Male','Female'])][[\"label\",\"text\"]]\n",
    "\n",
    "df = df.rename(columns={\"label\":\"y\", \"text\":\"text\"})\n",
    "\n",
    "df.sample(5)"
   ]
  },
  {
   "cell_type": "code",
   "execution_count": 3,
   "metadata": {},
   "outputs": [],
   "source": [
    "'''\n",
    "Preprocess a string.\n",
    ":parameter\n",
    "    :param text: string - name of column containing text\n",
    "    :param lst_stopwords: list - list of stopwords to remove\n",
    "    :param flg_stemm: bool - whether stemming is to be applied\n",
    "    :param flg_lemm: bool - whether lemmitisation is to be applied\n",
    ":return\n",
    "    cleaned text\n",
    "'''\n",
    "def utils_preprocess_text(text, flg_stemm=False, flg_lemm=True, lst_stopwords=None):\n",
    "    ## clean (convert to lowercase and remove punctuations and   \n",
    "    #characters and then strip)\n",
    "    text = re.sub(r'[^\\w\\s]', '', str(text).lower().strip())\n",
    "            \n",
    "    ## Tokenize (convert from string to list)\n",
    "    lst_text = text.split()    \n",
    "    ## remove Stopwords\n",
    "    if lst_stopwords is not None:\n",
    "        lst_text = [word for word in lst_text if word not in \n",
    "                    lst_stopwords]\n",
    "                \n",
    "    ## Stemming (remove -ing, -ly, ...)\n",
    "    if flg_stemm == True:\n",
    "        ps = nltk.stem.porter.PorterStemmer()\n",
    "        lst_text = [ps.stem(word) for word in lst_text]\n",
    "                \n",
    "    ## Lemmatisation (convert the word into root word)\n",
    "    if flg_lemm == True:\n",
    "        lem = nltk.stem.wordnet.WordNetLemmatizer()\n",
    "        lst_text = [lem.lemmatize(word) for word in lst_text]\n",
    "            \n",
    "    ## back to string from list\n",
    "    text = \" \".join(lst_text)\n",
    "    return text"
   ]
  },
  {
   "cell_type": "code",
   "execution_count": 4,
   "metadata": {},
   "outputs": [
    {
     "data": {
      "text/plain": [
       "['i',\n",
       " 'me',\n",
       " 'my',\n",
       " 'myself',\n",
       " 'we',\n",
       " 'our',\n",
       " 'ours',\n",
       " 'ourselves',\n",
       " 'you',\n",
       " \"you're\",\n",
       " \"you've\",\n",
       " \"you'll\",\n",
       " \"you'd\",\n",
       " 'your',\n",
       " 'yours',\n",
       " 'yourself',\n",
       " 'yourselves',\n",
       " 'he',\n",
       " 'him',\n",
       " 'his',\n",
       " 'himself',\n",
       " 'she',\n",
       " \"she's\",\n",
       " 'her',\n",
       " 'hers',\n",
       " 'herself',\n",
       " 'it',\n",
       " \"it's\",\n",
       " 'its',\n",
       " 'itself',\n",
       " 'they',\n",
       " 'them',\n",
       " 'their',\n",
       " 'theirs',\n",
       " 'themselves',\n",
       " 'what',\n",
       " 'which',\n",
       " 'who',\n",
       " 'whom',\n",
       " 'this',\n",
       " 'that',\n",
       " \"that'll\",\n",
       " 'these',\n",
       " 'those',\n",
       " 'am',\n",
       " 'is',\n",
       " 'are',\n",
       " 'was',\n",
       " 'were',\n",
       " 'be',\n",
       " 'been',\n",
       " 'being',\n",
       " 'have',\n",
       " 'has',\n",
       " 'had',\n",
       " 'having',\n",
       " 'do',\n",
       " 'does',\n",
       " 'did',\n",
       " 'doing',\n",
       " 'a',\n",
       " 'an',\n",
       " 'the',\n",
       " 'and',\n",
       " 'but',\n",
       " 'if',\n",
       " 'or',\n",
       " 'because',\n",
       " 'as',\n",
       " 'until',\n",
       " 'while',\n",
       " 'of',\n",
       " 'at',\n",
       " 'by',\n",
       " 'for',\n",
       " 'with',\n",
       " 'about',\n",
       " 'against',\n",
       " 'between',\n",
       " 'into',\n",
       " 'through',\n",
       " 'during',\n",
       " 'before',\n",
       " 'after',\n",
       " 'above',\n",
       " 'below',\n",
       " 'to',\n",
       " 'from',\n",
       " 'up',\n",
       " 'down',\n",
       " 'in',\n",
       " 'out',\n",
       " 'on',\n",
       " 'off',\n",
       " 'over',\n",
       " 'under',\n",
       " 'again',\n",
       " 'further',\n",
       " 'then',\n",
       " 'once',\n",
       " 'here',\n",
       " 'there',\n",
       " 'when',\n",
       " 'where',\n",
       " 'why',\n",
       " 'how',\n",
       " 'all',\n",
       " 'any',\n",
       " 'both',\n",
       " 'each',\n",
       " 'few',\n",
       " 'more',\n",
       " 'most',\n",
       " 'other',\n",
       " 'some',\n",
       " 'such',\n",
       " 'no',\n",
       " 'nor',\n",
       " 'not',\n",
       " 'only',\n",
       " 'own',\n",
       " 'same',\n",
       " 'so',\n",
       " 'than',\n",
       " 'too',\n",
       " 'very',\n",
       " 's',\n",
       " 't',\n",
       " 'can',\n",
       " 'will',\n",
       " 'just',\n",
       " 'don',\n",
       " \"don't\",\n",
       " 'should',\n",
       " \"should've\",\n",
       " 'now',\n",
       " 'd',\n",
       " 'll',\n",
       " 'm',\n",
       " 'o',\n",
       " 're',\n",
       " 've',\n",
       " 'y',\n",
       " 'ain',\n",
       " 'aren',\n",
       " \"aren't\",\n",
       " 'couldn',\n",
       " \"couldn't\",\n",
       " 'didn',\n",
       " \"didn't\",\n",
       " 'doesn',\n",
       " \"doesn't\",\n",
       " 'hadn',\n",
       " \"hadn't\",\n",
       " 'hasn',\n",
       " \"hasn't\",\n",
       " 'haven',\n",
       " \"haven't\",\n",
       " 'isn',\n",
       " \"isn't\",\n",
       " 'ma',\n",
       " 'mightn',\n",
       " \"mightn't\",\n",
       " 'mustn',\n",
       " \"mustn't\",\n",
       " 'needn',\n",
       " \"needn't\",\n",
       " 'shan',\n",
       " \"shan't\",\n",
       " 'shouldn',\n",
       " \"shouldn't\",\n",
       " 'wasn',\n",
       " \"wasn't\",\n",
       " 'weren',\n",
       " \"weren't\",\n",
       " 'won',\n",
       " \"won't\",\n",
       " 'wouldn',\n",
       " \"wouldn't\"]"
      ]
     },
     "execution_count": 4,
     "metadata": {},
     "output_type": "execute_result"
    }
   ],
   "source": [
    "lst_stopwords = nltk.corpus.stopwords.words(\"english\")\n",
    "lst_stopwords"
   ]
  },
  {
   "cell_type": "code",
   "execution_count": 5,
   "metadata": {},
   "outputs": [
    {
     "data": {
      "application/vnd.jupyter.widget-view+json": {
       "model_id": "776bbd6f14ab4aeea13ee5b28c7c18db",
       "version_major": 2,
       "version_minor": 0
      },
      "text/plain": [
       "  0%|          | 0/40666 [00:00<?, ?it/s]"
      ]
     },
     "metadata": {},
     "output_type": "display_data"
    },
    {
     "data": {
      "text/html": [
       "<div>\n",
       "<style scoped>\n",
       "    .dataframe tbody tr th:only-of-type {\n",
       "        vertical-align: middle;\n",
       "    }\n",
       "\n",
       "    .dataframe tbody tr th {\n",
       "        vertical-align: top;\n",
       "    }\n",
       "\n",
       "    .dataframe thead th {\n",
       "        text-align: right;\n",
       "    }\n",
       "</style>\n",
       "<table border=\"1\" class=\"dataframe\">\n",
       "  <thead>\n",
       "    <tr style=\"text-align: right;\">\n",
       "      <th></th>\n",
       "      <th>y</th>\n",
       "      <th>text</th>\n",
       "      <th>text_clean</th>\n",
       "    </tr>\n",
       "  </thead>\n",
       "  <tbody>\n",
       "    <tr>\n",
       "      <th>0</th>\n",
       "      <td>Male</td>\n",
       "      <td>WASHINGTON  —   Congressional Republicans have...</td>\n",
       "      <td>washington congressional republican new fear c...</td>\n",
       "    </tr>\n",
       "    <tr>\n",
       "      <th>1</th>\n",
       "      <td>Male</td>\n",
       "      <td>The NFL needs to get its “priorities in order,...</td>\n",
       "      <td>nfl need get priority order team hire colin ka...</td>\n",
       "    </tr>\n",
       "    <tr>\n",
       "      <th>2</th>\n",
       "      <td>Male</td>\n",
       "      <td>In an   in the New York Times, actress Lena Du...</td>\n",
       "      <td>new york time actress lena dunham say presiden...</td>\n",
       "    </tr>\n",
       "    <tr>\n",
       "      <th>3</th>\n",
       "      <td>Male</td>\n",
       "      <td>A waitress was fired after retrieving a gun fo...</td>\n",
       "      <td>waitress fired retrieving gun alleged robbery ...</td>\n",
       "    </tr>\n",
       "    <tr>\n",
       "      <th>4</th>\n",
       "      <td>Male</td>\n",
       "      <td>WASHINGTON  —   The White House on Thursday “c...</td>\n",
       "      <td>washington white house thursday counseled kell...</td>\n",
       "    </tr>\n",
       "  </tbody>\n",
       "</table>\n",
       "</div>"
      ],
      "text/plain": [
       "      y                                               text  \\\n",
       "0  Male  WASHINGTON  —   Congressional Republicans have...   \n",
       "1  Male  The NFL needs to get its “priorities in order,...   \n",
       "2  Male  In an   in the New York Times, actress Lena Du...   \n",
       "3  Male  A waitress was fired after retrieving a gun fo...   \n",
       "4  Male  WASHINGTON  —   The White House on Thursday “c...   \n",
       "\n",
       "                                          text_clean  \n",
       "0  washington congressional republican new fear c...  \n",
       "1  nfl need get priority order team hire colin ka...  \n",
       "2  new york time actress lena dunham say presiden...  \n",
       "3  waitress fired retrieving gun alleged robbery ...  \n",
       "4  washington white house thursday counseled kell...  "
      ]
     },
     "execution_count": 5,
     "metadata": {},
     "output_type": "execute_result"
    }
   ],
   "source": [
    "df[\"text_clean\"] = df[\"text\"].progress_apply(lambda x: utils_preprocess_text(x, flg_stemm=False, flg_lemm=True, lst_stopwords=lst_stopwords))\n",
    "df.head()"
   ]
  },
  {
   "cell_type": "code",
   "execution_count": 6,
   "metadata": {},
   "outputs": [],
   "source": [
    "nlp = gensim_api.load(\"glove-wiki-gigaword-300\")"
   ]
  },
  {
   "cell_type": "code",
   "execution_count": 7,
   "metadata": {},
   "outputs": [
    {
     "data": {
      "text/plain": [
       "[('barack', 0.9254721999168396),\n",
       " ('mccain', 0.7590768337249756),\n",
       " ('bush', 0.7570988535881042)]"
      ]
     },
     "execution_count": 7,
     "metadata": {},
     "output_type": "execute_result"
    }
   ],
   "source": [
    "nlp.most_similar([\"obama\"], topn=3)"
   ]
  },
  {
   "cell_type": "code",
   "execution_count": 8,
   "metadata": {},
   "outputs": [
    {
     "name": "stdout",
     "output_type": "stream",
     "text": [
      "MALE :  ['aggressive', 'competitive', 'champion', 'determined', 'desire'] ... 45\n",
      "FEMALE :  ['affectionate', 'committed', 'depend', 'polite', 'affection'] ... 41\n"
     ]
    }
   ],
   "source": [
    "## Function to apply\n",
    "def get_similar_words(lst_words, top, nlp):\n",
    "    lst_out = lst_words\n",
    "    for tupla in nlp.most_similar(lst_words, topn=top):\n",
    "        lst_out.append(tupla[0])\n",
    "    return list(set(lst_out))\n",
    "## Create Dictionary {category:[keywords]}\n",
    "dic_clusters = {}\n",
    "dic_clusters[\"MALE\"] = get_similar_words([\"active\", \"adventurous\", \"aggressive\", \"ambition\", \"assert\", \"athletic\", \"autonomous\", \"boast\", \"challenge\", \"champion\", \"competitive\", \"decisive\", \"determination\", \"strong\", \"stubborn\"]\n",
    ", top=30, nlp=nlp)\n",
    "dic_clusters[\"FEMALE\"] = get_similar_words([\"affectionate\", \"childlike\", \"cheer\", \"committed\", \"compassion\", \"connect\", \"considerate\", \"depend\", \"emotion\", \"feminine\", \"gentle\"]\n",
    ", top=30, nlp=nlp)\n",
    "## print some\n",
    "for k,v in dic_clusters.items():\n",
    "    print(k, \": \", v[0:5], \"...\", len(v))"
   ]
  },
  {
   "cell_type": "code",
   "execution_count": 9,
   "metadata": {},
   "outputs": [
    {
     "name": "stderr",
     "output_type": "stream",
     "text": [
      "C:\\Users\\Sam's PC\\AppData\\Local\\Packages\\PythonSoftwareFoundation.Python.3.10_qbz5n2kfra8p0\\LocalCache\\local-packages\\Python310\\site-packages\\sklearn\\manifold\\_t_sne.py:805: FutureWarning: The default learning rate in TSNE will change from 200.0 to 'auto' in 1.2.\n",
      "  warnings.warn(\n",
      "C:\\Users\\Sam's PC\\AppData\\Local\\Packages\\PythonSoftwareFoundation.Python.3.10_qbz5n2kfra8p0\\LocalCache\\local-packages\\Python310\\site-packages\\sklearn\\manifold\\_t_sne.py:991: FutureWarning: The PCA initialization in TSNE will change to have the standard deviation of PC1 equal to 1e-4 in 1.2. This will ensure better convergence.\n",
      "  warnings.warn(\n",
      "C:\\Users\\Sam's PC\\AppData\\Local\\Temp\\ipykernel_28480\\1070322801.py:16: FutureWarning: The frame.append method is deprecated and will be removed from pandas in a future version. Use pandas.concat instead.\n",
      "  dtf = dtf.append(dtf_group)\n",
      "C:\\Users\\Sam's PC\\AppData\\Local\\Temp\\ipykernel_28480\\1070322801.py:16: FutureWarning: The frame.append method is deprecated and will be removed from pandas in a future version. Use pandas.concat instead.\n",
      "  dtf = dtf.append(dtf_group)\n"
     ]
    },
    {
     "data": {
      "image/png": "[encoded data removed]",
      "text/plain": [
       "<Figure size 1080x1080 with 1 Axes>"
      ]
     },
     "metadata": {},
     "output_type": "display_data"
    }
   ],
   "source": [
    "## word embedding\n",
    "tot_words = [word for v in dic_clusters.values() for word in v]\n",
    "X = nlp[tot_words]\n",
    "        \n",
    "## pca\n",
    "pca = manifold.TSNE(perplexity=40, n_components=2, init='pca')\n",
    "X = pca.fit_transform(X)\n",
    "\n",
    "## create dtf\n",
    "dtf = pd.DataFrame()\n",
    "for k,v in dic_clusters.items():\n",
    "    size = len(dtf) + len(v)\n",
    "    dtf_group = pd.DataFrame(X[len(dtf):size], columns=[\"x\",\"y\"], \n",
    "                             index=v)\n",
    "    dtf_group[\"cluster\"] = k\n",
    "    dtf = dtf.append(dtf_group)\n",
    "        \n",
    "## plot\n",
    "%matplotlib inline\n",
    "fig, ax = plt.subplots(figsize=(15,15))\n",
    "sns.scatterplot(data=dtf, x=\"x\", y=\"y\", hue=\"cluster\", ax=ax)\n",
    "ax.legend().texts[0].set_text(None)\n",
    "ax.set(xlabel=None, ylabel=None, xticks=[], xticklabels=[], \n",
    "       yticks=[], yticklabels=[])\n",
    "for i in range(len(dtf)):\n",
    "    ax.annotate(dtf.index[i], \n",
    "               xy=(dtf[\"x\"].iloc[i],dtf[\"y\"].iloc[i]), \n",
    "               xytext=(5,2), textcoords='offset points', \n",
    "               ha='right', va='bottom')"
   ]
  },
  {
   "cell_type": "code",
   "execution_count": 10,
   "metadata": {},
   "outputs": [
    {
     "name": "stderr",
     "output_type": "stream",
     "text": [
      "Some layers from the model checkpoint at bert-base-uncased were not used when initializing TFBertModel: ['mlm___cls', 'nsp___cls']\n",
      "- This IS expected if you are initializing TFBertModel from the checkpoint of a model trained on another task or with another architecture (e.g. initializing a BertForSequenceClassification model from a BertForPreTraining model).\n",
      "- This IS NOT expected if you are initializing TFBertModel from the checkpoint of a model that you expect to be exactly identical (initializing a BertForSequenceClassification model from a BertForSequenceClassification model).\n",
      "All the layers of TFBertModel were initialized from the model checkpoint at bert-base-uncased.\n",
      "If your task is similar to the task the model of the checkpoint was trained on, you can already use TFBertModel for predictions without further training.\n"
     ]
    }
   ],
   "source": [
    "tokenizer = transformers.BertTokenizer.from_pretrained('bert-base-uncased', do_lower_case=True)\n",
    "nlp = transformers.TFBertModel.from_pretrained('bert-base-uncased')"
   ]
  },
  {
   "cell_type": "code",
   "execution_count": 11,
   "metadata": {},
   "outputs": [
    {
     "name": "stdout",
     "output_type": "stream",
     "text": [
      "tokens: ['[CLS]', 'river', 'bank', '[SEP]']\n",
      "ids   : [101, 2314, 2924, 102]\n",
      "shape: (4, 768)\n"
     ]
    },
    {
     "data": {
      "text/plain": [
       "<tf.Tensor: shape=(768,), dtype=float32, numpy=\n",
       "array([-7.05835894e-02, -6.21527851e-01, -7.02520430e-01, -2.49586910e-01,\n",
       "        5.77253342e-01,  4.81010735e-01,  2.44046241e-01,  5.12865067e-01,\n",
       "       -3.52891147e-01, -8.16164017e-01,  3.99640828e-01,  1.81418553e-01,\n",
       "        5.12113571e-01,  1.44479632e-01, -1.42232656e+00, -1.06336586e-01,\n",
       "        1.06117325e-02, -4.34668303e-01,  1.13796592e+00,  7.06454068e-02,\n",
       "        6.18477345e-01,  5.76442443e-02,  2.41198316e-01,  2.96009958e-01,\n",
       "       -2.22419620e-01,  2.06982940e-01,  4.50172275e-01,  1.95635006e-01,\n",
       "        7.22124428e-03,  7.06086159e-01,  6.82602108e-01, -3.35966259e-01,\n",
       "        4.75640863e-01,  3.38769197e-01, -1.90572947e-01, -1.12145936e+00,\n",
       "       -4.32032682e-02, -1.56870604e-01,  4.73269001e-02,  3.38264823e-01,\n",
       "       -4.73710179e-01, -2.87370920e-01, -6.14660904e-02,  3.93012576e-02,\n",
       "       -9.84508172e-02,  5.61623322e-03,  2.15945393e-01, -3.90440971e-02,\n",
       "       -7.03860879e-01,  1.26936287e-01,  2.32843496e-02,  3.95275652e-01,\n",
       "       -6.29367888e-01,  3.81531268e-02,  1.70966208e-01,  5.68100989e-01,\n",
       "        3.44137669e-01, -3.54945630e-01, -6.42791986e-01,  3.69591117e-02,\n",
       "        4.56915319e-01, -4.82000351e-01, -1.08038768e-01, -3.91956359e-01,\n",
       "       -4.09993343e-03,  1.90877452e-01,  4.32798922e-01,  4.64556307e-01,\n",
       "       -1.09928727e-01,  4.95213389e-01,  3.35495710e-01,  9.19854581e-01,\n",
       "        1.60181344e-01, -3.24443400e-01, -2.13523954e-01, -2.57019430e-01,\n",
       "       -9.23125446e-02,  3.47399563e-01,  1.76730528e-02, -6.76496923e-01,\n",
       "        2.30417997e-02,  3.04451942e-01, -3.35733682e-01, -3.64999533e-01,\n",
       "        2.54926115e-01, -3.78172658e-03, -2.61938155e-01,  4.59400192e-02,\n",
       "       -5.98168790e-01,  1.34261712e-01, -2.98345089e-03, -2.02114180e-01,\n",
       "       -3.15182686e-01, -4.79585677e-01, -5.52915931e-01, -6.71899199e-01,\n",
       "       -5.31220198e-01,  4.36105132e-01,  2.09883392e-01,  4.80140969e-02,\n",
       "        1.39080018e-01, -1.47947729e+00,  5.66853404e-01,  6.15151823e-01,\n",
       "       -3.56207132e-01, -2.63006747e-01,  1.01355519e-02, -6.43103182e-01,\n",
       "        2.58244753e-01,  2.32511163e-01,  4.64122176e-01, -2.44039267e-01,\n",
       "        4.84117508e-01, -3.53591681e-01, -2.42070809e-01,  7.80023336e-01,\n",
       "       -4.30729479e-01, -2.18241230e-01,  5.32296970e-02, -2.59027302e-01,\n",
       "        4.95920442e-02, -7.91403353e-01, -9.06875171e-03,  6.38764203e-01,\n",
       "        4.24308330e-01, -1.31179690e-01, -4.59278047e-01,  3.56200546e-01,\n",
       "       -1.75913900e-01,  3.44446003e-02,  5.73057234e-01,  6.46476090e-01,\n",
       "       -3.10187221e-01, -2.63747334e-01,  1.71438515e-01,  4.31292236e-01,\n",
       "        2.61797756e-01, -5.92406631e-01,  1.16353840e-01, -1.67205423e-01,\n",
       "        1.51265815e-01,  2.25872368e-01,  5.90591431e-01, -3.84857893e-01,\n",
       "        7.62635767e-01,  3.75621676e-01, -2.16537230e-02,  2.61089578e-03,\n",
       "       -1.22947969e-01, -1.42603338e-01, -5.58466852e-01,  1.84802026e-01,\n",
       "        1.34969339e-01, -3.00817013e-01, -1.40653476e-01, -2.84046561e-01,\n",
       "        3.68142009e-01, -7.88777396e-02,  8.16221610e-02,  3.53941441e-01,\n",
       "        7.25304723e-01, -1.98858842e-01, -9.37023163e-02, -2.47795805e-01,\n",
       "        1.00958496e-02, -4.40252990e-01,  8.03752765e-02,  8.61830711e-01,\n",
       "       -2.80023217e-01,  2.43793547e-01, -2.55485743e-01, -6.22629046e-01,\n",
       "        8.91300023e-01, -3.78196329e-01,  4.81685013e-01, -1.31670430e-01,\n",
       "       -9.29356441e-02, -2.27651894e-01, -2.18560383e-01,  2.51978368e-01,\n",
       "       -4.14544433e-01,  6.38253927e-01, -2.09495857e-01, -2.63460457e-01,\n",
       "        1.16117239e-01, -2.14024112e-01, -2.03430690e-02, -3.07718843e-01,\n",
       "        4.89083648e-01, -5.23291767e-01, -2.68585652e-01, -2.40036368e-01,\n",
       "       -1.06200266e+00,  1.88382752e-02, -1.60929263e-01, -1.01985967e+00,\n",
       "        5.90836763e-01, -6.42786264e-01, -8.47216845e-02, -3.06485236e-01,\n",
       "        8.82111728e-01, -2.22461969e-01,  6.53649449e-01,  1.32980824e-01,\n",
       "       -7.89764225e-02,  1.58833474e-01,  5.28017133e-02, -5.36138773e-01,\n",
       "        3.76914144e-01, -1.95731625e-01, -1.05869639e+00,  1.22580123e+00,\n",
       "       -4.32513237e-01,  1.56179786e-01,  4.17976737e-01,  5.06608307e-01,\n",
       "        3.00547957e-01, -1.15750283e-01, -1.31255269e-01,  2.43952811e-01,\n",
       "        3.04260105e-01, -1.83685109e-01, -2.73578405e-01,  2.48490453e-01,\n",
       "       -5.74733436e-01,  1.66123763e-01,  8.01434040e-01, -7.78994501e-01,\n",
       "        3.50740552e-01,  9.98821575e-03, -1.67533308e-01, -1.51197799e-03,\n",
       "        6.18821144e-01, -9.38167930e-01, -7.05288231e-01,  3.10600072e-01,\n",
       "       -4.72783685e-01, -2.59023067e-03, -5.65323159e-02, -2.70520836e-01,\n",
       "       -8.73119906e-02, -2.50816107e-01,  7.15852141e-01, -4.99997288e-01,\n",
       "        8.42950761e-01, -3.66680354e-01,  5.70344985e-01,  3.78284723e-01,\n",
       "       -4.06487972e-01,  2.36989781e-01,  1.88772276e-01, -2.41789043e-01,\n",
       "        2.68502474e-01, -6.70118630e-01, -5.28158188e-01, -6.28461897e-01,\n",
       "        5.09835958e-01, -1.22902095e-02,  1.33168817e-01,  4.49765682e-01,\n",
       "        6.74467325e-01,  5.70162535e-01,  2.45731518e-01,  4.01135594e-01,\n",
       "       -9.42872643e-01,  1.56791195e-01, -1.69289172e-01,  1.17978696e-02,\n",
       "        3.04226905e-01, -3.04854572e-01, -3.91244963e-02, -3.05509977e-02,\n",
       "       -7.21112967e-01,  1.06757367e+00,  3.00460368e-01,  4.18399423e-01,\n",
       "        8.31745684e-01,  4.51772094e-01,  3.79973441e-01,  3.88881788e-02,\n",
       "        6.57027662e-01,  7.25771546e-01, -3.14089090e-01, -3.59059870e-01,\n",
       "        1.83104843e-01, -1.54706597e-01, -5.56595683e-01,  9.98494267e-01,\n",
       "       -6.66037649e-02, -6.32118106e-01, -4.20219094e-01,  7.07992792e-01,\n",
       "       -2.81464219e-01,  1.29889861e-01,  4.32142615e-01,  1.84356838e-01,\n",
       "        1.45688966e-01,  3.84362936e-01,  7.92327940e-01, -5.64119160e-01,\n",
       "       -1.06446415e-01,  5.07815719e-01,  6.34553850e-01, -4.61482882e-01,\n",
       "        2.33550016e-02, -2.44355470e-01,  2.96669416e-02,  3.87939841e-01,\n",
       "       -5.09566784e+00,  3.25122863e-01,  2.70959318e-01, -2.45784461e-01,\n",
       "        5.20607293e-01, -2.59495974e-01,  2.26687327e-01,  4.12778616e-01,\n",
       "       -9.39293504e-01, -3.45668435e-01, -2.12369144e-01, -2.65309393e-01,\n",
       "        9.28743362e-01,  1.25976488e-01,  4.61863160e-01, -1.70685917e-01,\n",
       "        2.99391076e-02, -1.23116933e-01, -3.72413754e-01,  7.04001606e-01,\n",
       "       -8.60568881e-01, -3.96888405e-01,  1.74347728e-01,  3.43549028e-02,\n",
       "        2.94832587e-01, -5.51690161e-02, -9.04103637e-01,  5.14416277e-01,\n",
       "       -5.95655024e-01, -8.28736782e-01, -3.05773973e-01, -4.44463402e-01,\n",
       "        2.46776402e-01,  2.60025561e-01, -3.76845747e-02, -2.72340626e-01,\n",
       "       -3.23043108e-01, -1.95683450e-01,  1.35771728e+00,  2.64337003e-01,\n",
       "       -3.37069213e-01,  2.24706560e-01,  1.42337233e-02,  6.10763311e-01,\n",
       "        6.25046849e-01, -2.88990345e-02, -1.12058483e-01,  6.25602901e-02,\n",
       "        9.25824344e-02,  3.06361198e-01,  6.45154774e-01, -3.09155673e-01,\n",
       "        1.95047364e-01, -4.13477302e-01,  1.58219323e-01,  2.78794523e-02,\n",
       "        2.99770296e-01,  4.09381837e-01, -1.60664707e-01, -5.25604606e-01,\n",
       "        9.30735096e-03, -2.23912030e-01, -7.08211243e-01,  7.54811764e-01,\n",
       "        1.37300268e-01, -6.34858072e-01, -3.26267421e-01, -6.11435950e-01,\n",
       "       -1.08044714e-01,  4.68449205e-01, -1.36660278e-01, -3.57973538e-02,\n",
       "       -4.62619625e-02, -1.34921598e+00, -6.69132352e-01, -7.68017694e-02,\n",
       "       -1.38481498e-01, -6.91290081e-01,  3.45081627e-01,  2.06307530e-01,\n",
       "        4.06490356e-01,  2.18174323e-01,  4.89817768e-01, -2.52893060e-01,\n",
       "       -3.96638930e-01, -1.33447833e-02,  2.86450922e-01, -8.36115718e-01,\n",
       "       -5.79416931e-01,  1.55946836e-01,  1.87061988e-02,  2.27966756e-01,\n",
       "        8.22064042e-01, -5.46189509e-02,  2.38469571e-01, -1.75592899e-02,\n",
       "       -1.40488129e-02, -5.42532504e-01,  5.88290155e-01, -4.79510784e-01,\n",
       "        4.75603759e-01,  1.37693405e-01,  2.97962815e-01, -1.64482445e-02,\n",
       "        1.56845421e-01, -1.74292415e-01, -3.28885138e-01, -2.70638000e-02,\n",
       "       -5.12318611e-01,  5.36372721e-01,  4.98790920e-01, -6.76408827e-01,\n",
       "        8.93731117e-01, -4.10579056e-01, -4.41285700e-01,  6.65356815e-01,\n",
       "       -3.68789196e-01, -3.10681403e-01,  5.77258840e-02,  1.66266188e-02,\n",
       "       -4.36823487e-01, -1.98796824e-01, -8.38396072e-01, -2.75925636e-01,\n",
       "        5.70901573e-01,  6.07043542e-02, -3.96039248e-01, -2.19091047e-02,\n",
       "       -4.66382802e-01,  3.16351026e-01,  3.00775558e-01, -8.25269669e-02,\n",
       "       -4.54365015e-01, -1.05746940e-01,  4.99332637e-01,  8.06269795e-02,\n",
       "       -1.68478161e-01, -3.27079564e-01,  2.79851079e-01,  4.51276690e-01,\n",
       "       -3.34558054e-03, -2.96770960e-01, -5.84577382e-01,  6.74262419e-02,\n",
       "       -3.56904924e-01,  6.97351635e-01, -6.37851536e-01, -3.46739173e-01,\n",
       "        5.98459065e-01,  3.27907860e-01, -4.81115222e-01, -1.78172104e-02,\n",
       "       -7.48055458e-01,  2.23826185e-01,  1.81035802e-01, -1.53702646e-01,\n",
       "        2.95592815e-01, -4.90509450e-01,  1.84494153e-01, -5.78599751e-01,\n",
       "        1.71369940e-01,  1.13209970e-01,  9.76380885e-01,  5.20987272e-01,\n",
       "       -5.42623997e-01,  1.49070287e+00, -4.90358591e-01,  2.38199890e-01,\n",
       "       -6.42929614e-01,  9.76637006e-03,  1.56221807e-01, -5.42557180e-01,\n",
       "       -5.47103047e-01,  6.85659587e-01, -4.22479957e-01,  4.70376015e-01,\n",
       "       -3.19047391e-01, -3.62102017e-02,  1.75794199e-01,  5.44762075e-01,\n",
       "        1.60022005e-02, -4.30534072e-02,  1.54865146e-01,  1.00404918e-02,\n",
       "        3.79647791e-01, -3.30429435e-01, -1.16251126e-01,  1.11685082e-01,\n",
       "        1.51155487e-01,  4.47435558e-01,  2.70549297e-01, -1.90932795e-01,\n",
       "       -1.18699167e-02,  2.20542327e-01,  2.91370779e-01, -1.84318244e-01,\n",
       "        5.94494283e-01, -1.68882981e-02,  6.41707361e-01,  4.78895366e-01,\n",
       "       -1.35716155e-01, -4.05712008e-01,  2.57224381e-01,  4.18806076e-02,\n",
       "        5.48230052e-01,  4.98181552e-01, -4.17168111e-01,  2.22165495e-01,\n",
       "       -3.69364709e-01, -9.92972255e-02,  1.18944012e-02,  9.73988324e-02,\n",
       "       -1.08804917e+00, -4.28479135e-01,  7.89455622e-02,  2.50575066e-01,\n",
       "        3.26776564e-01,  1.27973825e-01, -3.93071473e-01,  1.37819663e-01,\n",
       "       -8.86024907e-02, -3.02932322e-01, -3.75452280e-01,  1.14451498e-01,\n",
       "       -2.49078751e-01,  1.02986073e+00,  1.28851114e-02,  3.69055390e-01,\n",
       "       -4.02409434e-01,  4.51250553e-01, -2.32514367e-03, -2.73789823e-01,\n",
       "        4.64411885e-01,  1.09471090e-01,  1.92111507e-01,  1.90633148e-01,\n",
       "       -2.85185687e-03, -7.61587262e-01,  5.51085114e-01, -2.97583610e-01,\n",
       "       -3.14068347e-01, -5.06550848e-01, -8.09794545e-01,  8.66281688e-02,\n",
       "        1.05637819e-01, -2.30639443e-01,  3.99138853e-02,  9.17638689e-02,\n",
       "        1.72692716e-01,  5.10255933e-01, -6.98354766e-02,  1.74075946e-01,\n",
       "       -7.95518160e-02,  4.77046743e-02, -1.08656824e-01, -6.01285338e-01,\n",
       "       -4.80153590e-01, -3.36467922e-01,  3.23293328e-01,  2.46853337e-01,\n",
       "       -6.61450684e-01,  1.04187556e-01, -8.73299301e-01,  7.28583753e-01,\n",
       "        2.07723230e-01, -5.65804482e-01,  7.20600605e-01,  6.61033541e-02,\n",
       "        5.05186200e-01, -4.61345255e-01,  7.55366385e-01, -3.02061290e-01,\n",
       "        3.25518280e-01, -2.87938938e-02, -2.03581899e-01, -6.31705880e-01,\n",
       "       -1.34503156e-01, -9.36798930e-01,  5.96047938e-01, -1.48151621e-01,\n",
       "       -3.60356510e-01,  3.18802387e-01,  3.46438855e-01,  3.39910984e-02,\n",
       "       -2.35106479e-02,  2.02884495e-01, -2.27293104e-01, -3.86503994e-01,\n",
       "       -4.69509840e-01, -8.23507428e-01,  3.42902005e-01,  2.59832144e-02,\n",
       "       -1.63531765e-01,  7.20670819e-01, -2.44556725e-01,  4.09898371e-01,\n",
       "       -3.54666673e-02, -1.49890631e-01,  7.06514418e-02,  1.04205139e-01,\n",
       "        4.01480906e-02,  1.10258162e-01,  2.44277209e-01,  4.83493924e-01,\n",
       "        6.38711900e-02,  2.57360991e-02, -4.94440854e-01, -4.42098856e-01,\n",
       "        8.91103029e-01, -1.41584694e-01,  2.30833322e-01,  8.95358995e-02,\n",
       "        2.84393400e-01,  4.05946881e-01, -5.47499239e-01, -4.79591608e-01,\n",
       "        4.43912238e-01, -4.67123181e-01, -5.90441525e-01,  2.08942518e-01,\n",
       "        4.00534362e-01, -2.51209587e-01,  3.27977508e-01, -2.71053731e-01,\n",
       "        8.41553986e-01,  3.81588936e-01, -1.10229456e+00, -3.80530059e-01,\n",
       "        2.52161384e-01,  9.49076533e-01,  6.17840141e-02,  2.22279206e-01,\n",
       "       -8.49529505e-02,  1.34939462e-01,  3.53743702e-01,  3.87098730e-01,\n",
       "       -4.02409285e-01,  3.56720805e-01, -2.47163534e-01, -6.05630636e-01,\n",
       "       -2.51165181e-01, -1.74031809e-01,  1.70264959e-01,  1.73505805e-02,\n",
       "        9.11456570e-02, -7.20609486e-01,  2.29764074e-01, -4.32357341e-02,\n",
       "        2.11553916e-01,  1.19739544e+00,  1.59492821e-01, -7.39008188e-01,\n",
       "       -3.97460520e-01, -9.46618319e-01,  2.90421516e-01,  6.29969001e-01,\n",
       "        7.69779444e-01,  2.48221699e-02, -2.30727509e-01,  7.24616826e-01,\n",
       "       -3.36210936e-01, -2.80784629e-02, -7.17530474e-02, -6.34107769e-01,\n",
       "       -5.18057287e-01,  6.26521289e-01, -1.09302473e+00, -1.09138358e+00,\n",
       "       -3.67360950e-01,  5.28020144e-01,  8.45073462e-02, -4.83846776e-02,\n",
       "        6.24052942e-01,  2.59496242e-01, -1.59254715e-01, -1.82488889e-01,\n",
       "       -8.21158230e-01,  6.00646615e-01, -2.32977092e-01, -6.18040204e-01,\n",
       "        2.63902813e-01,  2.02762373e-02, -4.91833329e-01, -1.05306244e+00,\n",
       "        1.61270029e-03, -5.65238595e-01,  5.02529263e-01,  1.12662159e-01,\n",
       "       -2.48244241e-01, -2.28320196e-01, -6.37242794e-01, -2.92579055e-01,\n",
       "        3.23444664e-01, -2.60713696e-01,  6.83391631e-01,  4.15912151e-01,\n",
       "       -7.04911411e-01,  2.93709487e-01,  6.18630469e-01,  8.76966000e-01,\n",
       "        1.91211253e-01,  4.00349423e-02,  2.30684690e-02,  6.14984214e-01,\n",
       "       -2.26738602e-01, -3.46643090e-01, -1.01844713e-01,  4.94519100e-02,\n",
       "       -5.07169068e-01,  4.38308306e-02,  2.11273789e-01,  6.85974121e-01,\n",
       "       -4.53038454e-01,  9.65897679e-01, -1.86697587e-01, -7.04727054e-01,\n",
       "        3.83173466e-01,  1.27184749e-01, -2.15677917e-03, -5.13963044e-01,\n",
       "        1.98372170e-01, -2.15958178e-01, -3.33084166e-01,  3.61137003e-01,\n",
       "       -7.36761689e-01, -5.44082046e-01, -9.58240271e-01,  4.29290952e-03,\n",
       "       -1.55387223e-01,  2.23636284e-01, -1.09440172e+00, -2.90418267e-01,\n",
       "        1.64770186e-01,  1.28032231e+00, -4.93148774e-01,  2.22359002e-01,\n",
       "       -8.68629664e-02, -3.48527730e-01,  1.71594709e-01, -3.73098969e-01,\n",
       "        1.18067823e-01,  5.35375893e-01,  4.19967353e-01,  5.87412536e-01,\n",
       "        2.93205947e-01, -4.63824660e-01,  1.22145563e-01, -2.62990966e-03,\n",
       "        7.74010271e-03, -5.36711931e-01,  5.76291025e-01,  1.71325520e-01,\n",
       "        2.32047051e-01, -5.25719412e-02, -1.65186048e-01,  4.42101881e-02,\n",
       "        1.93824276e-01, -4.25719023e-01, -1.00089633e+00,  1.06256902e-01],\n",
       "      dtype=float32)>"
      ]
     },
     "execution_count": 11,
     "metadata": {},
     "output_type": "execute_result"
    }
   ],
   "source": [
    "txt = \"river bank\"\n",
    "## tokenize\n",
    "idx = tokenizer.encode(txt)\n",
    "print(\"tokens:\", tokenizer.convert_ids_to_tokens(idx))\n",
    "print(\"ids   :\", tokenizer.encode(txt))\n",
    "## word embedding\n",
    "idx = np.array(idx)[None,:]\n",
    "embedding = nlp(idx)\n",
    "print(\"shape:\", embedding[0][0].shape)\n",
    "## vector of the second input word\n",
    "embedding[0][0][2]"
   ]
  },
  {
   "cell_type": "code",
   "execution_count": 12,
   "metadata": {},
   "outputs": [],
   "source": [
    "## function to apply\n",
    "def utils_bert_embedding(txt, tokenizer, nlp):\n",
    "    idx = tokenizer.encode(txt)\n",
    "    idx = np.array(idx)[None,:]  \n",
    "    embedding = nlp(idx)\n",
    "    X = np.array(embedding[0][0][1:-1])\n",
    "    return X\n"
   ]
  },
  {
   "cell_type": "code",
   "execution_count": 13,
   "metadata": {},
   "outputs": [
    {
     "data": {
      "application/vnd.jupyter.widget-view+json": {
       "model_id": "e2870fd11473430cb1bd2156b6f18dcb",
       "version_major": 2,
       "version_minor": 0
      },
      "text/plain": [
       "  0%|          | 0/10 [00:00<?, ?it/s]"
      ]
     },
     "metadata": {},
     "output_type": "display_data"
    },
    {
     "name": "stderr",
     "output_type": "stream",
     "text": [
      "Token indices sequence length is longer than the specified maximum sequence length for this model (554 > 512). Running this sequence through the model will result in indexing errors\n"
     ]
    }
   ],
   "source": [
    "## create list of news vector\n",
    "lst_mean_vecs = [utils_bert_embedding(txt, tokenizer, nlp).mean(0) for txt in tqdm(df[\"text_clean\"][:10])]\n",
    "## create the feature matrix (n news x 768)\n",
    "X = np.array(lst_mean_vecs)"
   ]
  },
  {
   "cell_type": "code",
   "execution_count": 30,
   "metadata": {},
   "outputs": [
    {
     "data": {
      "application/vnd.jupyter.widget-view+json": {
       "model_id": "d635b3e5a6f74cc98c8abfc3c1fab778",
       "version_major": 2,
       "version_minor": 0
      },
      "text/plain": [
       "  0%|          | 0/2 [00:00<?, ?it/s]"
      ]
     },
     "metadata": {},
     "output_type": "display_data"
    },
    {
     "data": {
      "application/vnd.jupyter.widget-view+json": {
       "model_id": "8bc0c3a333d14b07a37e768b6e292872",
       "version_major": 2,
       "version_minor": 0
      },
      "text/plain": [
       "  0%|          | 0/2 [00:00<?, ?it/s]"
      ]
     },
     "metadata": {},
     "output_type": "display_data"
    },
    {
     "data": {
      "application/vnd.jupyter.widget-view+json": {
       "model_id": "61d0223b89b94afea425a41be59aed76",
       "version_major": 2,
       "version_minor": 0
      },
      "text/plain": [
       "  0%|          | 0/2 [00:00<?, ?it/s]"
      ]
     },
     "metadata": {},
     "output_type": "display_data"
    }
   ],
   "source": [
    "dic_male = [utils_bert_embedding(v, tokenizer, nlp).mean(0) for k,v in tqdm(dic_clusters.items())]\n",
    "dic_female = [utils_bert_embedding(v, tokenizer, nlp).mean(0) for k,v in tqdm(dic_clusters.items())]\n",
    "\n",
    "dic_y = {k:utils_bert_embedding(v, tokenizer, nlp).mean(0) for k,v in tqdm(dic_clusters.items())}"
   ]
  },
  {
   "cell_type": "code",
   "execution_count": 31,
   "metadata": {},
   "outputs": [
    {
     "name": "stdout",
     "output_type": "stream",
     "text": [
      "(10, 768)\n"
     ]
    },
    {
     "ename": "ValueError",
     "evalue": "Expected 2D array, got 1D array instead:\narray=[-2.44314611e-01 -9.64840874e-02  4.77240741e-01  1.59947142e-01\n  3.75694185e-02 -4.94888842e-01  3.69848430e-01  5.92089072e-02\n  2.10423112e-01 -5.77015936e-01  2.42398962e-01  2.82162786e-01\n  1.83208302e-01  2.23899027e-03 -2.02066317e-01  1.91689879e-01\n  1.06035687e-01  9.90933031e-02 -1.79507658e-01  3.02080452e-01\n  3.70739177e-02  2.18261108e-01  2.43021831e-01  1.49328215e-02\n  3.71153712e-01 -7.46989474e-02  1.16781935e-01 -3.83402139e-01\n -3.99678238e-02 -8.13587680e-02  4.22082901e-01  6.15882725e-02\n  8.02785531e-03  6.39693812e-02 -2.61072338e-01 -4.29875143e-02\n  1.36326268e-01  3.15280020e-01  1.10131212e-01 -1.86132729e-01\n -6.37786910e-02 -6.09944500e-02 -9.20142159e-02 -1.10871293e-01\n -2.27427036e-02 -4.15677547e-01 -4.09013718e-01  2.74244379e-02\n -1.36338398e-01 -4.04260248e-01 -3.59986126e-01  2.21115768e-01\n -6.83929548e-02 -6.32703751e-02  1.37810141e-01  1.94476377e-02\n -4.64050360e-02 -3.42874795e-01  6.16189167e-02 -2.39337057e-01\n -4.23378684e-02  2.98441034e-02  3.72572154e-01  9.59092937e-03\n -1.28771320e-01  1.52571663e-01  1.22872762e-01 -7.10260570e-02\n -2.99334198e-01 -4.47709626e-03 -3.28618109e-01 -2.58925050e-01\n -1.18216887e-01 -2.55650450e-02 -2.59573579e-01 -6.98647201e-02\n -2.78802305e-01  2.68076032e-01  4.18136567e-01  1.96323946e-01\n  4.44394276e-02  1.59588754e-02 -5.05883038e-01  1.77051395e-01\n -1.33268639e-01  1.66767403e-01  7.71070182e-01  2.39746988e-01\n -5.04442930e-01  5.73289394e-01  4.06335324e-01 -3.17151397e-01\n  3.51070374e-01 -1.47793725e-01  1.00704566e-01  2.15545505e-01\n  8.15585442e-03  2.47433424e-01  7.91045278e-02  3.15636963e-01\n  1.81554154e-01 -4.94014546e-02 -4.46501076e-01 -2.73921311e-01\n -3.01255435e-01  2.14465380e-01 -8.87846276e-02  2.66971946e-01\n  4.57613580e-02  2.64478862e-01 -1.16485991e-01  1.90129995e-01\n -3.29819202e-01 -1.95887551e-01 -3.78030236e-03  1.16867371e-01\n  2.47636452e-01  1.76081941e-01  1.21210821e-01 -1.49650380e-01\n -2.23251075e-01 -1.05826370e-01 -1.84833914e-01  2.36683890e-01\n -2.33674064e-01  4.62738797e-02 -2.95511305e-01  1.11930564e-01\n  1.46556765e-01  2.26797089e-01 -1.92062140e-01  1.39412031e-01\n -2.11657971e-01 -1.32865891e-01 -1.43821821e-01  1.12039723e-01\n  2.41596833e-01 -4.13269848e-02 -1.82272568e-01 -2.49109283e-01\n -1.24038778e-01 -2.21661299e-01  1.77486807e-01  7.48381913e-02\n  8.63080553e-04  1.73624277e-01  2.23349616e-01 -6.56414628e-02\n -1.17790988e-02  3.08400661e-01  2.43514776e-01 -2.06973821e-01\n -3.31536353e-01  1.54330894e-01 -2.66060621e-01  1.45711392e-01\n -5.79052381e-02 -1.21287830e-01  2.40576342e-02  4.39164862e-02\n -2.53356453e-02  5.93932532e-03 -6.93319738e-02  1.15625542e-02\n  2.85631150e-01 -1.60473838e-01  1.29597738e-01  1.30767480e-01\n -5.55996001e-01  2.42008060e-01  1.15449376e-01 -4.84339222e-02\n  3.49288851e-01  3.29702348e-01 -1.36952788e-01 -2.06974745e-01\n  2.46613503e-01 -4.06069234e-02 -2.36145314e-03  2.89099425e-01\n -1.77074566e-01  4.12528396e-01 -2.36231565e-01  2.79398650e-01\n  2.14618325e-01  6.88047111e-02 -1.48053959e-01 -1.10160880e-01\n -4.80344333e-02 -5.22402465e-01  1.28061160e-01  8.78184587e-02\n -1.33809045e-01 -1.98717311e-01  6.61919594e-01 -1.79649755e-01\n  2.34661490e-01  1.84905097e-01 -1.74374491e-01  1.46245435e-01\n  8.12499821e-01 -6.07601590e-02  3.75323594e-02  1.31068245e-01\n -2.72396624e-01  4.69732396e-02  4.81552392e-01 -3.03812288e-02\n -4.64019448e-01  1.72126085e-01 -3.11332971e-01  3.16266939e-02\n -3.86044942e-02  4.04128097e-02 -1.47429764e-01 -2.14521095e-01\n  2.72951692e-01  2.94500031e-02  3.28107148e-01  1.58271313e-01\n  3.07457000e-01 -3.49886775e-01 -4.89385635e-01  5.56750000e-01\n -3.05511385e-01  5.92340827e-02  3.79613549e-01 -8.14846814e-01\n -1.31527022e-01  2.19347849e-01 -1.70747966e-01 -3.44298631e-01\n  3.87440354e-01 -1.13716252e-01  2.23510280e-01  2.07001634e-04\n  3.15107852e-01 -1.35571301e-01  2.85264373e-01 -5.41683733e-01\n -2.09442183e-01  5.52775443e-01 -5.95864467e-02  1.76244661e-01\n  1.37973493e-02 -2.94820890e-02 -8.83050263e-02 -4.10505459e-02\n -2.74953872e-01 -1.54919833e-01 -4.49836910e-01 -8.04433301e-02\n  2.26067185e-01 -4.40166444e-01  3.41190994e-01 -7.15295911e-01\n -2.00943984e-02 -1.45908982e-01  1.39723614e-01 -9.01304260e-02\n  1.52896866e-01  9.33524743e-02 -9.73899737e-02 -1.90733522e-01\n -3.21131051e-01 -6.07795060e-01 -1.85835421e-01 -1.66778535e-01\n  2.68814862e-01  4.62319218e-02 -1.23296805e-01 -3.61690037e-02\n  1.40104070e-02  2.31116101e-01 -4.46853817e-01  3.24235797e-01\n  2.42250785e-01  4.51392442e-01  1.02704382e-02 -2.53459722e-01\n  3.88190299e-01  4.20683712e-01  1.41598359e-01  7.82215893e-02\n  3.24554667e-02 -2.94659853e-01 -1.99952559e-03 -1.11857146e-01\n -7.26903677e-02 -4.05952781e-01 -1.46226063e-01  2.27948636e-01\n -4.21105534e-01 -3.31150800e-01  5.05922794e-01  3.66943181e-01\n -1.46846503e-01  2.92433053e-01  3.07960540e-01 -1.88547924e-01\n -1.39863178e-01  3.35216552e-01  9.40020159e-02 -1.66758701e-01\n  7.85360113e-02  2.41618350e-01 -2.44313747e-01  1.44371716e-03\n -5.75457001e+00 -2.13624805e-01  9.33817308e-03  1.21157497e-01\n  6.86159655e-02 -3.08162093e-01 -2.49876276e-01 -5.98644605e-03\n -1.45620540e-01 -1.03873134e-01  2.54074275e-01  1.13183342e-01\n -1.40845299e-01 -1.19789559e-02 -5.41598909e-02 -4.14473303e-02\n  2.73759097e-01  1.89188898e-01 -2.16413140e-01  4.28261876e-01\n -6.66322038e-02 -1.15713090e-01  5.18002093e-01  5.99415526e-02\n  3.67737502e-01  2.57524848e-01 -2.46472910e-01 -4.33176905e-02\n -2.18474537e-01 -3.04045260e-01  1.75874919e-01 -4.14670706e-02\n -2.39901498e-01  4.08983141e-01  4.98468839e-02 -1.23275608e-01\n  1.54735908e-01 -1.41642585e-01  5.18440045e-02 -2.18099639e-01\n -2.85602957e-01 -7.18028188e-01 -2.80171871e-01  5.13036489e-01\n  4.28451836e-01 -1.11117296e-01  2.21764550e-01  1.19730145e-01\n  1.21091516e-03  2.15263858e-01 -1.00426674e-01 -2.53849983e-01\n -4.92525935e-01 -3.79160523e-01  3.86381924e-01  1.79978937e-01\n  5.61266780e-01  3.03345144e-01 -2.70940930e-01  7.08161816e-02\n -3.97028446e-01 -1.33010343e-01 -2.80253083e-01  1.42334953e-01\n -3.43510747e-01  2.27422610e-01 -2.51614414e-02  3.30571979e-02\n -3.92287225e-01  7.56766573e-02 -2.53663033e-01  6.30261302e-01\n  2.69725114e-01 -3.74341697e-01 -2.03981906e-01  1.09892339e-01\n  1.21694088e-01 -1.01533420e-01  1.01176895e-01  1.87654138e-01\n -3.67639363e-01  2.46487528e-01  9.50722247e-02  1.79166988e-01\n -4.17347364e-02  2.76185185e-01  4.87141430e-01  8.02032426e-02\n -1.80280998e-01  4.14691627e-01  3.21890086e-01 -4.00566012e-01\n  6.26799464e-02  2.93896765e-01  7.96770811e-01  1.86572839e-02\n  3.37918192e-01 -3.68368179e-01  3.19980532e-01 -5.93316376e-01\n  2.07427770e-01  1.83347434e-01  4.62200463e-01 -3.08226526e-01\n  1.15858791e-02  2.14134380e-01 -2.71517217e-01  1.52830273e-01\n  4.97991353e-01  2.42460012e-01  4.65814173e-01 -4.50504199e-02\n -1.16842523e-01 -3.05333674e-01  8.03871229e-02 -4.01445657e-01\n -1.46848280e-02  4.57971692e-01  6.20124452e-02  2.36351073e-01\n -5.08213043e-01  3.64627659e-01 -4.71792310e-01 -4.81743187e-01\n -7.41249263e-01  2.68537194e-01 -2.15397298e-01  1.71174943e-01\n -3.60432565e-02  1.71276703e-01 -3.27146351e-01 -1.00931637e-01\n  2.28682230e-03  7.63330236e-02  1.21510677e-01 -5.05703539e-02\n  3.33207190e-01 -5.11723161e-01 -1.10137209e-01 -2.85471946e-01\n  4.89363670e-02  1.19360603e-01  6.92581618e-03 -6.66677535e-01\n -6.25487566e-02  4.62948605e-02 -3.28996837e-01  2.43837267e-01\n -6.58674445e-03  2.46602193e-01  1.61344081e-01 -5.02786756e-01\n  6.63481802e-02 -4.64359879e-01 -1.48628712e-01  2.83647567e-01\n -1.44588917e-01 -1.02571011e-01 -5.77344112e-02 -3.13668281e-01\n  5.68211563e-02 -1.97389556e-04  1.20088480e-01  1.86121128e-02\n  1.65669605e-01  4.59507108e-01  3.00483368e-02 -2.19869167e-01\n -9.91060585e-02  4.21287566e-02  6.37565926e-02 -6.28329933e-01\n -3.95874232e-01 -2.73639411e-01  1.00095868e-01  2.23156869e-01\n -1.63034901e-01 -4.19771783e-02 -4.70337756e-02  1.02151260e-01\n -1.02613628e-01  1.10895941e-02 -2.02839598e-01 -3.33711244e-02\n  3.95171583e-01 -2.12162733e-01  1.58214137e-01 -3.59746404e-02\n  1.54463246e-01  4.50619578e-01  4.01528692e-03  3.56634617e-01\n  1.58270776e-01  9.41513255e-02  2.42916912e-01  9.41376165e-02\n  4.80747253e-01  1.60200939e-01  9.29546282e-02  1.29025385e-01\n -4.56139036e-02 -2.77169645e-01  4.40318957e-02 -1.13723397e-01\n  6.02158785e-01 -1.85462460e-01  2.58415252e-01  1.63991243e-01\n  7.37502649e-02 -5.97750805e-02 -5.71820915e-01 -4.18126523e-01\n -1.05590820e-01  3.41652691e-01  4.28056628e-01 -6.45503283e-01\n -1.53509170e-01  1.83962077e-01 -3.76929134e-01  1.80282846e-01\n  2.85764307e-01  5.84997274e-02 -3.11490268e-01 -2.33672276e-01\n  1.97733089e-01  1.64216235e-02  2.69007504e-01 -2.42613137e-01\n  2.83286244e-01 -9.83477831e-02 -1.06675476e-01 -5.08464515e-01\n  4.21029255e-02  7.34392181e-02 -2.76224613e-01  1.96347132e-01\n  2.99845278e-01 -1.49751335e-01 -3.82729992e-02 -5.61379850e-01\n -2.96344440e-02  1.84582472e-01 -2.23536357e-01 -4.89139438e-01\n -6.27571717e-02  3.68262112e-01 -3.33204381e-02  1.54828629e-03\n  1.28237354e-02  8.08562264e-02  7.91581869e-02  6.37765601e-02\n -2.41947830e-01 -3.97536725e-01  1.77878723e-01 -9.27981734e-01\n  1.28780477e-04 -1.48445927e-02 -2.63853401e-01  1.24189407e-02\n -1.47565275e-01  4.22733724e-02 -1.61832020e-01 -1.34204477e-01\n -2.43928000e-01  3.87060285e-01  5.38131669e-02 -6.44988343e-02\n  6.94079790e-03 -2.44427547e-01  3.23557049e-01 -5.70643127e-01\n -7.53669515e-02 -1.87466726e-01 -2.18236566e-01  8.71311203e-02\n -2.97661155e-01  2.12322071e-01 -7.40484372e-02  4.24354047e-01\n  4.16509248e-03  2.40380466e-02 -5.71729615e-02 -1.53218821e-01\n  2.72356700e-02 -1.27591550e-01 -3.89407903e-01 -3.25042397e-01\n  2.35070735e-02  1.08736113e-01  2.32622445e-01 -1.98825583e-01\n -3.15707251e-02 -5.15544176e-01 -1.99411094e-01 -4.73552793e-02\n  1.37605324e-01 -3.37302573e-02 -2.98629224e-01  1.66748226e-01\n -3.04894179e-01  9.99589935e-02 -1.10626209e-03 -3.75879794e-01\n -1.57929659e-01  2.12193906e-01 -1.20327502e-01 -4.27451879e-01\n  1.51883969e-02 -2.36117952e-02 -2.79025108e-01 -2.52024084e-01\n  2.94873506e-01  3.06256860e-01 -5.20392537e-01 -6.58700585e-01\n -2.76985485e-02 -2.41108630e-02  1.42855376e-01  4.98169869e-01\n  7.12138861e-02 -2.04510957e-01  4.67417389e-01 -1.50978312e-01\n  1.40267074e-01  6.72016814e-02  1.67396277e-01 -6.32393062e-02\n  8.54910687e-02  3.59669238e-01  3.47301036e-01  5.24854511e-02\n -1.40424579e-01  5.95453322e-01  1.09250717e-01 -1.05285719e-01\n  3.38191003e-01 -1.25796199e-01 -8.88018757e-02  3.37444425e-01\n  2.31838644e-01 -9.15267617e-02  4.44743305e-01 -6.30328059e-02\n -1.46441072e-01 -2.79262334e-01  2.93061912e-01 -5.31831384e-02\n  5.52009940e-01  6.41544238e-02  1.35227054e-01  1.95648283e-01\n  1.40070274e-01  2.27584139e-01  6.57655373e-02 -2.06686229e-01\n  3.11298370e-02 -8.48196894e-02 -2.17410997e-01  4.19258803e-01\n  2.06665128e-01  9.83708799e-02  2.90281415e-01 -4.02231693e-01\n  2.24910691e-01 -1.93596274e-01  1.17905259e-01 -2.63035953e-01\n -2.17604369e-01  2.14807495e-01  2.07174361e-01 -6.43320829e-02\n -4.80806306e-02 -2.41546422e-01  2.90383160e-01  5.50073050e-02\n -1.67182058e-01 -2.70764709e-01 -3.23353261e-02 -8.01097676e-02\n  4.93778214e-02  1.21827148e-01  1.43663794e-01 -7.55616948e-02\n -1.68566152e-01 -1.59932211e-01  2.16596738e-01 -9.68432352e-02\n -6.51413016e-03 -5.14236651e-02 -9.12013352e-02 -3.99858430e-02\n -3.37029360e-02 -8.41560438e-02 -1.47169918e-01 -9.96175632e-02\n -2.15721890e-01  3.15756835e-02  4.90350753e-01  8.88247117e-02\n  1.55537188e-01  3.07098702e-02  1.15189508e-01 -1.26436800e-01\n  2.58343875e-01 -3.46383929e-01 -7.73081705e-02  3.14578563e-01\n -6.03184879e-01  1.37715176e-01 -2.93381095e-01  2.83082873e-01\n -3.01732838e-01  2.20508233e-01 -8.54713321e-02  1.94219843e-01\n  8.82611498e-02  6.32064044e-02  1.78963244e-01 -2.82791257e-01\n -1.57195836e-01 -1.41315758e-01  1.20631261e-02  6.08167470e-01\n -3.21762890e-01  3.41134109e-02 -5.35761118e-01  1.75982684e-01\n -2.25938752e-01 -2.16507807e-01 -3.90229762e-01 -7.05572963e-02\n  2.50964701e-01  1.04792245e-01 -2.47445062e-01 -2.96290934e-01\n  6.81807101e-02 -9.53197703e-02  8.51571709e-02  2.46463180e-01\n  3.78685176e-01  1.17730014e-01  4.42216694e-01  4.32849497e-01\n  6.35397077e-01  1.76352814e-01 -7.09203929e-02 -5.29542230e-02\n  1.04669213e-01 -8.30206871e-02  5.56138344e-02 -2.90029317e-01\n  3.36102843e-01 -2.74990480e-02  1.20488005e-02  3.07140976e-01\n -3.39183807e-01 -5.11583686e-01 -2.13961944e-01 -3.20181549e-01].\nReshape your data either using array.reshape(-1, 1) if your data has a single feature or array.reshape(1, -1) if it contains a single sample.",
     "output_type": "error",
     "traceback": [
      "\u001b[1;31m---------------------------------------------------------------------------\u001b[0m",
      "\u001b[1;31mValueError\u001b[0m                                Traceback (most recent call last)",
      "\u001b[1;32mc:\\Users\\Sam's PC\\Documents\\GitHub\\Sway\\backend\\model\\NEW_TEST.ipynb Cell 15\u001b[0m in \u001b[0;36m<cell line: 4>\u001b[1;34m()\u001b[0m\n\u001b[0;32m      <a href='vscode-notebook-cell:/c%3A/Users/Sam%27s%20PC/Documents/GitHub/Sway/backend/model/NEW_TEST.ipynb#X16sZmlsZQ%3D%3D?line=0'>1</a>\u001b[0m \u001b[39m#--- Model Algorithm ---#\u001b[39;00m\n\u001b[0;32m      <a href='vscode-notebook-cell:/c%3A/Users/Sam%27s%20PC/Documents/GitHub/Sway/backend/model/NEW_TEST.ipynb#X16sZmlsZQ%3D%3D?line=1'>2</a>\u001b[0m \u001b[39m## compute cosine similarities\u001b[39;00m\n\u001b[0;32m      <a href='vscode-notebook-cell:/c%3A/Users/Sam%27s%20PC/Documents/GitHub/Sway/backend/model/NEW_TEST.ipynb#X16sZmlsZQ%3D%3D?line=2'>3</a>\u001b[0m \u001b[39mprint\u001b[39m(X\u001b[39m.\u001b[39mshape)\n\u001b[1;32m----> <a href='vscode-notebook-cell:/c%3A/Users/Sam%27s%20PC/Documents/GitHub/Sway/backend/model/NEW_TEST.ipynb#X16sZmlsZQ%3D%3D?line=3'>4</a>\u001b[0m similarities \u001b[39m=\u001b[39m np\u001b[39m.\u001b[39marray([metrics\u001b[39m.\u001b[39mpairwise\u001b[39m.\u001b[39mcosine_similarity(X, y)\u001b[39m.\u001b[39mT\u001b[39m.\u001b[39mtolist()[\u001b[39m0\u001b[39m] \u001b[39mfor\u001b[39;00m y \u001b[39min\u001b[39;00m dic_y\u001b[39m.\u001b[39mvalues()])\u001b[39m.\u001b[39mT\n\u001b[0;32m      <a href='vscode-notebook-cell:/c%3A/Users/Sam%27s%20PC/Documents/GitHub/Sway/backend/model/NEW_TEST.ipynb#X16sZmlsZQ%3D%3D?line=4'>5</a>\u001b[0m \u001b[39m#similaritiesM = np.array([metrics.pairwise.cosine_similarity(X, dic_male).T.tolist()[0]]).T\u001b[39;00m\n\u001b[0;32m      <a href='vscode-notebook-cell:/c%3A/Users/Sam%27s%20PC/Documents/GitHub/Sway/backend/model/NEW_TEST.ipynb#X16sZmlsZQ%3D%3D?line=5'>6</a>\u001b[0m \u001b[39m#similaritiesF = np.array([metrics.pairwise.cosine_similarity(X, dic_female).T.tolist()[0]]).T\u001b[39;00m\n\u001b[0;32m      <a href='vscode-notebook-cell:/c%3A/Users/Sam%27s%20PC/Documents/GitHub/Sway/backend/model/NEW_TEST.ipynb#X16sZmlsZQ%3D%3D?line=6'>7</a>\u001b[0m \u001b[39m#similarities = np.array(similaritiesM + similaritiesF)\u001b[39;00m\n\u001b[0;32m      <a href='vscode-notebook-cell:/c%3A/Users/Sam%27s%20PC/Documents/GitHub/Sway/backend/model/NEW_TEST.ipynb#X16sZmlsZQ%3D%3D?line=7'>8</a>\u001b[0m \u001b[39m## adjust and rescale\u001b[39;00m\n\u001b[0;32m      <a href='vscode-notebook-cell:/c%3A/Users/Sam%27s%20PC/Documents/GitHub/Sway/backend/model/NEW_TEST.ipynb#X16sZmlsZQ%3D%3D?line=8'>9</a>\u001b[0m labels \u001b[39m=\u001b[39m \u001b[39mlist\u001b[39m([\u001b[39m'\u001b[39m\u001b[39mMALE\u001b[39m\u001b[39m'\u001b[39m, \u001b[39m'\u001b[39m\u001b[39mFEMALE\u001b[39m\u001b[39m'\u001b[39m])\n",
      "\u001b[1;32mc:\\Users\\Sam's PC\\Documents\\GitHub\\Sway\\backend\\model\\NEW_TEST.ipynb Cell 15\u001b[0m in \u001b[0;36m<listcomp>\u001b[1;34m(.0)\u001b[0m\n\u001b[0;32m      <a href='vscode-notebook-cell:/c%3A/Users/Sam%27s%20PC/Documents/GitHub/Sway/backend/model/NEW_TEST.ipynb#X16sZmlsZQ%3D%3D?line=0'>1</a>\u001b[0m \u001b[39m#--- Model Algorithm ---#\u001b[39;00m\n\u001b[0;32m      <a href='vscode-notebook-cell:/c%3A/Users/Sam%27s%20PC/Documents/GitHub/Sway/backend/model/NEW_TEST.ipynb#X16sZmlsZQ%3D%3D?line=1'>2</a>\u001b[0m \u001b[39m## compute cosine similarities\u001b[39;00m\n\u001b[0;32m      <a href='vscode-notebook-cell:/c%3A/Users/Sam%27s%20PC/Documents/GitHub/Sway/backend/model/NEW_TEST.ipynb#X16sZmlsZQ%3D%3D?line=2'>3</a>\u001b[0m \u001b[39mprint\u001b[39m(X\u001b[39m.\u001b[39mshape)\n\u001b[1;32m----> <a href='vscode-notebook-cell:/c%3A/Users/Sam%27s%20PC/Documents/GitHub/Sway/backend/model/NEW_TEST.ipynb#X16sZmlsZQ%3D%3D?line=3'>4</a>\u001b[0m similarities \u001b[39m=\u001b[39m np\u001b[39m.\u001b[39marray([metrics\u001b[39m.\u001b[39;49mpairwise\u001b[39m.\u001b[39;49mcosine_similarity(X, y)\u001b[39m.\u001b[39mT\u001b[39m.\u001b[39mtolist()[\u001b[39m0\u001b[39m] \u001b[39mfor\u001b[39;00m y \u001b[39min\u001b[39;00m dic_y\u001b[39m.\u001b[39mvalues()])\u001b[39m.\u001b[39mT\n\u001b[0;32m      <a href='vscode-notebook-cell:/c%3A/Users/Sam%27s%20PC/Documents/GitHub/Sway/backend/model/NEW_TEST.ipynb#X16sZmlsZQ%3D%3D?line=4'>5</a>\u001b[0m \u001b[39m#similaritiesM = np.array([metrics.pairwise.cosine_similarity(X, dic_male).T.tolist()[0]]).T\u001b[39;00m\n\u001b[0;32m      <a href='vscode-notebook-cell:/c%3A/Users/Sam%27s%20PC/Documents/GitHub/Sway/backend/model/NEW_TEST.ipynb#X16sZmlsZQ%3D%3D?line=5'>6</a>\u001b[0m \u001b[39m#similaritiesF = np.array([metrics.pairwise.cosine_similarity(X, dic_female).T.tolist()[0]]).T\u001b[39;00m\n\u001b[0;32m      <a href='vscode-notebook-cell:/c%3A/Users/Sam%27s%20PC/Documents/GitHub/Sway/backend/model/NEW_TEST.ipynb#X16sZmlsZQ%3D%3D?line=6'>7</a>\u001b[0m \u001b[39m#similarities = np.array(similaritiesM + similaritiesF)\u001b[39;00m\n\u001b[0;32m      <a href='vscode-notebook-cell:/c%3A/Users/Sam%27s%20PC/Documents/GitHub/Sway/backend/model/NEW_TEST.ipynb#X16sZmlsZQ%3D%3D?line=7'>8</a>\u001b[0m \u001b[39m## adjust and rescale\u001b[39;00m\n\u001b[0;32m      <a href='vscode-notebook-cell:/c%3A/Users/Sam%27s%20PC/Documents/GitHub/Sway/backend/model/NEW_TEST.ipynb#X16sZmlsZQ%3D%3D?line=8'>9</a>\u001b[0m labels \u001b[39m=\u001b[39m \u001b[39mlist\u001b[39m([\u001b[39m'\u001b[39m\u001b[39mMALE\u001b[39m\u001b[39m'\u001b[39m, \u001b[39m'\u001b[39m\u001b[39mFEMALE\u001b[39m\u001b[39m'\u001b[39m])\n",
      "File \u001b[1;32m~\\AppData\\Local\\Packages\\PythonSoftwareFoundation.Python.3.10_qbz5n2kfra8p0\\LocalCache\\local-packages\\Python310\\site-packages\\sklearn\\metrics\\pairwise.py:1351\u001b[0m, in \u001b[0;36mcosine_similarity\u001b[1;34m(X, Y, dense_output)\u001b[0m\n\u001b[0;32m   1317\u001b[0m \u001b[39m\"\"\"Compute cosine similarity between samples in X and Y.\u001b[39;00m\n\u001b[0;32m   1318\u001b[0m \n\u001b[0;32m   1319\u001b[0m \u001b[39mCosine similarity, or the cosine kernel, computes similarity as the\u001b[39;00m\n\u001b[1;32m   (...)\u001b[0m\n\u001b[0;32m   1347\u001b[0m \u001b[39mkernel matrix : ndarray of shape (n_samples_X, n_samples_Y)\u001b[39;00m\n\u001b[0;32m   1348\u001b[0m \u001b[39m\"\"\"\u001b[39;00m\n\u001b[0;32m   1349\u001b[0m \u001b[39m# to avoid recursive import\u001b[39;00m\n\u001b[1;32m-> 1351\u001b[0m X, Y \u001b[39m=\u001b[39m check_pairwise_arrays(X, Y)\n\u001b[0;32m   1353\u001b[0m X_normalized \u001b[39m=\u001b[39m normalize(X, copy\u001b[39m=\u001b[39m\u001b[39mTrue\u001b[39;00m)\n\u001b[0;32m   1354\u001b[0m \u001b[39mif\u001b[39;00m X \u001b[39mis\u001b[39;00m Y:\n",
      "File \u001b[1;32m~\\AppData\\Local\\Packages\\PythonSoftwareFoundation.Python.3.10_qbz5n2kfra8p0\\LocalCache\\local-packages\\Python310\\site-packages\\sklearn\\metrics\\pairwise.py:164\u001b[0m, in \u001b[0;36mcheck_pairwise_arrays\u001b[1;34m(X, Y, precomputed, dtype, accept_sparse, force_all_finite, copy)\u001b[0m\n\u001b[0;32m    155\u001b[0m \u001b[39melse\u001b[39;00m:\n\u001b[0;32m    156\u001b[0m     X \u001b[39m=\u001b[39m check_array(\n\u001b[0;32m    157\u001b[0m         X,\n\u001b[0;32m    158\u001b[0m         accept_sparse\u001b[39m=\u001b[39maccept_sparse,\n\u001b[1;32m   (...)\u001b[0m\n\u001b[0;32m    162\u001b[0m         estimator\u001b[39m=\u001b[39mestimator,\n\u001b[0;32m    163\u001b[0m     )\n\u001b[1;32m--> 164\u001b[0m     Y \u001b[39m=\u001b[39m check_array(\n\u001b[0;32m    165\u001b[0m         Y,\n\u001b[0;32m    166\u001b[0m         accept_sparse\u001b[39m=\u001b[39;49maccept_sparse,\n\u001b[0;32m    167\u001b[0m         dtype\u001b[39m=\u001b[39;49mdtype,\n\u001b[0;32m    168\u001b[0m         copy\u001b[39m=\u001b[39;49mcopy,\n\u001b[0;32m    169\u001b[0m         force_all_finite\u001b[39m=\u001b[39;49mforce_all_finite,\n\u001b[0;32m    170\u001b[0m         estimator\u001b[39m=\u001b[39;49mestimator,\n\u001b[0;32m    171\u001b[0m     )\n\u001b[0;32m    173\u001b[0m \u001b[39mif\u001b[39;00m precomputed:\n\u001b[0;32m    174\u001b[0m     \u001b[39mif\u001b[39;00m X\u001b[39m.\u001b[39mshape[\u001b[39m1\u001b[39m] \u001b[39m!=\u001b[39m Y\u001b[39m.\u001b[39mshape[\u001b[39m0\u001b[39m]:\n",
      "File \u001b[1;32m~\\AppData\\Local\\Packages\\PythonSoftwareFoundation.Python.3.10_qbz5n2kfra8p0\\LocalCache\\local-packages\\Python310\\site-packages\\sklearn\\utils\\validation.py:879\u001b[0m, in \u001b[0;36mcheck_array\u001b[1;34m(array, accept_sparse, accept_large_sparse, dtype, order, copy, force_all_finite, ensure_2d, allow_nd, ensure_min_samples, ensure_min_features, estimator, input_name)\u001b[0m\n\u001b[0;32m    877\u001b[0m     \u001b[39m# If input is 1D raise error\u001b[39;00m\n\u001b[0;32m    878\u001b[0m     \u001b[39mif\u001b[39;00m array\u001b[39m.\u001b[39mndim \u001b[39m==\u001b[39m \u001b[39m1\u001b[39m:\n\u001b[1;32m--> 879\u001b[0m         \u001b[39mraise\u001b[39;00m \u001b[39mValueError\u001b[39;00m(\n\u001b[0;32m    880\u001b[0m             \u001b[39m\"\u001b[39m\u001b[39mExpected 2D array, got 1D array instead:\u001b[39m\u001b[39m\\n\u001b[39;00m\u001b[39marray=\u001b[39m\u001b[39m{}\u001b[39;00m\u001b[39m.\u001b[39m\u001b[39m\\n\u001b[39;00m\u001b[39m\"\u001b[39m\n\u001b[0;32m    881\u001b[0m             \u001b[39m\"\u001b[39m\u001b[39mReshape your data either using array.reshape(-1, 1) if \u001b[39m\u001b[39m\"\u001b[39m\n\u001b[0;32m    882\u001b[0m             \u001b[39m\"\u001b[39m\u001b[39myour data has a single feature or array.reshape(1, -1) \u001b[39m\u001b[39m\"\u001b[39m\n\u001b[0;32m    883\u001b[0m             \u001b[39m\"\u001b[39m\u001b[39mif it contains a single sample.\u001b[39m\u001b[39m\"\u001b[39m\u001b[39m.\u001b[39mformat(array)\n\u001b[0;32m    884\u001b[0m         )\n\u001b[0;32m    886\u001b[0m \u001b[39mif\u001b[39;00m dtype_numeric \u001b[39mand\u001b[39;00m array\u001b[39m.\u001b[39mdtype\u001b[39m.\u001b[39mkind \u001b[39min\u001b[39;00m \u001b[39m\"\u001b[39m\u001b[39mUSV\u001b[39m\u001b[39m\"\u001b[39m:\n\u001b[0;32m    887\u001b[0m     \u001b[39mraise\u001b[39;00m \u001b[39mValueError\u001b[39;00m(\n\u001b[0;32m    888\u001b[0m         \u001b[39m\"\u001b[39m\u001b[39mdtype=\u001b[39m\u001b[39m'\u001b[39m\u001b[39mnumeric\u001b[39m\u001b[39m'\u001b[39m\u001b[39m is not compatible with arrays of bytes/strings.\u001b[39m\u001b[39m\"\u001b[39m\n\u001b[0;32m    889\u001b[0m         \u001b[39m\"\u001b[39m\u001b[39mConvert your data to numeric values explicitly instead.\u001b[39m\u001b[39m\"\u001b[39m\n\u001b[0;32m    890\u001b[0m     )\n",
      "\u001b[1;31mValueError\u001b[0m: Expected 2D array, got 1D array instead:\narray=[-2.44314611e-01 -9.64840874e-02  4.77240741e-01  1.59947142e-01\n  3.75694185e-02 -4.94888842e-01  3.69848430e-01  5.92089072e-02\n  2.10423112e-01 -5.77015936e-01  2.42398962e-01  2.82162786e-01\n  1.83208302e-01  2.23899027e-03 -2.02066317e-01  1.91689879e-01\n  1.06035687e-01  9.90933031e-02 -1.79507658e-01  3.02080452e-01\n  3.70739177e-02  2.18261108e-01  2.43021831e-01  1.49328215e-02\n  3.71153712e-01 -7.46989474e-02  1.16781935e-01 -3.83402139e-01\n -3.99678238e-02 -8.13587680e-02  4.22082901e-01  6.15882725e-02\n  8.02785531e-03  6.39693812e-02 -2.61072338e-01 -4.29875143e-02\n  1.36326268e-01  3.15280020e-01  1.10131212e-01 -1.86132729e-01\n -6.37786910e-02 -6.09944500e-02 -9.20142159e-02 -1.10871293e-01\n -2.27427036e-02 -4.15677547e-01 -4.09013718e-01  2.74244379e-02\n -1.36338398e-01 -4.04260248e-01 -3.59986126e-01  2.21115768e-01\n -6.83929548e-02 -6.32703751e-02  1.37810141e-01  1.94476377e-02\n -4.64050360e-02 -3.42874795e-01  6.16189167e-02 -2.39337057e-01\n -4.23378684e-02  2.98441034e-02  3.72572154e-01  9.59092937e-03\n -1.28771320e-01  1.52571663e-01  1.22872762e-01 -7.10260570e-02\n -2.99334198e-01 -4.47709626e-03 -3.28618109e-01 -2.58925050e-01\n -1.18216887e-01 -2.55650450e-02 -2.59573579e-01 -6.98647201e-02\n -2.78802305e-01  2.68076032e-01  4.18136567e-01  1.96323946e-01\n  4.44394276e-02  1.59588754e-02 -5.05883038e-01  1.77051395e-01\n -1.33268639e-01  1.66767403e-01  7.71070182e-01  2.39746988e-01\n -5.04442930e-01  5.73289394e-01  4.06335324e-01 -3.17151397e-01\n  3.51070374e-01 -1.47793725e-01  1.00704566e-01  2.15545505e-01\n  8.15585442e-03  2.47433424e-01  7.91045278e-02  3.15636963e-01\n  1.81554154e-01 -4.94014546e-02 -4.46501076e-01 -2.73921311e-01\n -3.01255435e-01  2.14465380e-01 -8.87846276e-02  2.66971946e-01\n  4.57613580e-02  2.64478862e-01 -1.16485991e-01  1.90129995e-01\n -3.29819202e-01 -1.95887551e-01 -3.78030236e-03  1.16867371e-01\n  2.47636452e-01  1.76081941e-01  1.21210821e-01 -1.49650380e-01\n -2.23251075e-01 -1.05826370e-01 -1.84833914e-01  2.36683890e-01\n -2.33674064e-01  4.62738797e-02 -2.95511305e-01  1.11930564e-01\n  1.46556765e-01  2.26797089e-01 -1.92062140e-01  1.39412031e-01\n -2.11657971e-01 -1.32865891e-01 -1.43821821e-01  1.12039723e-01\n  2.41596833e-01 -4.13269848e-02 -1.82272568e-01 -2.49109283e-01\n -1.24038778e-01 -2.21661299e-01  1.77486807e-01  7.48381913e-02\n  8.63080553e-04  1.73624277e-01  2.23349616e-01 -6.56414628e-02\n -1.17790988e-02  3.08400661e-01  2.43514776e-01 -2.06973821e-01\n -3.31536353e-01  1.54330894e-01 -2.66060621e-01  1.45711392e-01\n -5.79052381e-02 -1.21287830e-01  2.40576342e-02  4.39164862e-02\n -2.53356453e-02  5.93932532e-03 -6.93319738e-02  1.15625542e-02\n  2.85631150e-01 -1.60473838e-01  1.29597738e-01  1.30767480e-01\n -5.55996001e-01  2.42008060e-01  1.15449376e-01 -4.84339222e-02\n  3.49288851e-01  3.29702348e-01 -1.36952788e-01 -2.06974745e-01\n  2.46613503e-01 -4.06069234e-02 -2.36145314e-03  2.89099425e-01\n -1.77074566e-01  4.12528396e-01 -2.36231565e-01  2.79398650e-01\n  2.14618325e-01  6.88047111e-02 -1.48053959e-01 -1.10160880e-01\n -4.80344333e-02 -5.22402465e-01  1.28061160e-01  8.78184587e-02\n -1.33809045e-01 -1.98717311e-01  6.61919594e-01 -1.79649755e-01\n  2.34661490e-01  1.84905097e-01 -1.74374491e-01  1.46245435e-01\n  8.12499821e-01 -6.07601590e-02  3.75323594e-02  1.31068245e-01\n -2.72396624e-01  4.69732396e-02  4.81552392e-01 -3.03812288e-02\n -4.64019448e-01  1.72126085e-01 -3.11332971e-01  3.16266939e-02\n -3.86044942e-02  4.04128097e-02 -1.47429764e-01 -2.14521095e-01\n  2.72951692e-01  2.94500031e-02  3.28107148e-01  1.58271313e-01\n  3.07457000e-01 -3.49886775e-01 -4.89385635e-01  5.56750000e-01\n -3.05511385e-01  5.92340827e-02  3.79613549e-01 -8.14846814e-01\n -1.31527022e-01  2.19347849e-01 -1.70747966e-01 -3.44298631e-01\n  3.87440354e-01 -1.13716252e-01  2.23510280e-01  2.07001634e-04\n  3.15107852e-01 -1.35571301e-01  2.85264373e-01 -5.41683733e-01\n -2.09442183e-01  5.52775443e-01 -5.95864467e-02  1.76244661e-01\n  1.37973493e-02 -2.94820890e-02 -8.83050263e-02 -4.10505459e-02\n -2.74953872e-01 -1.54919833e-01 -4.49836910e-01 -8.04433301e-02\n  2.26067185e-01 -4.40166444e-01  3.41190994e-01 -7.15295911e-01\n -2.00943984e-02 -1.45908982e-01  1.39723614e-01 -9.01304260e-02\n  1.52896866e-01  9.33524743e-02 -9.73899737e-02 -1.90733522e-01\n -3.21131051e-01 -6.07795060e-01 -1.85835421e-01 -1.66778535e-01\n  2.68814862e-01  4.62319218e-02 -1.23296805e-01 -3.61690037e-02\n  1.40104070e-02  2.31116101e-01 -4.46853817e-01  3.24235797e-01\n  2.42250785e-01  4.51392442e-01  1.02704382e-02 -2.53459722e-01\n  3.88190299e-01  4.20683712e-01  1.41598359e-01  7.82215893e-02\n  3.24554667e-02 -2.94659853e-01 -1.99952559e-03 -1.11857146e-01\n -7.26903677e-02 -4.05952781e-01 -1.46226063e-01  2.27948636e-01\n -4.21105534e-01 -3.31150800e-01  5.05922794e-01  3.66943181e-01\n -1.46846503e-01  2.92433053e-01  3.07960540e-01 -1.88547924e-01\n -1.39863178e-01  3.35216552e-01  9.40020159e-02 -1.66758701e-01\n  7.85360113e-02  2.41618350e-01 -2.44313747e-01  1.44371716e-03\n -5.75457001e+00 -2.13624805e-01  9.33817308e-03  1.21157497e-01\n  6.86159655e-02 -3.08162093e-01 -2.49876276e-01 -5.98644605e-03\n -1.45620540e-01 -1.03873134e-01  2.54074275e-01  1.13183342e-01\n -1.40845299e-01 -1.19789559e-02 -5.41598909e-02 -4.14473303e-02\n  2.73759097e-01  1.89188898e-01 -2.16413140e-01  4.28261876e-01\n -6.66322038e-02 -1.15713090e-01  5.18002093e-01  5.99415526e-02\n  3.67737502e-01  2.57524848e-01 -2.46472910e-01 -4.33176905e-02\n -2.18474537e-01 -3.04045260e-01  1.75874919e-01 -4.14670706e-02\n -2.39901498e-01  4.08983141e-01  4.98468839e-02 -1.23275608e-01\n  1.54735908e-01 -1.41642585e-01  5.18440045e-02 -2.18099639e-01\n -2.85602957e-01 -7.18028188e-01 -2.80171871e-01  5.13036489e-01\n  4.28451836e-01 -1.11117296e-01  2.21764550e-01  1.19730145e-01\n  1.21091516e-03  2.15263858e-01 -1.00426674e-01 -2.53849983e-01\n -4.92525935e-01 -3.79160523e-01  3.86381924e-01  1.79978937e-01\n  5.61266780e-01  3.03345144e-01 -2.70940930e-01  7.08161816e-02\n -3.97028446e-01 -1.33010343e-01 -2.80253083e-01  1.42334953e-01\n -3.43510747e-01  2.27422610e-01 -2.51614414e-02  3.30571979e-02\n -3.92287225e-01  7.56766573e-02 -2.53663033e-01  6.30261302e-01\n  2.69725114e-01 -3.74341697e-01 -2.03981906e-01  1.09892339e-01\n  1.21694088e-01 -1.01533420e-01  1.01176895e-01  1.87654138e-01\n -3.67639363e-01  2.46487528e-01  9.50722247e-02  1.79166988e-01\n -4.17347364e-02  2.76185185e-01  4.87141430e-01  8.02032426e-02\n -1.80280998e-01  4.14691627e-01  3.21890086e-01 -4.00566012e-01\n  6.26799464e-02  2.93896765e-01  7.96770811e-01  1.86572839e-02\n  3.37918192e-01 -3.68368179e-01  3.19980532e-01 -5.93316376e-01\n  2.07427770e-01  1.83347434e-01  4.62200463e-01 -3.08226526e-01\n  1.15858791e-02  2.14134380e-01 -2.71517217e-01  1.52830273e-01\n  4.97991353e-01  2.42460012e-01  4.65814173e-01 -4.50504199e-02\n -1.16842523e-01 -3.05333674e-01  8.03871229e-02 -4.01445657e-01\n -1.46848280e-02  4.57971692e-01  6.20124452e-02  2.36351073e-01\n -5.08213043e-01  3.64627659e-01 -4.71792310e-01 -4.81743187e-01\n -7.41249263e-01  2.68537194e-01 -2.15397298e-01  1.71174943e-01\n -3.60432565e-02  1.71276703e-01 -3.27146351e-01 -1.00931637e-01\n  2.28682230e-03  7.63330236e-02  1.21510677e-01 -5.05703539e-02\n  3.33207190e-01 -5.11723161e-01 -1.10137209e-01 -2.85471946e-01\n  4.89363670e-02  1.19360603e-01  6.92581618e-03 -6.66677535e-01\n -6.25487566e-02  4.62948605e-02 -3.28996837e-01  2.43837267e-01\n -6.58674445e-03  2.46602193e-01  1.61344081e-01 -5.02786756e-01\n  6.63481802e-02 -4.64359879e-01 -1.48628712e-01  2.83647567e-01\n -1.44588917e-01 -1.02571011e-01 -5.77344112e-02 -3.13668281e-01\n  5.68211563e-02 -1.97389556e-04  1.20088480e-01  1.86121128e-02\n  1.65669605e-01  4.59507108e-01  3.00483368e-02 -2.19869167e-01\n -9.91060585e-02  4.21287566e-02  6.37565926e-02 -6.28329933e-01\n -3.95874232e-01 -2.73639411e-01  1.00095868e-01  2.23156869e-01\n -1.63034901e-01 -4.19771783e-02 -4.70337756e-02  1.02151260e-01\n -1.02613628e-01  1.10895941e-02 -2.02839598e-01 -3.33711244e-02\n  3.95171583e-01 -2.12162733e-01  1.58214137e-01 -3.59746404e-02\n  1.54463246e-01  4.50619578e-01  4.01528692e-03  3.56634617e-01\n  1.58270776e-01  9.41513255e-02  2.42916912e-01  9.41376165e-02\n  4.80747253e-01  1.60200939e-01  9.29546282e-02  1.29025385e-01\n -4.56139036e-02 -2.77169645e-01  4.40318957e-02 -1.13723397e-01\n  6.02158785e-01 -1.85462460e-01  2.58415252e-01  1.63991243e-01\n  7.37502649e-02 -5.97750805e-02 -5.71820915e-01 -4.18126523e-01\n -1.05590820e-01  3.41652691e-01  4.28056628e-01 -6.45503283e-01\n -1.53509170e-01  1.83962077e-01 -3.76929134e-01  1.80282846e-01\n  2.85764307e-01  5.84997274e-02 -3.11490268e-01 -2.33672276e-01\n  1.97733089e-01  1.64216235e-02  2.69007504e-01 -2.42613137e-01\n  2.83286244e-01 -9.83477831e-02 -1.06675476e-01 -5.08464515e-01\n  4.21029255e-02  7.34392181e-02 -2.76224613e-01  1.96347132e-01\n  2.99845278e-01 -1.49751335e-01 -3.82729992e-02 -5.61379850e-01\n -2.96344440e-02  1.84582472e-01 -2.23536357e-01 -4.89139438e-01\n -6.27571717e-02  3.68262112e-01 -3.33204381e-02  1.54828629e-03\n  1.28237354e-02  8.08562264e-02  7.91581869e-02  6.37765601e-02\n -2.41947830e-01 -3.97536725e-01  1.77878723e-01 -9.27981734e-01\n  1.28780477e-04 -1.48445927e-02 -2.63853401e-01  1.24189407e-02\n -1.47565275e-01  4.22733724e-02 -1.61832020e-01 -1.34204477e-01\n -2.43928000e-01  3.87060285e-01  5.38131669e-02 -6.44988343e-02\n  6.94079790e-03 -2.44427547e-01  3.23557049e-01 -5.70643127e-01\n -7.53669515e-02 -1.87466726e-01 -2.18236566e-01  8.71311203e-02\n -2.97661155e-01  2.12322071e-01 -7.40484372e-02  4.24354047e-01\n  4.16509248e-03  2.40380466e-02 -5.71729615e-02 -1.53218821e-01\n  2.72356700e-02 -1.27591550e-01 -3.89407903e-01 -3.25042397e-01\n  2.35070735e-02  1.08736113e-01  2.32622445e-01 -1.98825583e-01\n -3.15707251e-02 -5.15544176e-01 -1.99411094e-01 -4.73552793e-02\n  1.37605324e-01 -3.37302573e-02 -2.98629224e-01  1.66748226e-01\n -3.04894179e-01  9.99589935e-02 -1.10626209e-03 -3.75879794e-01\n -1.57929659e-01  2.12193906e-01 -1.20327502e-01 -4.27451879e-01\n  1.51883969e-02 -2.36117952e-02 -2.79025108e-01 -2.52024084e-01\n  2.94873506e-01  3.06256860e-01 -5.20392537e-01 -6.58700585e-01\n -2.76985485e-02 -2.41108630e-02  1.42855376e-01  4.98169869e-01\n  7.12138861e-02 -2.04510957e-01  4.67417389e-01 -1.50978312e-01\n  1.40267074e-01  6.72016814e-02  1.67396277e-01 -6.32393062e-02\n  8.54910687e-02  3.59669238e-01  3.47301036e-01  5.24854511e-02\n -1.40424579e-01  5.95453322e-01  1.09250717e-01 -1.05285719e-01\n  3.38191003e-01 -1.25796199e-01 -8.88018757e-02  3.37444425e-01\n  2.31838644e-01 -9.15267617e-02  4.44743305e-01 -6.30328059e-02\n -1.46441072e-01 -2.79262334e-01  2.93061912e-01 -5.31831384e-02\n  5.52009940e-01  6.41544238e-02  1.35227054e-01  1.95648283e-01\n  1.40070274e-01  2.27584139e-01  6.57655373e-02 -2.06686229e-01\n  3.11298370e-02 -8.48196894e-02 -2.17410997e-01  4.19258803e-01\n  2.06665128e-01  9.83708799e-02  2.90281415e-01 -4.02231693e-01\n  2.24910691e-01 -1.93596274e-01  1.17905259e-01 -2.63035953e-01\n -2.17604369e-01  2.14807495e-01  2.07174361e-01 -6.43320829e-02\n -4.80806306e-02 -2.41546422e-01  2.90383160e-01  5.50073050e-02\n -1.67182058e-01 -2.70764709e-01 -3.23353261e-02 -8.01097676e-02\n  4.93778214e-02  1.21827148e-01  1.43663794e-01 -7.55616948e-02\n -1.68566152e-01 -1.59932211e-01  2.16596738e-01 -9.68432352e-02\n -6.51413016e-03 -5.14236651e-02 -9.12013352e-02 -3.99858430e-02\n -3.37029360e-02 -8.41560438e-02 -1.47169918e-01 -9.96175632e-02\n -2.15721890e-01  3.15756835e-02  4.90350753e-01  8.88247117e-02\n  1.55537188e-01  3.07098702e-02  1.15189508e-01 -1.26436800e-01\n  2.58343875e-01 -3.46383929e-01 -7.73081705e-02  3.14578563e-01\n -6.03184879e-01  1.37715176e-01 -2.93381095e-01  2.83082873e-01\n -3.01732838e-01  2.20508233e-01 -8.54713321e-02  1.94219843e-01\n  8.82611498e-02  6.32064044e-02  1.78963244e-01 -2.82791257e-01\n -1.57195836e-01 -1.41315758e-01  1.20631261e-02  6.08167470e-01\n -3.21762890e-01  3.41134109e-02 -5.35761118e-01  1.75982684e-01\n -2.25938752e-01 -2.16507807e-01 -3.90229762e-01 -7.05572963e-02\n  2.50964701e-01  1.04792245e-01 -2.47445062e-01 -2.96290934e-01\n  6.81807101e-02 -9.53197703e-02  8.51571709e-02  2.46463180e-01\n  3.78685176e-01  1.17730014e-01  4.42216694e-01  4.32849497e-01\n  6.35397077e-01  1.76352814e-01 -7.09203929e-02 -5.29542230e-02\n  1.04669213e-01 -8.30206871e-02  5.56138344e-02 -2.90029317e-01\n  3.36102843e-01 -2.74990480e-02  1.20488005e-02  3.07140976e-01\n -3.39183807e-01 -5.11583686e-01 -2.13961944e-01 -3.20181549e-01].\nReshape your data either using array.reshape(-1, 1) if your data has a single feature or array.reshape(1, -1) if it contains a single sample."
     ]
    },
    {
     "ename": "",
     "evalue": "",
     "output_type": "error",
     "traceback": [
      "\u001b[1;31mThe Kernel crashed while executing code in the the current cell or a previous cell. Please review the code in the cell(s) to identify a possible cause of the failure. Click <a href='https://aka.ms/vscodeJupyterKernelCrash'>here</a> for more info. View Jupyter <a href='command:jupyter.viewOutput'>log</a> for further details."
     ]
    }
   ],
   "source": [
    "#--- Model Algorithm ---#\n",
    "## compute cosine similarities\n",
    "print(X.shape)\n",
    "similarities = np.array([metrics.pairwise.cosine_similarity(X, y).T.tolist()[0] for y in dic_y.values()]).T\n",
    "#similaritiesM = np.array([metrics.pairwise.cosine_similarity(X, dic_male).T.tolist()[0]]).T\n",
    "#similaritiesF = np.array([metrics.pairwise.cosine_similarity(X, dic_female).T.tolist()[0]]).T\n",
    "#similarities = np.array(similaritiesM + similaritiesF)\n",
    "## adjust and rescale\n",
    "labels = list(['MALE', 'FEMALE'])\n",
    "for i in range(len(similarities)):\n",
    "    ### assign randomly if there is no similarity\n",
    "    if sum(similarities[i]) == 0:\n",
    "       similarities[i] = [0]*len(labels)\n",
    "       similarities[i][np.random.choice(range(len(labels)))] = 1\n",
    "    ### rescale so they sum = 1\n",
    "    similarities[i] = similarities[i] / sum(similarities[i])\n",
    "\n",
    "## classify the label with highest similarity score\n",
    "predicted_prob = similarities\n",
    "predicted = [labels[np.argmax(pred)] for pred in predicted_prob]\n",
    "\n",
    "print(predicted)"
   ]
  },
  {
   "cell_type": "code",
   "execution_count": 28,
   "metadata": {},
   "outputs": [
    {
     "ename": "ValueError",
     "evalue": "Found input variables with inconsistent numbers of samples: [86, 10]",
     "output_type": "error",
     "traceback": [
      "\u001b[1;31m---------------------------------------------------------------------------\u001b[0m",
      "\u001b[1;31mValueError\u001b[0m                                Traceback (most recent call last)",
      "\u001b[1;32mc:\\Users\\Sam's PC\\Documents\\GitHub\\Sway\\backend\\model\\NEW_TEST.ipynb Cell 16\u001b[0m in \u001b[0;36m<cell line: 6>\u001b[1;34m()\u001b[0m\n\u001b[0;32m      <a href='vscode-notebook-cell:/c%3A/Users/Sam%27s%20PC/Documents/GitHub/Sway/backend/model/NEW_TEST.ipynb#X21sZmlsZQ%3D%3D?line=2'>3</a>\u001b[0m y_test_array \u001b[39m=\u001b[39m pd\u001b[39m.\u001b[39mget_dummies(y_test, drop_first\u001b[39m=\u001b[39m\u001b[39mFalse\u001b[39;00m)\u001b[39m.\u001b[39mvalues\n\u001b[0;32m      <a href='vscode-notebook-cell:/c%3A/Users/Sam%27s%20PC/Documents/GitHub/Sway/backend/model/NEW_TEST.ipynb#X21sZmlsZQ%3D%3D?line=4'>5</a>\u001b[0m \u001b[39m## Accuracy, Precision, Recall\u001b[39;00m\n\u001b[1;32m----> <a href='vscode-notebook-cell:/c%3A/Users/Sam%27s%20PC/Documents/GitHub/Sway/backend/model/NEW_TEST.ipynb#X21sZmlsZQ%3D%3D?line=5'>6</a>\u001b[0m accuracy \u001b[39m=\u001b[39m metrics\u001b[39m.\u001b[39;49maccuracy_score(y_test, predicted)\n\u001b[0;32m      <a href='vscode-notebook-cell:/c%3A/Users/Sam%27s%20PC/Documents/GitHub/Sway/backend/model/NEW_TEST.ipynb#X21sZmlsZQ%3D%3D?line=6'>7</a>\u001b[0m auc \u001b[39m=\u001b[39m metrics\u001b[39m.\u001b[39mroc_auc_score(y_test, predicted_prob, \n\u001b[0;32m      <a href='vscode-notebook-cell:/c%3A/Users/Sam%27s%20PC/Documents/GitHub/Sway/backend/model/NEW_TEST.ipynb#X21sZmlsZQ%3D%3D?line=7'>8</a>\u001b[0m                             multi_class\u001b[39m=\u001b[39m\u001b[39m\"\u001b[39m\u001b[39movr\u001b[39m\u001b[39m\"\u001b[39m)\n\u001b[0;32m      <a href='vscode-notebook-cell:/c%3A/Users/Sam%27s%20PC/Documents/GitHub/Sway/backend/model/NEW_TEST.ipynb#X21sZmlsZQ%3D%3D?line=8'>9</a>\u001b[0m \u001b[39mprint\u001b[39m(\u001b[39m\"\u001b[39m\u001b[39mAccuracy:\u001b[39m\u001b[39m\"\u001b[39m,  \u001b[39mround\u001b[39m(accuracy,\u001b[39m2\u001b[39m))\n",
      "File \u001b[1;32m~\\AppData\\Local\\Packages\\PythonSoftwareFoundation.Python.3.10_qbz5n2kfra8p0\\LocalCache\\local-packages\\Python310\\site-packages\\sklearn\\metrics\\_classification.py:211\u001b[0m, in \u001b[0;36maccuracy_score\u001b[1;34m(y_true, y_pred, normalize, sample_weight)\u001b[0m\n\u001b[0;32m    145\u001b[0m \u001b[39m\"\"\"Accuracy classification score.\u001b[39;00m\n\u001b[0;32m    146\u001b[0m \n\u001b[0;32m    147\u001b[0m \u001b[39mIn multilabel classification, this function computes subset accuracy:\u001b[39;00m\n\u001b[1;32m   (...)\u001b[0m\n\u001b[0;32m    207\u001b[0m \u001b[39m0.5\u001b[39;00m\n\u001b[0;32m    208\u001b[0m \u001b[39m\"\"\"\u001b[39;00m\n\u001b[0;32m    210\u001b[0m \u001b[39m# Compute accuracy for each possible representation\u001b[39;00m\n\u001b[1;32m--> 211\u001b[0m y_type, y_true, y_pred \u001b[39m=\u001b[39m _check_targets(y_true, y_pred)\n\u001b[0;32m    212\u001b[0m check_consistent_length(y_true, y_pred, sample_weight)\n\u001b[0;32m    213\u001b[0m \u001b[39mif\u001b[39;00m y_type\u001b[39m.\u001b[39mstartswith(\u001b[39m\"\u001b[39m\u001b[39mmultilabel\u001b[39m\u001b[39m\"\u001b[39m):\n",
      "File \u001b[1;32m~\\AppData\\Local\\Packages\\PythonSoftwareFoundation.Python.3.10_qbz5n2kfra8p0\\LocalCache\\local-packages\\Python310\\site-packages\\sklearn\\metrics\\_classification.py:84\u001b[0m, in \u001b[0;36m_check_targets\u001b[1;34m(y_true, y_pred)\u001b[0m\n\u001b[0;32m     57\u001b[0m \u001b[39mdef\u001b[39;00m \u001b[39m_check_targets\u001b[39m(y_true, y_pred):\n\u001b[0;32m     58\u001b[0m     \u001b[39m\"\"\"Check that y_true and y_pred belong to the same classification task.\u001b[39;00m\n\u001b[0;32m     59\u001b[0m \n\u001b[0;32m     60\u001b[0m \u001b[39m    This converts multiclass or binary types to a common shape, and raises a\u001b[39;00m\n\u001b[1;32m   (...)\u001b[0m\n\u001b[0;32m     82\u001b[0m \u001b[39m    y_pred : array or indicator matrix\u001b[39;00m\n\u001b[0;32m     83\u001b[0m \u001b[39m    \"\"\"\u001b[39;00m\n\u001b[1;32m---> 84\u001b[0m     check_consistent_length(y_true, y_pred)\n\u001b[0;32m     85\u001b[0m     type_true \u001b[39m=\u001b[39m type_of_target(y_true, input_name\u001b[39m=\u001b[39m\u001b[39m\"\u001b[39m\u001b[39my_true\u001b[39m\u001b[39m\"\u001b[39m)\n\u001b[0;32m     86\u001b[0m     type_pred \u001b[39m=\u001b[39m type_of_target(y_pred, input_name\u001b[39m=\u001b[39m\u001b[39m\"\u001b[39m\u001b[39my_pred\u001b[39m\u001b[39m\"\u001b[39m)\n",
      "File \u001b[1;32m~\\AppData\\Local\\Packages\\PythonSoftwareFoundation.Python.3.10_qbz5n2kfra8p0\\LocalCache\\local-packages\\Python310\\site-packages\\sklearn\\utils\\validation.py:387\u001b[0m, in \u001b[0;36mcheck_consistent_length\u001b[1;34m(*arrays)\u001b[0m\n\u001b[0;32m    385\u001b[0m uniques \u001b[39m=\u001b[39m np\u001b[39m.\u001b[39munique(lengths)\n\u001b[0;32m    386\u001b[0m \u001b[39mif\u001b[39;00m \u001b[39mlen\u001b[39m(uniques) \u001b[39m>\u001b[39m \u001b[39m1\u001b[39m:\n\u001b[1;32m--> 387\u001b[0m     \u001b[39mraise\u001b[39;00m \u001b[39mValueError\u001b[39;00m(\n\u001b[0;32m    388\u001b[0m         \u001b[39m\"\u001b[39m\u001b[39mFound input variables with inconsistent numbers of samples: \u001b[39m\u001b[39m%r\u001b[39;00m\u001b[39m\"\u001b[39m\n\u001b[0;32m    389\u001b[0m         \u001b[39m%\u001b[39m [\u001b[39mint\u001b[39m(l) \u001b[39mfor\u001b[39;00m l \u001b[39min\u001b[39;00m lengths]\n\u001b[0;32m    390\u001b[0m     )\n",
      "\u001b[1;31mValueError\u001b[0m: Found input variables with inconsistent numbers of samples: [86, 10]"
     ]
    }
   ],
   "source": [
    "y_test = dtf[\"y\"].values\n",
    "classes = np.unique(y_test)\n",
    "y_test_array = pd.get_dummies(y_test, drop_first=False).values\n",
    "\n",
    "## Accuracy, Precision, Recall\n",
    "accuracy = metrics.accuracy_score(y_test, predicted)\n",
    "auc = metrics.roc_auc_score(y_test, predicted_prob, \n",
    "                            multi_class=\"ovr\")\n",
    "print(\"Accuracy:\",  round(accuracy,2))\n",
    "print(\"Auc:\", round(auc,2))\n",
    "print(\"Detail:\")\n",
    "print(metrics.classification_report(y_test, predicted))\n",
    "    \n",
    "## Plot confusion matrix\n",
    "cm = metrics.confusion_matrix(y_test, predicted)\n",
    "fig, ax = plt.subplots()\n",
    "sns.heatmap(cm, annot=True, fmt='d', ax=ax, cmap=plt.cm.Blues, \n",
    "            cbar=False)\n",
    "ax.set(xlabel=\"Pred\", ylabel=\"True\", xticklabels=classes, \n",
    "       yticklabels=classes, title=\"Confusion matrix\")\n",
    "plt.yticks(rotation=0)\n",
    "fig, ax = plt.subplots(nrows=1, ncols=2)\n",
    "\n",
    "## Plot roc\n",
    "for i in range(len(classes)):\n",
    "    fpr, tpr, thresholds = metrics.roc_curve(y_test_array[:,i],  \n",
    "                           predicted_prob[:,i])\n",
    "    ax[0].plot(fpr, tpr, lw=3, \n",
    "              label='{0} (area={1:0.2f})'.format(classes[i], \n",
    "                              metrics.auc(fpr, tpr))\n",
    "               )\n",
    "ax[0].plot([0,1], [0,1], color='navy', lw=3, linestyle='--')\n",
    "ax[0].set(xlim=[-0.05,1.0], ylim=[0.0,1.05], \n",
    "          xlabel='False Positive Rate', \n",
    "          ylabel=\"True Positive Rate (Recall)\", \n",
    "          title=\"Receiver operating characteristic\")\n",
    "ax[0].legend(loc=\"lower right\")\n",
    "ax[0].grid(True)\n",
    "    \n",
    "## Plot precision-recall curve\n",
    "for i in range(len(classes)):\n",
    "    precision, recall, thresholds = metrics.precision_recall_curve(\n",
    "                 y_test_array[:,i], predicted_prob[:,i])\n",
    "    ax[1].plot(recall, precision, lw=3, \n",
    "               label='{0} (area={1:0.2f})'.format(classes[i], \n",
    "                                  metrics.auc(recall, precision))\n",
    "              )\n",
    "ax[1].set(xlim=[0.0,1.05], ylim=[0.0,1.05], xlabel='Recall', \n",
    "          ylabel=\"Precision\", title=\"Precision-Recall curve\")\n",
    "ax[1].legend(loc=\"best\")\n",
    "ax[1].grid(True)\n",
    "plt.show()"
   ]
  }
 ],
 "metadata": {
  "kernelspec": {
   "display_name": "Python 3.10.8 64-bit (microsoft store)",
   "language": "python",
   "name": "python3"
  },
  "language_info": {
   "codemirror_mode": {
    "name": "ipython",
    "version": 3
   },
   "file_extension": ".py",
   "mimetype": "text/x-python",
   "name": "python",
   "nbconvert_exporter": "python",
   "pygments_lexer": "ipython3",
   "version": "3.10.8"
  },
  "orig_nbformat": 4,
  "vscode": {
   "interpreter": {
    "hash": "6405ec6159b0547165700ce207a2b1c9d048e435bca4e5d6f2cd71ef647b6574"
   }
  }
 },
 "nbformat": 4,
 "nbformat_minor": 2
}
