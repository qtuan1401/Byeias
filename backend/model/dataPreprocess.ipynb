{
 "cells": [
  {
   "cell_type": "code",
   "execution_count": 165,
   "metadata": {},
   "outputs": [],
   "source": [
    "import pandas as pd\n",
    "import re\n",
    "from tqdm.auto import tqdm"
   ]
  },
  {
   "cell_type": "code",
   "execution_count": 155,
   "metadata": {},
   "outputs": [],
   "source": [
    "path = r'..\\data\\genderTest.csv'\n",
    "df = pd.read_csv(path)"
   ]
  },
  {
   "cell_type": "code",
   "execution_count": 156,
   "metadata": {},
   "outputs": [],
   "source": [
    "cols = ['Unnamed: 0', 'id', 'title', 'publication', 'author', 'date', 'year',\n",
    "       'month', 'url']\n",
    "for col in cols:\n",
    "    if col in df.columns:\n",
    "        del df[col]"
   ]
  },
  {
   "cell_type": "code",
   "execution_count": 157,
   "metadata": {},
   "outputs": [
    {
     "data": {
      "text/plain": [
       "<bound method NDFrame.head of                                                  content\n",
       "0      WASHINGTON  —   Congressional Republicans have...\n",
       "1      After the bullet shells get counted, the blood...\n",
       "2      When Walt Disney’s “Bambi” opened in 1942, cri...\n",
       "3      Death may be the great equalizer, but it isn’t...\n",
       "4      SEOUL, South Korea  —   North Korea’s leader, ...\n",
       "...                                                  ...\n",
       "49995  As chairman and CEO of ExxonMobil, Rex Tillers...\n",
       "49996  I’ve spent nearly 20 years looking at intellig...\n",
       "49997    Donald Trump will not be taking necessary st...\n",
       "49998  Dozens of   colleges could be forced to close ...\n",
       "49999  The force of gravity can be described using a ...\n",
       "\n",
       "[50000 rows x 1 columns]>"
      ]
     },
     "execution_count": 157,
     "metadata": {},
     "output_type": "execute_result"
    }
   ],
   "source": [
    "df.head"
   ]
  },
  {
   "cell_type": "code",
   "execution_count": 161,
   "metadata": {},
   "outputs": [],
   "source": [
    "malePath = r'..\\data\\genderData\\Man'\n",
    "femalePath = r'..\\data\\genderData\\Woman'\n",
    "\n",
    "maleWords = ['countryman', 'fraternal', 'wizards', 'manservant', 'fathers', 'divo', 'actor', 'bachelor', 'papa', 'dukes', 'barman', 'countrymen', 'brideprice', 'hosts', 'airmen', 'andropause', 'penis', 'prince', 'governors', 'abbot', 'men', 'widower', 'gentlemen', 'sorcerers', 'sir', 'bridegrooms', 'baron', 'househusbands', 'gods', 'nephew', 'widowers', 'lord', 'brother', 'grooms', 'priest', 'adultors', 'andrology', 'bellboys', 'his', 'marquis', 'princes', 'emperors', 'stallion', 'chairman', 'monastery', 'priests', 'boyhood', 'fellas', 'king', 'dudes', 'daddies', 'manservant', 'semen', 'spokesman', 'tailor', 'cowboys', 'dude', 'bachelors', 'barbershop', 'emperor', 'daddy', 'masculism', 'guys', 'enchanter', 'guy', 'fatherhood', 'androgen', 'cameramen', 'godfather', 'strongman', 'god', 'patriarch', 'uncle', 'chairmen', 'sir', 'brotherhood', 'host', 'testosterone', 'husband', 'dad', 'steward', 'males', 'cialis', 'spokesmen', 'pa', 'beau', 'stud', 'bachelor', 'wizard', 'sir', 'nephews', 'fathered', 'bull', 'beaus', 'councilmen', 'landlords', 'grandson', 'fiances', 'stepfathers', 'horsemen', 'grandfathers', 'adultor', 'schoolboy', 'rooster', 'grandsons', 'bachelor', 'cameraman', 'dads', 'him', 'master', 'lad', 'policeman', 'monk', 'actors', 'salesmen', 'boyfriend', 'councilman', 'fella', 'statesman', 'paternal', 'chap', 'landlord', 'brethren', 'lords', 'blokes', 'fraternity', 'bellboy', 'duke', 'ballet_dancer', 'dudes', 'fiance', 'colts', 'husbands', 'suitor', 'paternity', 'he', 'businessman', 'masseurs', 'hero', 'deer', 'busboys', 'boyfriends', 'kings', 'brothers', 'masters', 'stepfather', 'grooms', 'son', 'studs', 'cowboy', 'mentleman', 'sons', 'baritone', 'salesman', 'paramour', 'male_host', 'monks', 'menservants', 'mr.', 'headmasters', 'lads', 'congressman', 'airman', 'househusband', 'priest', 'barmen', 'barons', 'abbots', 'handyman', 'beard', 'fraternities', 'stewards', 'colt', 'czar', 'stepsons', 'himself', 'boys', 'lions', 'gentleman', 'penis', 'his', 'masseur', 'bulls', 'uncles', 'bloke', 'beards', 'hubby', 'lion', 'sorcerer', 'macho', 'father', 'gays', 'male', 'waiters', 'sperm', 'prostate', 'stepson', 'prostatic_utricle', 'businessmen', 'heir', 'waiter', 'headmaster', 'man', 'governor', 'god', 'bridegroom', 'grandpa', 'groom', 'dude', 'gay', 'gents', 'boy', 'grandfather', 'gelding', 'paternity', 'roosters', 'prostatic_utricle', 'priests', 'manservants', 'stailor', 'busboy', 'heros', \"active\", \"adventurous\", \"aggress\", \"ambitio\", \"analy\", \"assert\", \"athlet\", \"autonom\", \"battle\", \"boast\", \"challeng\", \"champion\", \"compet\", \"confident\", \"courag\", \"decid\", \"decision\", \"decisive\", \"defend\", \"determin\", \"domina\", \"dominant\", \"driven\", \"fearless\", \"fight\", \"force\", \"greedy\", \"headstrong\", \"hierarch\", \"hostil\", \"impulsive\", \"independen\", \"individual\", \"intellect\", \"lead\", \"logic\", \"objective\", \"opinion\", \"outspoken\", \"persist\", \"principle\", \"reckless\", \"selfconfiden\", \"selfrelian\", \"selfsufficien\", \"stubborn\", \"superior\", \"unreasonab\"]\n",
    "femaleWords = ['countrywoman', 'sororal', 'witches', 'maidservant', 'mothers', 'diva', 'actress', 'spinster', 'mama', 'duchesses', 'barwoman', 'countrywomen', 'dowry', 'hostesses', 'airwomen', 'menopause', 'clitoris', 'princess', 'governesses', 'abbess', 'women', 'widow', 'ladies', 'sorceresses', 'madam', 'brides', 'baroness', 'housewives', 'godesses', 'niece', 'widows', 'lady', 'sister', 'brides', 'nun', 'adultresses', 'obstetrics', 'bellgirls', 'her', 'marchioness', 'princesses', 'empresses', 'mare', 'chairwoman', 'convent', 'priestesses', 'girlhood', 'ladies', 'queen', 'gals', 'mommies', 'maid', 'female_ejaculation', 'spokeswoman', 'seamstress', 'cowgirls', 'chick', 'spinsters', 'hair_salon', 'empress', 'mommy', 'feminism', 'gals', 'enchantress', 'gal', 'motherhood', 'estrogen', 'camerawomen', 'godmother', 'strongwoman', 'goddess', 'matriarch', 'aunt', 'chairwomen', \"ma'am\", 'sisterhood', 'hostess', 'estradiol', 'wife', 'mom', 'stewardess', 'females', 'viagra', 'spokeswomen', 'ma', 'belle', 'minx', 'maiden', 'witch', 'miss', 'nieces', 'mothered', 'cow', 'belles', 'councilwomen', 'landladies', 'granddaughter', 'fiancees', 'stepmothers', 'horsewomen', 'grandmothers', 'adultress', 'schoolgirl', 'hen', 'granddaughters', 'bachelorette', 'camerawoman', 'moms', 'her', 'mistress', 'lass', 'policewoman', 'nun', 'actresses', 'saleswomen', 'girlfriend', 'councilwoman', 'lady', 'stateswoman', 'maternal', 'lass', 'landlady', 'sistren', 'ladies', 'wenches', 'sorority', 'bellgirl', 'duchess', 'ballerina', 'chicks', 'fiancee', 'fillies', 'wives', 'suitress', 'maternity', 'she', 'businesswoman', 'masseuses', 'heroine', 'doe', 'busgirls', 'girlfriends', 'queens', 'sisters', 'mistresses', 'stepmother', 'brides', 'daughter', 'minxes', 'cowgirl', 'lady', 'daughters', 'mezzo', 'saleswoman', 'mistress', 'hostess', 'nuns', 'maids', 'mrs.', 'headmistresses', 'lasses', 'congresswoman', 'airwoman', 'housewife', 'priestess', 'barwomen', 'barnoesses', 'abbesses', 'handywoman', 'toque', 'sororities', 'stewardesses', 'filly', 'czarina', 'stepdaughters', 'herself', 'girls', 'lionesses', 'lady', 'vagina', 'hers', 'masseuse', 'cows', 'aunts', 'wench', 'toques', 'wife', 'lioness', 'sorceress', 'effeminate', 'mother', 'lesbians', 'female', 'waitresses', 'ovum', 'skene_gland', 'stepdaughter', 'womb', 'businesswomen', 'heiress', 'waitress', 'headmistress', 'woman', 'governess', 'godess', 'bride', 'grandma', 'bride', 'gal', 'lesbian', 'ladies', 'girl', 'grandmother', 'mare', 'maternity', 'hens', 'uterus', 'nuns', 'maidservants', \"seamstress'\", 'busgirl', 'heroines', \"agree\", \"affectionate\", \"child\", \"cheer\", \"collab\", \"commit\", \"communal\", \"compassion\", \"connect\", \"considerate\", \"cooperat\", \"depend\", \"emotiona\", \"empath\", \"feel\", \"flatterable\", \"gentle\", \"honest\", \"interpersonal\", \"interdependen\", \"interpersona\", \"kind\", \"kinship\", \"loyal\", \"modesty\", \"nag\", \"nurtur\", \"pleasant\", \"polite\", \"quiet\", \"respon\", \"sensitiv\", \"submissive\", \"support\", \"sympath\", \"tender\", \"together\", \"trust\", \"understand\", \"warm\", \"whin\", \"enthusias\", \"inclusive\", \"yield\", \"share\", \"sharin\"]"
   ]
  },
  {
   "cell_type": "code",
   "execution_count": 162,
   "metadata": {},
   "outputs": [],
   "source": [
    "def checkGender(x):\n",
    "    maleCount = 0\n",
    "    femaleCount = 0\n",
    "    string = df.iloc[x,0]\n",
    "    for i in maleWords:\n",
    "        maleCount += len(re.findall(i, string))\n",
    "    \n",
    "    for i in femaleWords:\n",
    "        femaleCount += len(re.findall(i, string))\n",
    "\n",
    "    if maleCount > femaleCount:\n",
    "        return 'male'\n",
    "    elif maleCount < femaleCount:\n",
    "        return 'female'\n",
    "    else:\n",
    "        return 'neutral'\n",
    "        \n",
    "    "
   ]
  },
  {
   "cell_type": "code",
   "execution_count": 166,
   "metadata": {},
   "outputs": [
    {
     "data": {
      "application/vnd.jupyter.widget-view+json": {
       "model_id": "668b126afa0f4736b9ff0698ef3ff0a3",
       "version_major": 2,
       "version_minor": 0
      },
      "text/plain": [
       "  0%|          | 0/50000 [00:00<?, ?it/s]"
      ]
     },
     "metadata": {},
     "output_type": "display_data"
    }
   ],
   "source": [
    "for x in tqdm(range(len(df.index))):\n",
    "    gender = checkGender(x)\n",
    "    if gender == 'male':\n",
    "        with open(malePath + '\\\\' + str(x) + '.txt', 'w', encoding='utf-8') as f:\n",
    "            f.write(df.iloc[x,0])\n",
    "    elif gender == 'female':\n",
    "        with open(femalePath + '\\\\' + str(x) + '.txt', 'w', encoding='utf-8') as f:\n",
    "            f.write(df.iloc[x,0])\n"
   ]
  }
 ],
 "metadata": {
  "kernelspec": {
   "display_name": "Python 3.10.7 64-bit (microsoft store)",
   "language": "python",
   "name": "python3"
  },
  "language_info": {
   "codemirror_mode": {
    "name": "ipython",
    "version": 3
   },
   "file_extension": ".py",
   "mimetype": "text/x-python",
   "name": "python",
   "nbconvert_exporter": "python",
   "pygments_lexer": "ipython3",
   "version": "3.10.7"
  },
  "orig_nbformat": 4,
  "vscode": {
   "interpreter": {
    "hash": "6405ec6159b0547165700ce207a2b1c9d048e435bca4e5d6f2cd71ef647b6574"
   }
  }
 },
 "nbformat": 4,
 "nbformat_minor": 2
}
