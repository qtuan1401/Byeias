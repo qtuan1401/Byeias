{
 "cells": [
  {
   "cell_type": "code",
   "execution_count": 1,
   "metadata": {},
   "outputs": [
    {
     "name": "stderr",
     "output_type": "stream",
     "text": [
      "C:\\Users\\Sam's PC\\AppData\\Local\\Packages\\PythonSoftwareFoundation.Python.3.10_qbz5n2kfra8p0\\LocalCache\\local-packages\\Python310\\site-packages\\requests\\__init__.py:102: RequestsDependencyWarning: urllib3 (1.26.9) or chardet (5.0.0)/charset_normalizer (2.0.12) doesn't match a supported version!\n",
      "  warnings.warn(\"urllib3 ({}) or chardet ({})/charset_normalizer ({}) doesn't match a supported \"\n"
     ]
    }
   ],
   "source": [
    "import pathlib\n",
    "from sklearn import neighbors\n",
    "from sklearn import metrics\n",
    "import string\n",
    "import numpy as np\n",
    "from tqdm.auto import tqdm\n",
    "\n",
    "import spacy\n",
    "nlp = spacy.load('en_core_web_lg')\n",
    "\n",
    "from scipy import spatial"
   ]
  },
  {
   "cell_type": "code",
   "execution_count": 2,
   "metadata": {},
   "outputs": [
    {
     "data": {
      "application/vnd.jupyter.widget-view+json": {
       "model_id": "31cca561ee104e6fa6f70f90b7b56254",
       "version_major": 2,
       "version_minor": 0
      },
      "text/plain": [
       "  0%|          | 0/2 [00:00<?, ?it/s]"
      ]
     },
     "metadata": {},
     "output_type": "display_data"
    },
    {
     "data": {
      "application/vnd.jupyter.widget-view+json": {
       "model_id": "7e59f6f2ca554cf1b77bcb539b997277",
       "version_major": 2,
       "version_minor": 0
      },
      "text/plain": [
       "0it [00:00, ?it/s]"
      ]
     },
     "metadata": {},
     "output_type": "display_data"
    },
    {
     "data": {
      "application/vnd.jupyter.widget-view+json": {
       "model_id": "891703eed3874609ba9b3052defd9ef3",
       "version_major": 2,
       "version_minor": 0
      },
      "text/plain": [
       "0it [00:00, ?it/s]"
      ]
     },
     "metadata": {},
     "output_type": "display_data"
    }
   ],
   "source": [
    "docs = []\n",
    "labels = []\n",
    "\n",
    "directory = pathlib.Path(r'..\\data\\genderData')\n",
    "label_names = ['Male', 'Female']\n",
    "\n",
    "for label in tqdm(label_names):\n",
    "    for file in tqdm(directory.joinpath(label).iterdir()):\n",
    "        labels.append(label)\n",
    "        docs.append(file.read_text(encoding='utf-8'))"
   ]
  },
  {
   "cell_type": "code",
   "execution_count": 3,
   "metadata": {},
   "outputs": [
    {
     "name": "stdout",
     "output_type": "stream",
     "text": [
      "Male\n"
     ]
    },
    {
     "data": {
      "text/plain": [
       "'WASHINGTON  —   Congressional Republicans have a new fear when it comes to their    health care lawsuit against the Obama administration: They might win. The incoming Trump administration could choose to no longer defend the executive branch against the suit, which challenges the administration’s authority to spend billions of dollars on health insurance subsidies for   and   Americans, handing House Republicans a big victory on    issues. But a sudden loss of the disputed subsidies could conceivably cause the health care program to implode, leaving millions of people without access to health insurance before Republicans have prepared a replacement. That could lead to chaos in the insurance market and spur a political backlash just as Republicans gain full control of the government. To stave off that outcome, Republicans could find themselves in the awkward position of appropriating huge sums to temporarily prop up the Obama health care law, angering conservative voters who have been demanding an end to the law for years. In another twist, Donald J. Trump’s administration, worried about preserving executive branch prerogatives, could choose to fight its Republican allies in the House on some central questions in the dispute. Eager to avoid an ugly political pileup, Republicans on Capitol Hill and the Trump transition team are gaming out how to handle the lawsuit, which, after the election, has been put in limbo until at least late February by the United States Court of Appeals for the District of Columbia Circuit. They are not yet ready to divulge their strategy. “Given that this pending litigation involves the Obama administration and Congress, it would be inappropriate to comment,” said Phillip J. Blando, a spokesman for the Trump transition effort. “Upon taking office, the Trump administration will evaluate this case and all related aspects of the Affordable Care Act. ” In a potentially   decision in 2015, Judge Rosemary M. Collyer ruled that House Republicans had the standing to sue the executive branch over a spending dispute and that the Obama administration had been distributing the health insurance subsidies, in violation of the Constitution, without approval from Congress. The Justice Department, confident that Judge Collyer’s decision would be reversed, quickly appealed, and the subsidies have remained in place during the appeal. In successfully seeking a temporary halt in the proceedings after Mr. Trump won, House Republicans last month told the court that they “and the  ’s transition team currently are discussing potential options for resolution of this matter, to take effect after the  ’s inauguration on Jan. 20, 2017. ” The suspension of the case, House lawyers said, will “provide the   and his future administration time to consider whether to continue prosecuting or to otherwise resolve this appeal. ” Republican leadership officials in the House acknowledge the possibility of “cascading effects” if the   payments, which have totaled an estimated $13 billion, are suddenly stopped. Insurers that receive the subsidies in exchange for paying    costs such as deductibles and   for eligible consumers could race to drop coverage since they would be losing money. Over all, the loss of the subsidies could destabilize the entire program and cause a lack of confidence that leads other insurers to seek a quick exit as well. Anticipating that the Trump administration might not be inclined to mount a vigorous fight against the House Republicans given the  ’s dim view of the health care law, a team of lawyers this month sought to intervene in the case on behalf of two participants in the health care program. In their request, the lawyers predicted that a deal between House Republicans and the new administration to dismiss or settle the case “will produce devastating consequences for the individuals who receive these reductions, as well as for the nation’s health insurance and health care systems generally. ” No matter what happens, House Republicans say, they want to prevail on two overarching concepts: the congressional power of the purse, and the right of Congress to sue the executive branch if it violates the Constitution regarding that spending power. House Republicans contend that Congress never appropriated the money for the subsidies, as required by the Constitution. In the suit, which was initially championed by John A. Boehner, the House speaker at the time, and later in House committee reports, Republicans asserted that the administration, desperate for the funding, had required the Treasury Department to provide it despite widespread internal skepticism that the spending was proper. The White House said that the spending was a permanent part of the law passed in 2010, and that no annual appropriation was required  —   even though the administration initially sought one. Just as important to House Republicans, Judge Collyer found that Congress had the standing to sue the White House on this issue  —   a ruling that many legal experts said was flawed  —   and they want that precedent to be set to restore congressional leverage over the executive branch. But on spending power and standing, the Trump administration may come under pressure from advocates of presidential authority to fight the House no matter their shared views on health care, since those precedents could have broad repercussions. It is a complicated set of dynamics illustrating how a quick legal victory for the House in the Trump era might come with costs that Republicans never anticipated when they took on the Obama White House.'"
      ]
     },
     "execution_count": 3,
     "metadata": {},
     "output_type": "execute_result"
    }
   ],
   "source": [
    "doc = docs[0]\n",
    "print(labels[0])\n",
    "doc"
   ]
  },
  {
   "cell_type": "code",
   "execution_count": 4,
   "metadata": {},
   "outputs": [],
   "source": [
    "def clean_text(text):\n",
    "    text = text.lower()\n",
    "    text = text.translate(str.maketrans('', '', string.punctuation))\n",
    "    text = text.replace('\\n', ' ')\n",
    "    text = ' '.join(text.split())  # remove multiple whitespaces\n",
    "    return text"
   ]
  },
  {
   "cell_type": "code",
   "execution_count": 5,
   "metadata": {},
   "outputs": [
    {
     "data": {
      "text/plain": [
       "'washington — congressional republicans have a new fear when it comes to their health care lawsuit against the obama administration they might win the incoming trump administration could choose to no longer defend the executive branch against the suit which challenges the administration’s authority to spend billions of dollars on health insurance subsidies for and americans handing house republicans a big victory on issues but a sudden loss of the disputed subsidies could conceivably cause the health care program to implode leaving millions of people without access to health insurance before republicans have prepared a replacement that could lead to chaos in the insurance market and spur a political backlash just as republicans gain full control of the government to stave off that outcome republicans could find themselves in the awkward position of appropriating huge sums to temporarily prop up the obama health care law angering conservative voters who have been demanding an end to the law for years in another twist donald j trump’s administration worried about preserving executive branch prerogatives could choose to fight its republican allies in the house on some central questions in the dispute eager to avoid an ugly political pileup republicans on capitol hill and the trump transition team are gaming out how to handle the lawsuit which after the election has been put in limbo until at least late february by the united states court of appeals for the district of columbia circuit they are not yet ready to divulge their strategy “given that this pending litigation involves the obama administration and congress it would be inappropriate to comment” said phillip j blando a spokesman for the trump transition effort “upon taking office the trump administration will evaluate this case and all related aspects of the affordable care act ” in a potentially decision in 2015 judge rosemary m collyer ruled that house republicans had the standing to sue the executive branch over a spending dispute and that the obama administration had been distributing the health insurance subsidies in violation of the constitution without approval from congress the justice department confident that judge collyer’s decision would be reversed quickly appealed and the subsidies have remained in place during the appeal in successfully seeking a temporary halt in the proceedings after mr trump won house republicans last month told the court that they “and the ’s transition team currently are discussing potential options for resolution of this matter to take effect after the ’s inauguration on jan 20 2017 ” the suspension of the case house lawyers said will “provide the and his future administration time to consider whether to continue prosecuting or to otherwise resolve this appeal ” republican leadership officials in the house acknowledge the possibility of “cascading effects” if the payments which have totaled an estimated 13 billion are suddenly stopped insurers that receive the subsidies in exchange for paying costs such as deductibles and for eligible consumers could race to drop coverage since they would be losing money over all the loss of the subsidies could destabilize the entire program and cause a lack of confidence that leads other insurers to seek a quick exit as well anticipating that the trump administration might not be inclined to mount a vigorous fight against the house republicans given the ’s dim view of the health care law a team of lawyers this month sought to intervene in the case on behalf of two participants in the health care program in their request the lawyers predicted that a deal between house republicans and the new administration to dismiss or settle the case “will produce devastating consequences for the individuals who receive these reductions as well as for the nation’s health insurance and health care systems generally ” no matter what happens house republicans say they want to prevail on two overarching concepts the congressional power of the purse and the right of congress to sue the executive branch if it violates the constitution regarding that spending power house republicans contend that congress never appropriated the money for the subsidies as required by the constitution in the suit which was initially championed by john a boehner the house speaker at the time and later in house committee reports republicans asserted that the administration desperate for the funding had required the treasury department to provide it despite widespread internal skepticism that the spending was proper the white house said that the spending was a permanent part of the law passed in 2010 and that no annual appropriation was required — even though the administration initially sought one just as important to house republicans judge collyer found that congress had the standing to sue the white house on this issue — a ruling that many legal experts said was flawed — and they want that precedent to be set to restore congressional leverage over the executive branch but on spending power and standing the trump administration may come under pressure from advocates of presidential authority to fight the house no matter their shared views on health care since those precedents could have broad repercussions it is a complicated set of dynamics illustrating how a quick legal victory for the house in the trump era might come with costs that republicans never anticipated when they took on the obama white house'"
      ]
     },
     "execution_count": 5,
     "metadata": {},
     "output_type": "execute_result"
    }
   ],
   "source": [
    "doc = clean_text(doc)\n",
    "doc"
   ]
  },
  {
   "cell_type": "code",
   "execution_count": 6,
   "metadata": {},
   "outputs": [],
   "source": [
    "def embed(tokens, nlp):\n",
    "    \"\"\"Return the centroid of the embeddings for the given tokens.\n",
    "\n",
    "    Out-of-vocabulary tokens are cast aside. Stop words are also\n",
    "    discarded. An array of 0s is returned if none of the tokens\n",
    "    are valid.\n",
    "\n",
    "    \"\"\"\n",
    "\n",
    "    lexemes = (nlp.vocab[token] for token in tokens)\n",
    "\n",
    "    vectors = np.asarray([\n",
    "        lexeme.vector\n",
    "        for lexeme in lexemes\n",
    "        if lexeme.has_vector\n",
    "        and not lexeme.is_stop\n",
    "        and len(lexeme.text) > 1\n",
    "    ])\n",
    "\n",
    "    if len(vectors) > 0:\n",
    "        centroid = vectors.mean(axis=0)\n",
    "    else:\n",
    "        width = nlp.meta['vectors']['width']  # typically 300\n",
    "        centroid = np.zeros(width)\n",
    "\n",
    "    return centroid"
   ]
  },
  {
   "cell_type": "code",
   "execution_count": 7,
   "metadata": {},
   "outputs": [
    {
     "name": "stdout",
     "output_type": "stream",
     "text": [
      "(300,)\n",
      "[-1.0341872   0.29092434 -2.5468051   0.5357483   2.9095006   0.71387833\n",
      "  0.8422483   3.4557972  -0.9317664  -0.9081056 ]\n"
     ]
    }
   ],
   "source": [
    "tokens = doc.split(' ')\n",
    "centroid = embed(tokens, nlp)\n",
    "print(centroid.shape)\n",
    "print(centroid[:10])"
   ]
  },
  {
   "cell_type": "code",
   "execution_count": 8,
   "metadata": {},
   "outputs": [
    {
     "data": {
      "text/plain": [
       "(2, 300)"
      ]
     },
     "execution_count": 8,
     "metadata": {},
     "output_type": "execute_result"
    }
   ],
   "source": [
    "label_vectors = np.asarray([\n",
    "    embed(label.split(' '), nlp)\n",
    "    for label in label_names\n",
    "])\n",
    "label_vectors.shape"
   ]
  },
  {
   "cell_type": "code",
   "execution_count": 9,
   "metadata": {},
   "outputs": [
    {
     "data": {
      "text/plain": [
       "'Female'"
      ]
     },
     "execution_count": 9,
     "metadata": {},
     "output_type": "execute_result"
    }
   ],
   "source": [
    "neigh = neighbors.NearestNeighbors(n_neighbors=1)\n",
    "neigh.fit(label_vectors)\n",
    "closest_label = neigh.kneighbors([centroid], return_distance=False)[0, 0]\n",
    "label_names[closest_label]"
   ]
  },
  {
   "cell_type": "code",
   "execution_count": 10,
   "metadata": {},
   "outputs": [],
   "source": [
    "def predict(doc, nlp, neigh):\n",
    "    doc = clean_text(doc)\n",
    "    tokens = doc.split(' ')[:50]\n",
    "    centroid = embed(tokens, nlp)\n",
    "    closest_label = neigh.kneighbors([centroid], return_distance=False)[0][0]\n",
    "    return closest_label"
   ]
  },
  {
   "cell_type": "code",
   "execution_count": 11,
   "metadata": {},
   "outputs": [
    {
     "data": {
      "application/vnd.jupyter.widget-view+json": {
       "model_id": "11eaf082911c4a6d9580ec40e2f2c6f4",
       "version_major": 2,
       "version_minor": 0
      },
      "text/plain": [
       "  0%|          | 0/40666 [00:00<?, ?it/s]"
      ]
     },
     "metadata": {},
     "output_type": "display_data"
    },
    {
     "name": "stderr",
     "output_type": "stream",
     "text": [
      "C:\\Users\\Sam's PC\\AppData\\Local\\Packages\\PythonSoftwareFoundation.Python.3.10_qbz5n2kfra8p0\\LocalCache\\local-packages\\Python310\\site-packages\\scipy\\spatial\\distance.py:620: RuntimeWarning: invalid value encountered in double_scalars\n",
      "  dist = 1.0 - uv / np.sqrt(uu * vv)\n"
     ]
    },
    {
     "name": "stdout",
     "output_type": "stream",
     "text": [
      "              precision    recall  f1-score   support\n",
      "\n",
      "        Male       0.35      0.00      0.00     18727\n",
      "      Female       0.54      1.00      0.70     21939\n",
      "\n",
      "    accuracy                           0.54     40666\n",
      "   macro avg       0.45      0.50      0.35     40666\n",
      "weighted avg       0.45      0.54      0.38     40666\n",
      "\n"
     ]
    }
   ],
   "source": [
    "neigh = neighbors.NearestNeighbors(\n",
    "    n_neighbors=1,\n",
    "    metric=spatial.distance.cosine\n",
    ")\n",
    "\n",
    "neigh.fit(label_vectors)\n",
    "\n",
    "preds = [label_names[predict(doc, nlp, neigh)] for doc in tqdm(docs)]\n",
    "\n",
    "report = metrics.classification_report(\n",
    "    y_true=labels,\n",
    "    y_pred=preds,\n",
    "    labels=label_names\n",
    ")\n",
    "\n",
    "print(report)"
   ]
  }
 ],
 "metadata": {
  "kernelspec": {
   "display_name": "Python 3.10.7 64-bit (microsoft store)",
   "language": "python",
   "name": "python3"
  },
  "language_info": {
   "codemirror_mode": {
    "name": "ipython",
    "version": 3
   },
   "file_extension": ".py",
   "mimetype": "text/x-python",
   "name": "python",
   "nbconvert_exporter": "python",
   "pygments_lexer": "ipython3",
   "version": "3.10.7"
  },
  "orig_nbformat": 4,
  "vscode": {
   "interpreter": {
    "hash": "6405ec6159b0547165700ce207a2b1c9d048e435bca4e5d6f2cd71ef647b6574"
   }
  }
 },
 "nbformat": 4,
 "nbformat_minor": 2
}
