{
 "cells": [
  {
   "cell_type": "code",
   "execution_count": 1,
   "metadata": {},
   "outputs": [],
   "source": [
    "import os\n",
    "import pickle\n",
    "import weka.core.jvm as jvm\n",
    "from weka.core.converters import Loader\n",
    "from weka.classifiers import Classifier\n",
    "import tempfile\n",
    "import traceback\n",
    "import weka.core.serialization as serialization\n",
    "from weka.classifiers import Classifier\n",
    "from weka.core.classes import Random\n",
    "import weka.core.jvm as jvm\n",
    "from weka.core.classes import Random\n",
    "from weka.core.converters import Loader\n",
    "from weka.classifiers import Classifier, Evaluation, PredictionOutput, Prediction\n",
    "import arff\n",
    "import pandas as pd\n",
    "import numpy as np"
   ]
  },
  {
   "cell_type": "code",
   "execution_count": 2,
   "metadata": {},
   "outputs": [
    {
     "name": "stderr",
     "output_type": "stream",
     "text": [
      "DEBUG:weka.core.jvm:Adding bundled jars\n",
      "DEBUG:weka.core.jvm:Classpath=['D:\\\\Anaconda\\\\envs\\\\pww3\\\\Lib\\\\site-packages\\\\javabridge\\\\jars\\\\rhino-1.7R4.jar', 'D:\\\\Anaconda\\\\envs\\\\pww3\\\\Lib\\\\site-packages\\\\javabridge\\\\jars\\\\runnablequeue.jar', 'D:\\\\Anaconda\\\\envs\\\\pww3\\\\Lib\\\\site-packages\\\\javabridge\\\\jars\\\\cpython.jar', 'd:\\\\Anaconda\\\\envs\\\\pww3\\\\lib\\\\site-packages\\\\weka\\\\lib\\\\python-weka-wrapper.jar', 'd:\\\\Anaconda\\\\envs\\\\pww3\\\\lib\\\\site-packages\\\\weka\\\\lib\\\\weka.jar']\n",
      "DEBUG:weka.core.jvm:MaxHeapSize=default\n",
      "DEBUG:weka.core.jvm:Package support disabled\n"
     ]
    }
   ],
   "source": [
    "jvm.start()"
   ]
  },
  {
   "cell_type": "code",
   "execution_count": 3,
   "metadata": {},
   "outputs": [],
   "source": [
    "data_dir = r'..\\data\\raw\\adFontes.csv'\n",
    "loader = Loader(classname=\"weka.core.converters.CSVLoader\")\n",
    "data = loader.load_file(data_dir)\n",
    "data.class_is_last()\n",
    "train, test = data.train_test_split(66.0, Random(1))"
   ]
  },
  {
   "cell_type": "code",
   "execution_count": 4,
   "metadata": {},
   "outputs": [],
   "source": [
    "classifier = Classifier(\"weka.classifiers.lazy.IBk\", options = [\"-E\", \"-K\", \"11\", \"-I\"])"
   ]
  },
  {
   "cell_type": "code",
   "execution_count": 5,
   "metadata": {},
   "outputs": [],
   "source": [
    "classifier.build_classifier(train)"
   ]
  },
  {
   "cell_type": "code",
   "execution_count": 6,
   "metadata": {},
   "outputs": [
    {
     "name": "stdout",
     "output_type": "stream",
     "text": [
      "IB1 instance-based classifier\n",
      "using 11 inverse-distance-weighted nearest neighbour(s) for classification\n",
      "\n"
     ]
    }
   ],
   "source": [
    "print(classifier)"
   ]
  },
  {
   "cell_type": "code",
   "execution_count": 7,
   "metadata": {},
   "outputs": [
    {
     "name": "stdout",
     "output_type": "stream",
     "text": [
      "\n"
     ]
    }
   ],
   "source": [
    "outfile = 'prediction.csv'\n",
    "output = PredictionOutput(classname=\"weka.classifiers.evaluation.output.prediction.CSV\", options=[\"-distribution\", \"-suppress\", \"-file\", outfile])\n",
    "output.header = test[0]\n",
    "output.print_classification(classifier, test[0], 0)\n",
    "print(output.buffer_content())"
   ]
  },
  {
   "cell_type": "code",
   "execution_count": 8,
   "metadata": {},
   "outputs": [
    {
     "name": "stdout",
     "output_type": "stream",
     "text": [
      "\n",
      "Correlation coefficient                  0.5819\n",
      "Mean absolute error                      3.9691\n",
      "Root mean squared error                  5.3467\n",
      "Relative absolute error                 64.1063 %\n",
      "Root relative squared error             71.3635 %\n",
      "Total Number of Instances               10     \n",
      "\n"
     ]
    }
   ],
   "source": [
    "output = PredictionOutput(classname=\"weka.classifiers.evaluation.output.prediction.CSV\", options=[\"-distribution\"])\n",
    "evl = Evaluation(train)\n",
    "evl.test_model(classifier, test[:10], output=output)\n",
    "print(evl.summary())\n",
    "#print(output.buffer_content())"
   ]
  },
  {
   "cell_type": "code",
   "execution_count": 9,
   "metadata": {},
   "outputs": [],
   "source": [
    "#jvm.stop()"
   ]
  }
 ],
 "metadata": {
  "kernelspec": {
   "display_name": "Python 3.9.13 ('pww3')",
   "language": "python",
   "name": "python3"
  },
  "language_info": {
   "codemirror_mode": {
    "name": "ipython",
    "version": 3
   },
   "file_extension": ".py",
   "mimetype": "text/x-python",
   "name": "python",
   "nbconvert_exporter": "python",
   "pygments_lexer": "ipython3",
   "version": "3.9.13"
  },
  "orig_nbformat": 4,
  "vscode": {
   "interpreter": {
    "hash": "9bfb2af505bcafee846240d94eb88b72f3d716c790475ff172ee572d9cd64fb0"
   }
  }
 },
 "nbformat": 4,
 "nbformat_minor": 2
}
