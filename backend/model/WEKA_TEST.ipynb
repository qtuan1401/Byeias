{
 "cells": [
  {
   "cell_type": "code",
   "execution_count": 11,
   "metadata": {},
   "outputs": [],
   "source": [
    "import os\n",
    "import pickle\n",
    "import weka.core.jvm as jvm\n",
    "from weka.core.converters import Loader\n",
    "from weka.classifiers import Classifier\n",
    "import tempfile\n",
    "import traceback\n",
    "import weka.core.serialization as serialization\n",
    "from weka.classifiers import Classifier\n",
    "from weka.core.classes import Random\n",
    "import weka.core.jvm as jvm\n",
    "from weka.core.classes import Random\n",
    "from weka.core.converters import Loader\n",
    "from weka.classifiers import Classifier, Evaluation, PredictionOutput"
   ]
  },
  {
   "cell_type": "code",
   "execution_count": 5,
   "metadata": {},
   "outputs": [
    {
     "name": "stderr",
     "output_type": "stream",
     "text": [
      "DEBUG:weka.core.jvm:Adding bundled jars\n",
      "DEBUG:weka.core.jvm:Classpath=['D:\\\\Anaconda\\\\envs\\\\pww3\\\\Lib\\\\site-packages\\\\javabridge\\\\jars\\\\rhino-1.7R4.jar', 'D:\\\\Anaconda\\\\envs\\\\pww3\\\\Lib\\\\site-packages\\\\javabridge\\\\jars\\\\runnablequeue.jar', 'D:\\\\Anaconda\\\\envs\\\\pww3\\\\Lib\\\\site-packages\\\\javabridge\\\\jars\\\\cpython.jar', 'd:\\\\Anaconda\\\\envs\\\\pww3\\\\lib\\\\site-packages\\\\weka\\\\lib\\\\python-weka-wrapper.jar', 'd:\\\\Anaconda\\\\envs\\\\pww3\\\\lib\\\\site-packages\\\\weka\\\\lib\\\\weka.jar']\n",
      "DEBUG:weka.core.jvm:MaxHeapSize=default\n",
      "DEBUG:weka.core.jvm:Package support disabled\n"
     ]
    }
   ],
   "source": [
    "jvm.start()"
   ]
  },
  {
   "cell_type": "code",
   "execution_count": 6,
   "metadata": {},
   "outputs": [],
   "source": [
    "data_dir = r'..\\data\\adFontesin.arff'\n",
    "loader = Loader(classname=\"weka.core.converters.ArffLoader\")\n",
    "data = loader.load_file(data_dir)\n",
    "data.class_is_last()\n",
    "train, test = data.train_test_split(66.0, Random(1))"
   ]
  },
  {
   "cell_type": "code",
   "execution_count": 7,
   "metadata": {},
   "outputs": [],
   "source": [
    "objects = serialization.read_all(r\"..\\data\\models\\WEKA_GENDER_2.model\")\n",
    "cls = Classifier(jobject=objects[0])"
   ]
  },
  {
   "cell_type": "code",
   "execution_count": 8,
   "metadata": {},
   "outputs": [],
   "source": [
    "cls.build_classifier(train)"
   ]
  },
  {
   "cell_type": "code",
   "execution_count": 9,
   "metadata": {},
   "outputs": [
    {
     "name": "stdout",
     "output_type": "stream",
     "text": [
      "IB1 instance-based classifier\n",
      "using 1 nearest neighbour(s) for classification\n",
      "\n"
     ]
    }
   ],
   "source": [
    "print(cls)"
   ]
  },
  {
   "cell_type": "code",
   "execution_count": 13,
   "metadata": {},
   "outputs": [
    {
     "ename": "AttributeError",
     "evalue": "'str' object has no attribute 'jobject'",
     "output_type": "error",
     "traceback": [
      "\u001b[1;31m---------------------------------------------------------------------------\u001b[0m",
      "\u001b[1;31mAttributeError\u001b[0m                            Traceback (most recent call last)",
      "\u001b[1;32mc:\\Users\\Sam's PC\\Documents\\GitHub\\Sway\\backend\\model\\WEKA_TEST.ipynb Cell 7\u001b[0m in \u001b[0;36m<cell line: 5>\u001b[1;34m()\u001b[0m\n\u001b[0;32m      <a href='vscode-notebook-cell:/c%3A/Users/Sam%27s%20PC/Documents/GitHub/Sway/backend/model/WEKA_TEST.ipynb#X10sZmlsZQ%3D%3D?line=2'>3</a>\u001b[0m output \u001b[39m=\u001b[39m PredictionOutput(classname\u001b[39m=\u001b[39m\u001b[39m\"\u001b[39m\u001b[39mweka.classifiers.evaluation.output.prediction.CSV\u001b[39m\u001b[39m\"\u001b[39m, options\u001b[39m=\u001b[39m[\u001b[39m\"\u001b[39m\u001b[39m-distribution\u001b[39m\u001b[39m\"\u001b[39m])\n\u001b[0;32m      <a href='vscode-notebook-cell:/c%3A/Users/Sam%27s%20PC/Documents/GitHub/Sway/backend/model/WEKA_TEST.ipynb#X10sZmlsZQ%3D%3D?line=3'>4</a>\u001b[0m evl \u001b[39m=\u001b[39m Evaluation(train)\n\u001b[1;32m----> <a href='vscode-notebook-cell:/c%3A/Users/Sam%27s%20PC/Documents/GitHub/Sway/backend/model/WEKA_TEST.ipynb#X10sZmlsZQ%3D%3D?line=4'>5</a>\u001b[0m evl\u001b[39m.\u001b[39;49mtest_model(\u001b[39mcls\u001b[39;49m, txt, output\u001b[39m=\u001b[39;49moutput)\n\u001b[0;32m      <a href='vscode-notebook-cell:/c%3A/Users/Sam%27s%20PC/Documents/GitHub/Sway/backend/model/WEKA_TEST.ipynb#X10sZmlsZQ%3D%3D?line=5'>6</a>\u001b[0m \u001b[39mprint\u001b[39m(evl\u001b[39m.\u001b[39msummary())\n\u001b[0;32m      <a href='vscode-notebook-cell:/c%3A/Users/Sam%27s%20PC/Documents/GitHub/Sway/backend/model/WEKA_TEST.ipynb#X10sZmlsZQ%3D%3D?line=6'>7</a>\u001b[0m \u001b[39mprint\u001b[39m(output\u001b[39m.\u001b[39mbuffer_content())\n",
      "File \u001b[1;32md:\\Anaconda\\envs\\pww3\\lib\\site-packages\\weka\\classifiers.py:1333\u001b[0m, in \u001b[0;36mEvaluation.test_model\u001b[1;34m(self, classifier, data, output)\u001b[0m\n\u001b[0;32m   1331\u001b[0m     generator \u001b[39m=\u001b[39m []\n\u001b[0;32m   1332\u001b[0m \u001b[39melse\u001b[39;00m:\n\u001b[1;32m-> 1333\u001b[0m     output\u001b[39m.\u001b[39mheader \u001b[39m=\u001b[39m data\n\u001b[0;32m   1334\u001b[0m     generator \u001b[39m=\u001b[39m [output\u001b[39m.\u001b[39mjobject]\n\u001b[0;32m   1335\u001b[0m \u001b[39mcls\u001b[39m \u001b[39m=\u001b[39m javabridge\u001b[39m.\u001b[39mcall(\n\u001b[0;32m   1336\u001b[0m     \u001b[39mself\u001b[39m\u001b[39m.\u001b[39mjobject, \u001b[39m\"\u001b[39m\u001b[39mevaluateModel\u001b[39m\u001b[39m\"\u001b[39m,\n\u001b[0;32m   1337\u001b[0m     \u001b[39m\"\u001b[39m\u001b[39m(Lweka/classifiers/Classifier;Lweka/core/Instances;[Ljava/lang/Object;)[D\u001b[39m\u001b[39m\"\u001b[39m,\n\u001b[0;32m   1338\u001b[0m     classifier\u001b[39m.\u001b[39mjobject, data\u001b[39m.\u001b[39mjobject, generator)\n",
      "File \u001b[1;32md:\\Anaconda\\envs\\pww3\\lib\\site-packages\\weka\\classifiers.py:2134\u001b[0m, in \u001b[0;36mPredictionOutput.header\u001b[1;34m(self, data)\u001b[0m\n\u001b[0;32m   2126\u001b[0m \u001b[39m@header\u001b[39m\u001b[39m.\u001b[39msetter\n\u001b[0;32m   2127\u001b[0m \u001b[39mdef\u001b[39;00m \u001b[39mheader\u001b[39m(\u001b[39mself\u001b[39m, data):\n\u001b[0;32m   2128\u001b[0m     \u001b[39m\"\"\"\u001b[39;00m\n\u001b[0;32m   2129\u001b[0m \u001b[39m    Sets the header format.\u001b[39;00m\n\u001b[0;32m   2130\u001b[0m \n\u001b[0;32m   2131\u001b[0m \u001b[39m    :param data: The dataset format\u001b[39;00m\n\u001b[0;32m   2132\u001b[0m \u001b[39m    :type data: Instances\u001b[39;00m\n\u001b[0;32m   2133\u001b[0m \u001b[39m    \"\"\"\u001b[39;00m\n\u001b[1;32m-> 2134\u001b[0m     javabridge\u001b[39m.\u001b[39mcall(\u001b[39mself\u001b[39m\u001b[39m.\u001b[39mjobject, \u001b[39m\"\u001b[39m\u001b[39msetHeader\u001b[39m\u001b[39m\"\u001b[39m, \u001b[39m\"\u001b[39m\u001b[39m(Lweka/core/Instances;)V\u001b[39m\u001b[39m\"\u001b[39m, data\u001b[39m.\u001b[39;49mjobject)\n",
      "\u001b[1;31mAttributeError\u001b[0m: 'str' object has no attribute 'jobject'"
     ]
    }
   ],
   "source": [
    "\n",
    "\n",
    "output = PredictionOutput(classname=\"weka.classifiers.evaluation.output.prediction.CSV\", options=[\"-distribution\"])\n",
    "evl = Evaluation(train)\n",
    "evl.test_model(cls, test, output=output)\n",
    "print(evl.summary())\n",
    "print(output.buffer_content())"
   ]
  },
  {
   "cell_type": "code",
   "execution_count": 7,
   "metadata": {},
   "outputs": [
    {
     "ename": "",
     "evalue": "",
     "output_type": "error",
     "traceback": [
      "\u001b[1;31mThe Kernel crashed while executing code in the the current cell or a previous cell. Please review the code in the cell(s) to identify a possible cause of the failure. Click <a href='https://aka.ms/vscodeJupyterKernelCrash'>here</a> for more info. View Jupyter <a href='command:jupyter.viewOutput'>log</a> for further details."
     ]
    }
   ],
   "source": [
    "jvm.stop()"
   ]
  }
 ],
 "metadata": {
  "kernelspec": {
   "display_name": "Python 3.9.13 ('pww3')",
   "language": "python",
   "name": "python3"
  },
  "language_info": {
   "codemirror_mode": {
    "name": "ipython",
    "version": 3
   },
   "file_extension": ".py",
   "mimetype": "text/x-python",
   "name": "python",
   "nbconvert_exporter": "python",
   "pygments_lexer": "ipython3",
   "version": "3.9.13"
  },
  "orig_nbformat": 4,
  "vscode": {
   "interpreter": {
    "hash": "9bfb2af505bcafee846240d94eb88b72f3d716c790475ff172ee572d9cd64fb0"
   }
  }
 },
 "nbformat": 4,
 "nbformat_minor": 2
}
