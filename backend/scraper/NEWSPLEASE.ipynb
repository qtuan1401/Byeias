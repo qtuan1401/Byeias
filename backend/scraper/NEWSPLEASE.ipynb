{
 "cells": [
  {
   "cell_type": "code",
   "execution_count": 2,
   "metadata": {},
   "outputs": [
    {
     "name": "stderr",
     "output_type": "stream",
     "text": [
      "C:\\Users\\Sam's PC\\AppData\\Local\\Packages\\PythonSoftwareFoundation.Python.3.10_qbz5n2kfra8p0\\LocalCache\\local-packages\\Python310\\site-packages\\requests\\__init__.py:102: RequestsDependencyWarning: urllib3 (1.26.9) or chardet (5.0.0)/charset_normalizer (2.0.12) doesn't match a supported version!\n",
      "  warnings.warn(\"urllib3 ({}) or chardet ({})/charset_normalizer ({}) doesn't match a supported \"\n"
     ]
    }
   ],
   "source": [
    "import pandas as pd\n",
    "import numpy as np\n",
    "from tqdm.auto import tqdm\n",
    "from newsplease import NewsPlease"
   ]
  },
  {
   "cell_type": "code",
   "execution_count": 3,
   "metadata": {},
   "outputs": [],
   "source": [
    "path = r\"../data/raw/adFontes.csv\"\n",
    "df = pd.read_csv(path)\n",
    "df['Text'] = ''\n",
    "df['Swing'] = None"
   ]
  },
  {
   "cell_type": "code",
   "execution_count": 4,
   "metadata": {},
   "outputs": [],
   "source": [
    "for i in range(df.shape[0]):\n",
    "    if (df.at[i,'Bias']<=-6):\n",
    "        df.at[i,'Swing'] = 'Left'\n",
    "    elif (df.at[i,'Bias']>-6 and df.at[i,'Bias']<6):\n",
    "        df.at[i,'Swing'] = 'Central'\n",
    "    elif (df.at[i,'Bias']>=6):\n",
    "        df.at[i,'Swing'] = 'Right'"
   ]
  },
  {
   "cell_type": "code",
   "execution_count": null,
   "metadata": {},
   "outputs": [],
   "source": [
    "df.columns"
   ]
  },
  {
   "cell_type": "code",
   "execution_count": 1,
   "metadata": {},
   "outputs": [
    {
     "ename": "NameError",
     "evalue": "name 'tqdm' is not defined",
     "output_type": "error",
     "traceback": [
      "\u001b[1;31m---------------------------------------------------------------------------\u001b[0m",
      "\u001b[1;31mNameError\u001b[0m                                 Traceback (most recent call last)",
      "\u001b[1;32mc:\\Users\\Sam's PC\\Documents\\GitHub\\Sway\\backend\\scraper\\NEWSPLEASE.ipynb Cell 4\u001b[0m in \u001b[0;36m<cell line: 1>\u001b[1;34m()\u001b[0m\n\u001b[1;32m----> <a href='vscode-notebook-cell:/c%3A/Users/Sam%27s%20PC/Documents/GitHub/Sway/backend/scraper/NEWSPLEASE.ipynb#W4sZmlsZQ%3D%3D?line=0'>1</a>\u001b[0m \u001b[39mfor\u001b[39;00m i \u001b[39min\u001b[39;00m tqdm(\u001b[39mrange\u001b[39m(\u001b[39mlen\u001b[39m(df))):\n\u001b[0;32m      <a href='vscode-notebook-cell:/c%3A/Users/Sam%27s%20PC/Documents/GitHub/Sway/backend/scraper/NEWSPLEASE.ipynb#W4sZmlsZQ%3D%3D?line=1'>2</a>\u001b[0m     \u001b[39mtry\u001b[39;00m:\n\u001b[0;32m      <a href='vscode-notebook-cell:/c%3A/Users/Sam%27s%20PC/Documents/GitHub/Sway/backend/scraper/NEWSPLEASE.ipynb#W4sZmlsZQ%3D%3D?line=2'>3</a>\u001b[0m         article \u001b[39m=\u001b[39m NewsPlease\u001b[39m.\u001b[39mfrom_url(df\u001b[39m.\u001b[39mat[i, \u001b[39m'\u001b[39m\u001b[39mUrl\u001b[39m\u001b[39m'\u001b[39m], timeout\u001b[39m=\u001b[39m\u001b[39m6\u001b[39m)\n",
      "\u001b[1;31mNameError\u001b[0m: name 'tqdm' is not defined"
     ]
    }
   ],
   "source": [
    "for i in tqdm(range(len(df))):\n",
    "    try:\n",
    "        article = NewsPlease.from_url(df.at[i, 'Url'], timeout=6)\n",
    "        df.at[i, 'Text'] = article.maintext\n",
    "    except:\n",
    "        df.drop(i)\n",
    "        continue"
   ]
  }
 ],
 "metadata": {
  "kernelspec": {
   "display_name": "Python 3.10.8 64-bit (microsoft store)",
   "language": "python",
   "name": "python3"
  },
  "language_info": {
   "codemirror_mode": {
    "name": "ipython",
    "version": 3
   },
   "file_extension": ".py",
   "mimetype": "text/x-python",
   "name": "python",
   "nbconvert_exporter": "python",
   "pygments_lexer": "ipython3",
   "version": "3.10.8"
  },
  "orig_nbformat": 4,
  "vscode": {
   "interpreter": {
    "hash": "6405ec6159b0547165700ce207a2b1c9d048e435bca4e5d6f2cd71ef647b6574"
   }
  }
 },
 "nbformat": 4,
 "nbformat_minor": 2
}
