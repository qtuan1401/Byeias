{
 "cells": [
  {
   "cell_type": "code",
   "execution_count": 17,
   "metadata": {},
   "outputs": [],
   "source": [
    "import matplotlib.pyplot as plt\n",
    "import seaborn as sns\n",
    "import numpy as np\n",
    "import pandas as pd\n",
    "import string\n",
    "from tqdm.auto import tqdm\n",
    "import pickle\n",
    "from sklearn import neighbors\n",
    "from sklearn import metrics\n",
    "from scipy import spatial\n",
    "from sklearn.metrics import confusion_matrix\n",
    "import spacy\n",
    "nlp = spacy.load('en_core_web_lg')"
   ]
  },
  {
   "cell_type": "code",
   "execution_count": 2,
   "metadata": {},
   "outputs": [],
   "source": [
    "df = pd.read_csv(r'..\\data\\GENDER\\out_gender.csv')\n",
    "label_names = ['Male', 'Female']\n",
    "df['text_clean'] = ''"
   ]
  },
  {
   "cell_type": "code",
   "execution_count": 3,
   "metadata": {},
   "outputs": [
    {
     "data": {
      "text/html": [
       "<div>\n",
       "<style scoped>\n",
       "    .dataframe tbody tr th:only-of-type {\n",
       "        vertical-align: middle;\n",
       "    }\n",
       "\n",
       "    .dataframe tbody tr th {\n",
       "        vertical-align: top;\n",
       "    }\n",
       "\n",
       "    .dataframe thead th {\n",
       "        text-align: right;\n",
       "    }\n",
       "</style>\n",
       "<table border=\"1\" class=\"dataframe\">\n",
       "  <thead>\n",
       "    <tr style=\"text-align: right;\">\n",
       "      <th></th>\n",
       "      <th>text</th>\n",
       "      <th>label</th>\n",
       "      <th>text_clean</th>\n",
       "    </tr>\n",
       "  </thead>\n",
       "  <tbody>\n",
       "    <tr>\n",
       "      <th>0</th>\n",
       "      <td>WASHINGTON  —   Congressional Republicans have...</td>\n",
       "      <td>Male</td>\n",
       "      <td></td>\n",
       "    </tr>\n",
       "    <tr>\n",
       "      <th>1</th>\n",
       "      <td>The NFL needs to get its “priorities in order,...</td>\n",
       "      <td>Male</td>\n",
       "      <td></td>\n",
       "    </tr>\n",
       "    <tr>\n",
       "      <th>2</th>\n",
       "      <td>In an   in the New York Times, actress Lena Du...</td>\n",
       "      <td>Male</td>\n",
       "      <td></td>\n",
       "    </tr>\n",
       "    <tr>\n",
       "      <th>3</th>\n",
       "      <td>A waitress was fired after retrieving a gun fo...</td>\n",
       "      <td>Male</td>\n",
       "      <td></td>\n",
       "    </tr>\n",
       "    <tr>\n",
       "      <th>4</th>\n",
       "      <td>WASHINGTON  —   The White House on Thursday “c...</td>\n",
       "      <td>Male</td>\n",
       "      <td></td>\n",
       "    </tr>\n",
       "  </tbody>\n",
       "</table>\n",
       "</div>"
      ],
      "text/plain": [
       "                                                text label text_clean\n",
       "0  WASHINGTON  —   Congressional Republicans have...  Male           \n",
       "1  The NFL needs to get its “priorities in order,...  Male           \n",
       "2  In an   in the New York Times, actress Lena Du...  Male           \n",
       "3  A waitress was fired after retrieving a gun fo...  Male           \n",
       "4  WASHINGTON  —   The White House on Thursday “c...  Male           "
      ]
     },
     "execution_count": 3,
     "metadata": {},
     "output_type": "execute_result"
    }
   ],
   "source": [
    "df.head()"
   ]
  },
  {
   "cell_type": "code",
   "execution_count": 4,
   "metadata": {},
   "outputs": [],
   "source": [
    "def clean_text(text):\n",
    "    text = text.lower()\n",
    "    text = text.translate(str.maketrans('', '', string.punctuation))\n",
    "    text = text.replace('\\n', ' ')\n",
    "    text = ' '.join(text.split())  # remove multiple whitespaces\n",
    "    return text"
   ]
  },
  {
   "cell_type": "code",
   "execution_count": 5,
   "metadata": {},
   "outputs": [
    {
     "data": {
      "application/vnd.jupyter.widget-view+json": {
       "model_id": "c8297c027ffb4ce5a6564912bef197e5",
       "version_major": 2,
       "version_minor": 0
      },
      "text/plain": [
       "  0%|          | 0/40666 [00:00<?, ?it/s]"
      ]
     },
     "metadata": {},
     "output_type": "display_data"
    }
   ],
   "source": [
    "for i in tqdm(range(len(df))):\n",
    "    df.loc[i, 'text_clean'] = clean_text(df.loc[i, 'text'])"
   ]
  },
  {
   "cell_type": "code",
   "execution_count": 6,
   "metadata": {},
   "outputs": [],
   "source": [
    "def embed(tokens, nlp):\n",
    "    \"\"\"Return the centroid of the embeddings for the given tokens.\n",
    "\n",
    "    Out-of-vocabulary tokens are cast aside. Stop words are also\n",
    "    discarded. An array of 0s is returned if none of the tokens\n",
    "    are valid.\n",
    "\n",
    "    \"\"\"\n",
    "\n",
    "    lexemes = (nlp.vocab[token] for token in tokens)\n",
    "\n",
    "    vectors = np.asarray([\n",
    "        lexeme.vector\n",
    "        for lexeme in lexemes\n",
    "        if lexeme.has_vector\n",
    "        and not lexeme.is_stop\n",
    "        and len(lexeme.text) > 1\n",
    "    ])\n",
    "\n",
    "    if len(vectors) > 0:\n",
    "        centroid = vectors.mean(axis=0)\n",
    "    else:\n",
    "        width = nlp.meta['vectors']['width']  # typically 300\n",
    "        centroid = np.zeros(width)\n",
    "\n",
    "    return centroid"
   ]
  },
  {
   "cell_type": "code",
   "execution_count": 7,
   "metadata": {},
   "outputs": [
    {
     "name": "stdout",
     "output_type": "stream",
     "text": [
      "(300,)\n",
      "[-1.0341872   0.29092434 -2.5468051   0.5357483   2.9095006   0.71387833\n",
      "  0.8422483   3.4557972  -0.9317664  -0.9081056 ]\n"
     ]
    }
   ],
   "source": [
    "tokens = df.loc[0, 'text_clean'].split(' ')\n",
    "centroid = embed(tokens, nlp)\n",
    "print(centroid.shape)\n",
    "print(centroid[:10])"
   ]
  },
  {
   "cell_type": "code",
   "execution_count": 8,
   "metadata": {},
   "outputs": [
    {
     "data": {
      "text/plain": [
       "(2, 300)"
      ]
     },
     "execution_count": 8,
     "metadata": {},
     "output_type": "execute_result"
    }
   ],
   "source": [
    "label_vectors = np.asarray([\n",
    "    embed(label.split(' '), nlp)\n",
    "    for label in label_names\n",
    "])\n",
    "label_vectors.shape"
   ]
  },
  {
   "cell_type": "code",
   "execution_count": 9,
   "metadata": {},
   "outputs": [
    {
     "data": {
      "text/plain": [
       "'Female'"
      ]
     },
     "execution_count": 9,
     "metadata": {},
     "output_type": "execute_result"
    }
   ],
   "source": [
    "neigh = neighbors.NearestNeighbors(n_neighbors=1)\n",
    "neigh.fit(label_vectors)\n",
    "closest_label = neigh.kneighbors([centroid], return_distance=False)[0, 0]\n",
    "label_names[closest_label]"
   ]
  },
  {
   "cell_type": "code",
   "execution_count": 10,
   "metadata": {},
   "outputs": [
    {
     "data": {
      "application/vnd.jupyter.widget-view+json": {
       "model_id": "82d0b5d431d44885b85bc7462c1f036a",
       "version_major": 2,
       "version_minor": 0
      },
      "text/plain": [
       "  0%|          | 0/40666 [00:00<?, ?it/s]"
      ]
     },
     "metadata": {},
     "output_type": "display_data"
    }
   ],
   "source": [
    "def predict(doc, nlp, neigh):\n",
    "    doc = clean_text(doc)\n",
    "    tokens = doc.split(' ')[:50]\n",
    "    centroid = embed(tokens, nlp)\n",
    "    closest_label = neigh.kneighbors([centroid], return_distance=False)[0][0]\n",
    "    return closest_label\n",
    "\n",
    "\n",
    "preds = [label_names[predict(doc, nlp, neigh)] for doc in tqdm(df['text'])]"
   ]
  },
  {
   "cell_type": "code",
   "execution_count": 11,
   "metadata": {},
   "outputs": [
    {
     "name": "stderr",
     "output_type": "stream",
     "text": [
      "C:\\Users\\Sam's PC\\AppData\\Local\\Packages\\PythonSoftwareFoundation.Python.3.10_qbz5n2kfra8p0\\LocalCache\\local-packages\\Python310\\site-packages\\sklearn\\metrics\\_classification.py:1327: UndefinedMetricWarning: Precision and F-score are ill-defined and being set to 0.0 in labels with no predicted samples. Use `zero_division` parameter to control this behavior.\n",
      "  _warn_prf(average, modifier, msg_start, len(result))\n"
     ]
    },
    {
     "name": "stdout",
     "output_type": "stream",
     "text": [
      "              precision    recall  f1-score   support\n",
      "\n",
      "        Male       0.00      0.00      0.00     18727\n",
      "      Female       0.54      1.00      0.70     21939\n",
      "\n",
      "    accuracy                           0.54     40666\n",
      "   macro avg       0.27      0.50      0.35     40666\n",
      "weighted avg       0.29      0.54      0.38     40666\n",
      "\n"
     ]
    },
    {
     "name": "stderr",
     "output_type": "stream",
     "text": [
      "C:\\Users\\Sam's PC\\AppData\\Local\\Packages\\PythonSoftwareFoundation.Python.3.10_qbz5n2kfra8p0\\LocalCache\\local-packages\\Python310\\site-packages\\sklearn\\metrics\\_classification.py:1327: UndefinedMetricWarning: Precision and F-score are ill-defined and being set to 0.0 in labels with no predicted samples. Use `zero_division` parameter to control this behavior.\n",
      "  _warn_prf(average, modifier, msg_start, len(result))\n",
      "C:\\Users\\Sam's PC\\AppData\\Local\\Packages\\PythonSoftwareFoundation.Python.3.10_qbz5n2kfra8p0\\LocalCache\\local-packages\\Python310\\site-packages\\sklearn\\metrics\\_classification.py:1327: UndefinedMetricWarning: Precision and F-score are ill-defined and being set to 0.0 in labels with no predicted samples. Use `zero_division` parameter to control this behavior.\n",
      "  _warn_prf(average, modifier, msg_start, len(result))\n"
     ]
    }
   ],
   "source": [
    "report = metrics.classification_report(\n",
    "    y_true=df['label'],\n",
    "    y_pred=preds,\n",
    "    labels=label_names\n",
    ")\n",
    "\n",
    "print(report)"
   ]
  },
  {
   "cell_type": "code",
   "execution_count": 18,
   "metadata": {},
   "outputs": [
    {
     "data": {
      "text/plain": [
       "[Text(0, 0.5, 'Female'), Text(0, 1.5, 'Male')]"
      ]
     },
     "execution_count": 18,
     "metadata": {},
     "output_type": "execute_result"
    },
    {
     "data": {
      "image/png": "[encoded data removed]",
      "text/plain": [
       "<Figure size 432x288 with 2 Axes>"
      ]
     },
     "metadata": {
      "needs_background": "light"
     },
     "output_type": "display_data"
    }
   ],
   "source": [
    "cm = confusion_matrix(df['label'], preds)\n",
    "ax = plt.subplot()\n",
    "sns.heatmap(cm, annot = True, fmt='g', ax=ax)\n",
    "ax.set_xlabel(\"Predicted Labels\")\n",
    "ax.set_ylabel(\"True Labels\")\n",
    "ax.set_title(\"Confussion Matrix\")\n",
    "ax.xaxis.set_ticklabels(['Male', 'Female']) \n",
    "ax.yaxis.set_ticklabels(['Female', 'Male'])"
   ]
  },
  {
   "cell_type": "code",
   "execution_count": 19,
   "metadata": {},
   "outputs": [],
   "source": [
    "d1 = nlp\n",
    "d2 = neigh\n",
    "\n",
    "with open (r'..\\models\\genderModel\\nlp.pkl', 'wb') as f1:\n",
    "    pickle.dump(d1, f1)\n",
    "with open (r'..\\models\\genderModel\\neigh.pkl', 'wb') as f2:\n",
    "    pickle.dump(d2, f2)"
   ]
  },
  {
   "cell_type": "code",
   "execution_count": 21,
   "metadata": {},
   "outputs": [
    {
     "data": {
      "text/plain": [
       "1"
      ]
     },
     "execution_count": 21,
     "metadata": {},
     "output_type": "execute_result"
    }
   ],
   "source": [
    "# load the model from disk\n",
    "#txt = '\"active\", \"adventurous\", \"aggress\", \"ambitio\", \"analy\", \"assert\", \"athlet\", \"autonom\", \"battle\", \"boast\", \"challeng\", \"champion\", \"compet\", \"confident\", \"courag\", \"decid\", \"decision\", \"decisive\", \"defend\", \"determin\", \"domina\", \"dominant\", \"driven\", \"fearless\", \"fight\", \"force\", \"greedy\", \"headstrong\", \"hierarch\", \"hostil\", \"impulsive\", \"independen\", \"individual\", \"intellect\", \"lead\", \"logic\", \"objective\", \"opinion\", \"outspoken\", \"persist\", \"principle\", \"reckless\", \"selfconfiden\", \"selfrelian\", \"selfsufficien\", \"stubborn\", \"superior\", \"unreasonab\"'\n",
    "txt = '\"agree\", \"affectionate\", \"child\", \"cheer\", \"collab\", \"commit\", \"communal\", \"compassion\", \"connect\", \"considerate\", \"cooperat\", \"depend\", \"emotiona\", \"empath\", \"feel\", \"flatterable\", \"gentle\", \"honest\", \"interpersonal\", \"interdependen\", \"interpersona\", \"kind\", \"kinship\", \"loyal\", \"modesty\", \"nag\", \"nurtur\", \"pleasant\", \"polite\", \"quiet\", \"respon\", \"sensitiv\", \"submissive\", \"support\", \"sympath\", \"tender\", \"together\", \"trust\", \"understand\", \"warm\", \"whin\", \"enthusias\", \"inclusive\", \"yield\", \"share\", \"sharin\"'\n",
    "\n",
    "with open(r'..\\models\\genderModel\\nlp.pkl', 'rb') as f1:\n",
    "    nlp_load = pickle.load(f1)\n",
    "\n",
    "with open(r'..\\models\\genderModel\\neigh.pkl', 'rb') as f2:\n",
    "    neigh_load = pickle.load(f2)\n",
    "\n",
    "predict(txt, nlp_load, neigh_load)"
   ]
  }
 ],
 "metadata": {
  "kernelspec": {
   "display_name": "Python 3.10.7 64-bit (microsoft store)",
   "language": "python",
   "name": "python3"
  },
  "language_info": {
   "codemirror_mode": {
    "name": "ipython",
    "version": 3
   },
   "file_extension": ".py",
   "mimetype": "text/x-python",
   "name": "python",
   "nbconvert_exporter": "python",
   "pygments_lexer": "ipython3",
   "version": "3.10.8"
  },
  "orig_nbformat": 4,
  "vscode": {
   "interpreter": {
    "hash": "6405ec6159b0547165700ce207a2b1c9d048e435bca4e5d6f2cd71ef647b6574"
   }
  }
 },
 "nbformat": 4,
 "nbformat_minor": 2
}
