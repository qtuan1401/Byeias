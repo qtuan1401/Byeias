{
 "cells": [
  {
   "cell_type": "code",
   "execution_count": 83,
   "metadata": {},
   "outputs": [],
   "source": [
    "import pandas as pd\n",
    "import re"
   ]
  },
  {
   "cell_type": "code",
   "execution_count": 13,
   "metadata": {},
   "outputs": [],
   "source": [
    "path = r'..\\data\\genderTest.csv'\n",
    "df = pd.read_csv(path)"
   ]
  },
  {
   "cell_type": "code",
   "execution_count": 14,
   "metadata": {},
   "outputs": [],
   "source": [
    "cols = ['Unnamed: 0', 'id', 'title', 'publication', 'author', 'date', 'year',\n",
    "       'month', 'url']\n",
    "for col in cols:\n",
    "    if col in df.columns:\n",
    "        del df[col]"
   ]
  },
  {
   "cell_type": "code",
   "execution_count": 15,
   "metadata": {},
   "outputs": [
    {
     "data": {
      "text/plain": [
       "<bound method NDFrame.head of                                                  content\n",
       "0      WASHINGTON  —   Congressional Republicans have...\n",
       "1      After the bullet shells get counted, the blood...\n",
       "2      When Walt Disney’s “Bambi” opened in 1942, cri...\n",
       "3      Death may be the great equalizer, but it isn’t...\n",
       "4      SEOUL, South Korea  —   North Korea’s leader, ...\n",
       "...                                                  ...\n",
       "49995  As chairman and CEO of ExxonMobil, Rex Tillers...\n",
       "49996  I’ve spent nearly 20 years looking at intellig...\n",
       "49997    Donald Trump will not be taking necessary st...\n",
       "49998  Dozens of   colleges could be forced to close ...\n",
       "49999  The force of gravity can be described using a ...\n",
       "\n",
       "[50000 rows x 1 columns]>"
      ]
     },
     "execution_count": 15,
     "metadata": {},
     "output_type": "execute_result"
    }
   ],
   "source": [
    "df.head"
   ]
  },
  {
   "cell_type": "code",
   "execution_count": 127,
   "metadata": {},
   "outputs": [],
   "source": [
    "malePath = r'..\\data\\genderData\\male'\n",
    "femalePath = r'..\\data\\genderData\\female'\n",
    "\n",
    "maleWords = [\"active\", \"adventurous\", \"aggress\", \"ambitio\", \"analy\", \"assert\", \"athlet\", \"autonom\", \"battle\", \"boast\", \"challeng\", \"champion\", \"compet\", \"confident\", \"courag\", \"decid\", \"decision\", \"decisive\", \"defend\", \"determin\", \"domina\", \"dominant\", \"driven\", \"fearless\", \"fight\", \"force\", \"greedy\", \"headstrong\", \"hierarch\", \"hostil\", \"impulsive\", \"independen\", \"individual\", \"intellect\", \"lead\", \"logic\", \"objective\", \"opinion\", \"outspoken\", \"persist\", \"principle\", \"reckless\", \"selfconfiden\", \"selfrelian\", \"selfsufficien\", \"stubborn\", \"superior\", \"unreasonab\"]\n",
    "femaleWords = [\"agree\", \"affectionate\", \"child\", \"cheer\", \"collab\", \"commit\", \"communal\", \"compassion\", \"connect\", \"considerate\", \"cooperat\", \"depend\", \"emotiona\", \"empath\", \"feel\", \"flatterable\", \"gentle\", \"honest\", \"interpersonal\", \"interdependen\", \"interpersona\", \"kind\", \"kinship\", \"loyal\", \"modesty\", \"nag\", \"nurtur\", \"pleasant\", \"polite\", \"quiet\", \"respon\", \"sensitiv\", \"submissive\", \"support\", \"sympath\", \"tender\", \"together\", \"trust\", \"understand\", \"warm\", \"whin\", \"enthusias\", \"inclusive\", \"yield\", \"share\", \"sharin\"]"
   ]
  },
  {
   "cell_type": "code",
   "execution_count": 128,
   "metadata": {},
   "outputs": [],
   "source": [
    "def checkGender(x):\n",
    "    maleCount = 0\n",
    "    femaleCount = 0\n",
    "    string = df.iloc[x,0]\n",
    "    for i in maleWords:\n",
    "        maleCount += len(re.findall(i, string))\n",
    "    \n",
    "    for i in femaleWords:\n",
    "        femaleCount += len(re.findall(i, string))\n",
    "\n",
    "    if maleCount > femaleCount:\n",
    "        return 'male'\n",
    "    elif maleCount < femaleCount:\n",
    "        return 'female'\n",
    "    else:\n",
    "        return 'neutral'\n",
    "        \n",
    "    "
   ]
  },
  {
   "cell_type": "code",
   "execution_count": 133,
   "metadata": {},
   "outputs": [],
   "source": [
    "for x in range(len(df.index)):\n",
    "    gender = checkGender(x)\n",
    "    if gender == 'male':\n",
    "        with open(malePath + '\\\\' + str(x) + '.txt', 'w', encoding='utf-8') as f:\n",
    "            f.write(df.iloc[x,0])\n",
    "    elif gender == 'female':\n",
    "        with open(femalePath + '\\\\' + str(x) + '.txt', 'w', encoding='utf-8') as f:\n",
    "            f.write(df.iloc[x,0])\n"
   ]
  }
 ],
 "metadata": {
  "kernelspec": {
   "display_name": "Python 3.10.7 64-bit (microsoft store)",
   "language": "python",
   "name": "python3"
  },
  "language_info": {
   "codemirror_mode": {
    "name": "ipython",
    "version": 3
   },
   "file_extension": ".py",
   "mimetype": "text/x-python",
   "name": "python",
   "nbconvert_exporter": "python",
   "pygments_lexer": "ipython3",
   "version": "3.10.7"
  },
  "orig_nbformat": 4,
  "vscode": {
   "interpreter": {
    "hash": "6405ec6159b0547165700ce207a2b1c9d048e435bca4e5d6f2cd71ef647b6574"
   }
  }
 },
 "nbformat": 4,
 "nbformat_minor": 2
}
