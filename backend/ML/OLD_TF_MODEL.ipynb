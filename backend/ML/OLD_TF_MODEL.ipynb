{
 "cells": [
  {
   "cell_type": "code",
   "execution_count": 1,
   "metadata": {},
   "outputs": [
    {
     "data": {
      "text/plain": [
       "<AddedDllDirectory('C:/Program Files/NVIDIA GPU Computing Toolkit/CUDA/v11.2/bin')>"
      ]
     },
     "execution_count": 1,
     "metadata": {},
     "output_type": "execute_result"
    }
   ],
   "source": [
    "from __future__ import absolute_import, division, print_function, unicode_literals\n",
    "import os\n",
    "os.add_dll_directory(\"C:/Program Files/NVIDIA GPU Computing Toolkit/CUDA/v11.2/bin\")"
   ]
  },
  {
   "cell_type": "code",
   "execution_count": 2,
   "metadata": {},
   "outputs": [
    {
     "name": "stderr",
     "output_type": "stream",
     "text": [
      "C:\\Users\\Sam's PC\\AppData\\Local\\Packages\\PythonSoftwareFoundation.Python.3.10_qbz5n2kfra8p0\\LocalCache\\local-packages\\Python310\\site-packages\\requests\\__init__.py:102: RequestsDependencyWarning: urllib3 (1.26.9) or chardet (5.0.0)/charset_normalizer (2.0.12) doesn't match a supported version!\n",
      "  warnings.warn(\"urllib3 ({}) or chardet ({})/charset_normalizer ({}) doesn't match a supported \"\n"
     ]
    }
   ],
   "source": [
    "import numpy as np\n",
    "import tensorflow as tf\n",
    "from matplotlib import pyplot as plt\n",
    "import pandas as pd\n",
    "import tensorflow_hub as hub\n",
    "from sklearn.model_selection import train_test_split\n",
    "from sklearn.utils import class_weight"
   ]
  },
  {
   "cell_type": "code",
   "execution_count": 3,
   "metadata": {},
   "outputs": [
    {
     "name": "stdout",
     "output_type": "stream",
     "text": [
      "Num GPUs Available:  1\n"
     ]
    }
   ],
   "source": [
    "physical_devices = tf.config.experimental.list_physical_devices('GPU')\n",
    "print(\"Num GPUs Available: \", len(physical_devices))\n",
    "tf.config.experimental.set_memory_growth(physical_devices[0], True)"
   ]
  },
  {
   "cell_type": "code",
   "execution_count": 4,
   "metadata": {},
   "outputs": [
    {
     "name": "stderr",
     "output_type": "stream",
     "text": [
      "C:\\Users\\Sam's PC\\AppData\\Local\\Temp\\ipykernel_11548\\1338824145.py:3: FutureWarning: Passing a negative integer is deprecated in version 1.0 and will not be supported in future version. Instead, use None to not limit the column width.\n",
      "  pd.set_option('display.max_colwidth', -1)\n"
     ]
    }
   ],
   "source": [
    "path = r\"..\\data\\articles1.csv\"\n",
    "df = pd.read_csv(path, usecols=[\"source\",\"labels\",\"headline\",\"text\"])\n",
    "pd.set_option('display.max_colwidth', -1)\n",
    "x_train, x_test = train_test_split(df, test_size=0.2, random_state=111)"
   ]
  },
  {
   "cell_type": "code",
   "execution_count": 5,
   "metadata": {},
   "outputs": [
    {
     "name": "stdout",
     "output_type": "stream",
     "text": [
      " 0    5764\n",
      " 1    1297\n",
      "-1    1120\n",
      " 2    633 \n",
      "-2    529 \n",
      " 3    158 \n",
      "-3    119 \n",
      " 4    63  \n",
      "-4    30  \n",
      "Name: labels, dtype: int64\n"
     ]
    }
   ],
   "source": [
    "print(df['labels'].value_counts())\n",
    "swingdata = df['labels']"
   ]
  },
  {
   "cell_type": "code",
   "execution_count": 6,
   "metadata": {},
   "outputs": [
    {
     "data": {
      "text/plain": [
       " 0    5764\n",
       " 1    1297\n",
       "-1    1120\n",
       " 2    633 \n",
       "-2    529 \n",
       " 3    158 \n",
       "-3    119 \n",
       " 4    63  \n",
       "-4    30  \n",
       "Name: labels, dtype: int64"
      ]
     },
     "execution_count": 6,
     "metadata": {},
     "output_type": "execute_result"
    }
   ],
   "source": [
    "class_weights = list(class_weight.compute_class_weight(class_weight='balanced', classes=np.unique(df['labels']), y=swingdata))\n",
    "np.unique(df['labels'])\n",
    "class_weights.sort()\n",
    "df['labels'].value_counts()"
   ]
  },
  {
   "cell_type": "code",
   "execution_count": 7,
   "metadata": {},
   "outputs": [],
   "source": [
    "weights={}\n",
    "\n",
    "for index, weight in enumerate(class_weights):\n",
    "    weights[index]=weight"
   ]
  },
  {
   "cell_type": "code",
   "execution_count": 8,
   "metadata": {},
   "outputs": [],
   "source": [
    "dataset_train = tf.data.Dataset.from_tensor_slices((x_train['text'].values, x_train['labels'].values))\n",
    "dataset_test = tf.data.Dataset.from_tensor_slices((x_test['text'].values, x_test['labels'].values))"
   ]
  },
  {
   "cell_type": "code",
   "execution_count": 9,
   "metadata": {},
   "outputs": [],
   "source": [
    "def fetch(text, labels):\n",
    "    return text, tf.one_hot(labels, 9)"
   ]
  },
  {
   "cell_type": "code",
   "execution_count": 10,
   "metadata": {},
   "outputs": [],
   "source": [
    "train_data_f=dataset_train.map(fetch)\n",
    "test_data_f=dataset_test.map(fetch)"
   ]
  },
  {
   "cell_type": "code",
   "execution_count": 11,
   "metadata": {},
   "outputs": [],
   "source": [
    "train_data, train_labels = next(iter(train_data_f.batch(5)))"
   ]
  },
  {
   "cell_type": "code",
   "execution_count": 12,
   "metadata": {},
   "outputs": [
    {
     "name": "stdout",
     "output_type": "stream",
     "text": [
      "WARNING:tensorflow:Please fix your imports. Module tensorflow.python.training.tracking.data_structures has been moved to tensorflow.python.trackable.data_structures. The old module will be deleted in version 2.11.\n"
     ]
    },
    {
     "data": {
      "text/plain": [
       "<tf.Tensor: shape=(1, 128), dtype=float32, numpy=\n",
       "array([[ 1.5701346e+00,  5.7551455e-01, -9.1829829e-02, -2.9152185e-01,\n",
       "        -2.1295413e-01, -2.9568093e-02,  1.7536528e-02, -2.3557460e-01,\n",
       "        -6.8924934e-02,  8.6796895e-02,  4.0287706e-01,  4.0075305e-01,\n",
       "        -1.5786774e-01,  2.0713823e-01, -2.3699395e-01,  1.4814676e-01,\n",
       "        -4.6862227e-01, -2.1087460e-01, -9.7300753e-02,  1.7832458e+00,\n",
       "         1.2497991e-01,  4.1937110e-01, -1.2303090e-01,  9.2001259e-02,\n",
       "        -9.6788570e-02,  1.7181440e-01,  3.9333358e-01, -5.9749130e-02,\n",
       "        -8.4132716e-02, -9.5848618e-03, -2.4290852e-01, -1.7437834e-01,\n",
       "         2.0996188e-01, -2.3239635e-02,  1.5073279e-01,  1.9917414e-01,\n",
       "         8.2096960e-03, -2.6212114e-01, -1.7529175e-01, -1.8709232e-01,\n",
       "         1.2903674e-01, -3.4300316e-02, -1.8365154e-01,  3.5388574e-01,\n",
       "         1.9681220e-01, -1.3587591e-01, -8.1963144e-02, -1.6614601e-01,\n",
       "        -8.1249990e-02, -2.7942288e-01, -9.5973194e-02,  9.2167236e-02,\n",
       "         3.0277950e-01, -1.2845042e-01, -1.7444688e-01, -9.9810340e-02,\n",
       "        -1.3174242e-01,  1.9206706e-01, -1.4189649e-02, -2.1810600e-01,\n",
       "        -2.9532424e-01, -1.3065572e-01, -2.9205754e-01, -6.9282092e-02,\n",
       "         1.5403193e-01,  3.0968156e-01,  2.1560866e-01, -4.0112965e-02,\n",
       "         8.6493157e-03, -2.5041255e-01,  5.6224391e-02, -7.7227056e-02,\n",
       "        -3.6872350e-02,  6.6871151e-02,  1.1541492e-02,  4.1777596e-01,\n",
       "        -7.4953564e-02, -2.1801730e-01,  4.4608381e-02, -2.2729436e-01,\n",
       "         4.2141750e-02, -3.0402997e-01, -3.7576520e-01,  1.4620385e-01,\n",
       "        -2.3520751e-04, -1.0156152e-02, -4.0573290e-01, -1.8697143e-02,\n",
       "         6.4910960e-01,  6.1583763e-01,  1.1712871e-01,  2.5503683e-01,\n",
       "         1.2129097e-01, -2.4721071e-01,  1.5188588e-01, -6.8917550e-02,\n",
       "         2.9907131e-01,  3.5596073e-02, -6.3592821e-01,  4.1006599e-02,\n",
       "        -6.7957900e-02,  2.9984862e-02, -8.7481029e-02,  2.0254503e-01,\n",
       "        -2.9834151e-02,  1.1091273e-01,  3.3920327e-01,  2.2460622e-01,\n",
       "         2.8336722e-01,  1.5050724e-02, -6.0052782e-01, -2.3676535e-01,\n",
       "         6.7998633e-02, -4.4608954e-01,  4.0120485e-01, -2.4584128e-01,\n",
       "         2.7539405e-01,  2.1599217e-01,  2.4162756e-01,  5.1570779e-01,\n",
       "         2.7066070e-01, -2.1722728e-01,  1.8729526e-01,  4.1086170e-01,\n",
       "        -1.7642926e-01, -1.9605818e-01,  1.1097205e-01, -3.9767090e-02]],\n",
       "      dtype=float32)>"
      ]
     },
     "execution_count": 12,
     "metadata": {},
     "output_type": "execute_result"
    }
   ],
   "source": [
    "embedding = \"https://tfhub.dev/google/tf2-preview/nnlm-en-dim128/1\"\n",
    "hub_layer = hub.KerasLayer(embedding, output_shape=[128], input_shape=[], dtype=tf.string, trainable=True)\n",
    "hub_layer(train_data[:1])"
   ]
  },
  {
   "cell_type": "code",
   "execution_count": 13,
   "metadata": {},
   "outputs": [
    {
     "name": "stdout",
     "output_type": "stream",
     "text": [
      "Model: \"sequential_1\"\n",
      "_________________________________________________________________\n",
      " Layer (type)                Output Shape              Param #   \n",
      "=================================================================\n",
      " keras_layer (KerasLayer)    (None, 128)               124642688 \n",
      "                                                                 \n",
      " dense (Dense)               (None, 1000)              129000    \n",
      "                                                                 \n",
      " dropout (Dropout)           (None, 1000)              0         \n",
      "                                                                 \n",
      " dense_1 (Dense)             (None, 500)               500500    \n",
      "                                                                 \n",
      " dropout_1 (Dropout)         (None, 500)               0         \n",
      "                                                                 \n",
      " dense_2 (Dense)             (None, 120)               60120     \n",
      "                                                                 \n",
      " dropout_2 (Dropout)         (None, 120)               0         \n",
      "                                                                 \n",
      " dense_3 (Dense)             (None, 9)                 1089      \n",
      "                                                                 \n",
      "=================================================================\n",
      "Total params: 125,333,397\n",
      "Trainable params: 125,333,397\n",
      "Non-trainable params: 0\n",
      "_________________________________________________________________\n"
     ]
    }
   ],
   "source": [
    "model = tf.keras.Sequential()\n",
    "#model.add(hub_layer)\n",
    "#for units in [128, 128, 64, 32]:\n",
    "#    model.add(tf.keras.layers.Dense(units, activation='relu'))\n",
    "#    model.add(tf.keras.layers.Dropout(0.4))\n",
    "#model.add(tf.keras.layers.Dense(9, activation=\"softmax\"))\n",
    "model = tf.keras.Sequential()\n",
    "model.add(hub_layer)\n",
    "model.add(tf.keras.layers.Dense(1000,activation=tf.nn.sigmoid))\n",
    "model.add(tf.keras.layers.Dropout(0.5, noise_shape=None, seed=None))\n",
    "model.add(tf.keras.layers.Dense(500,activation=tf.nn.sigmoid))\n",
    "model.add(tf.keras.layers.Dropout(0.5, noise_shape=None, seed=None))\n",
    "model.add(tf.keras.layers.Dense(120,activation=tf.nn.sigmoid))\n",
    "model.add(tf.keras.layers.Dropout(0.5, noise_shape=None, seed=None))\n",
    "model.add(tf.keras.layers.Dense(9,activation=tf.nn.softmax))\n",
    "\n",
    "\n",
    "model.summary()"
   ]
  },
  {
   "cell_type": "code",
   "execution_count": 14,
   "metadata": {},
   "outputs": [],
   "source": [
    "model.compile(\n",
    "    optimizer=tf.keras.optimizers.Adam(learning_rate=0.001),\n",
    "    loss=tf.keras.losses.CategoricalCrossentropy(from_logits=True),\n",
    "    metrics=['accuracy']\n",
    ")"
   ]
  },
  {
   "cell_type": "code",
   "execution_count": 16,
   "metadata": {},
   "outputs": [],
   "source": [
    "# Include the epoch in the file name (uses `str.format`)\n",
    "checkpoint_path = \"training_2/cp-{epoch:04d}.ckpt\"\n",
    "checkpoint_dir = os.path.dirname(checkpoint_path)\n",
    "\n",
    "batch_size = 32\n",
    "\n",
    "# Create a callback that saves the model's weights every 5 epochs\n",
    "cp_callback = tf.keras.callbacks.ModelCheckpoint(\n",
    "    filepath=checkpoint_path, \n",
    "    verbose=1, \n",
    "    save_weights_only=True,\n",
    "    save_freq=5*batch_size)"
   ]
  },
  {
   "cell_type": "code",
   "execution_count": 19,
   "metadata": {},
   "outputs": [
    {
     "name": "stdout",
     "output_type": "stream",
     "text": [
      "WARNING:tensorflow:Model was constructed with shape (None,) for input KerasTensor(type_spec=TensorSpec(shape=(None,), dtype=tf.string, name='keras_layer_input'), name='keras_layer_input', description=\"created by layer 'keras_layer_input'\"), but it was called on an input with incompatible shape (None, None).\n"
     ]
    },
    {
     "name": "stderr",
     "output_type": "stream",
     "text": [
      "WARNING:tensorflow:Model was constructed with shape (None,) for input KerasTensor(type_spec=TensorSpec(shape=(None,), dtype=tf.string, name='keras_layer_input'), name='keras_layer_input', description=\"created by layer 'keras_layer_input'\"), but it was called on an input with incompatible shape (None, None).\n"
     ]
    },
    {
     "ename": "ValueError",
     "evalue": "in user code:\n\n    File \"C:\\Users\\Sam's PC\\AppData\\Local\\Packages\\PythonSoftwareFoundation.Python.3.10_qbz5n2kfra8p0\\LocalCache\\local-packages\\Python310\\site-packages\\keras\\engine\\training.py\", line 1160, in train_function  *\n        return step_function(self, iterator)\n    File \"C:\\Users\\Sam's PC\\AppData\\Local\\Packages\\PythonSoftwareFoundation.Python.3.10_qbz5n2kfra8p0\\LocalCache\\local-packages\\Python310\\site-packages\\keras\\engine\\training.py\", line 1146, in step_function  **\n        outputs = model.distribute_strategy.run(run_step, args=(data,))\n    File \"C:\\Users\\Sam's PC\\AppData\\Local\\Packages\\PythonSoftwareFoundation.Python.3.10_qbz5n2kfra8p0\\LocalCache\\local-packages\\Python310\\site-packages\\keras\\engine\\training.py\", line 1135, in run_step  **\n        outputs = model.train_step(data)\n    File \"C:\\Users\\Sam's PC\\AppData\\Local\\Packages\\PythonSoftwareFoundation.Python.3.10_qbz5n2kfra8p0\\LocalCache\\local-packages\\Python310\\site-packages\\keras\\engine\\training.py\", line 993, in train_step\n        y_pred = self(x, training=True)\n    File \"C:\\Users\\Sam's PC\\AppData\\Local\\Packages\\PythonSoftwareFoundation.Python.3.10_qbz5n2kfra8p0\\LocalCache\\local-packages\\Python310\\site-packages\\keras\\utils\\traceback_utils.py\", line 70, in error_handler\n        raise e.with_traceback(filtered_tb) from None\n    File \"C:\\Users\\SAM'SP~1\\AppData\\Local\\Temp\\__autograph_generated_filecvc170kf.py\", line 74, in tf__call\n        ag__.if_stmt(ag__.not_(ag__.ld(self)._has_training_argument), if_body_3, else_body_3, get_state_3, set_state_3, ('result', 'training'), 1)\n    File \"C:\\Users\\SAM'SP~1\\AppData\\Local\\Temp\\__autograph_generated_filecvc170kf.py\", line 37, in if_body_3\n        result = ag__.converted_call(ag__.ld(f), (), None, fscope)\n\n    ValueError: Exception encountered when calling layer \"keras_layer\" \"                 f\"(type KerasLayer).\n    \n    in user code:\n    \n        File \"C:\\Users\\Sam's PC\\AppData\\Local\\Packages\\PythonSoftwareFoundation.Python.3.10_qbz5n2kfra8p0\\LocalCache\\local-packages\\Python310\\site-packages\\tensorflow_hub\\keras_layer.py\", line 229, in call  *\n            result = f()\n    \n        ValueError: Python inputs incompatible with input_signature:\n          inputs: (\n            Tensor(\"IteratorGetNext:0\", shape=(None, None), dtype=string))\n          input_signature: (\n            TensorSpec(shape=(None,), dtype=tf.string, name=None)).\n    \n    \n    Call arguments received by layer \"keras_layer\" \"                 f\"(type KerasLayer):\n      • inputs=tf.Tensor(shape=(None, None), dtype=string)\n      • training=True\n",
     "output_type": "error",
     "traceback": [
      "\u001b[1;31m---------------------------------------------------------------------------\u001b[0m",
      "\u001b[1;31mValueError\u001b[0m                                Traceback (most recent call last)",
      "\u001b[1;32mc:\\Users\\Sam's PC\\Documents\\GitHub\\Sway\\backend\\model\\OLD_TF_MODEL.ipynb Cell 16\u001b[0m in \u001b[0;36m<cell line: 1>\u001b[1;34m()\u001b[0m\n\u001b[1;32m----> <a href='vscode-notebook-cell:/c%3A/Users/Sam%27s%20PC/Documents/GitHub/Sway/backend/model/OLD_TF_MODEL.ipynb#X22sZmlsZQ%3D%3D?line=0'>1</a>\u001b[0m model\u001b[39m.\u001b[39;49mfit(train_data_f, \n\u001b[0;32m      <a href='vscode-notebook-cell:/c%3A/Users/Sam%27s%20PC/Documents/GitHub/Sway/backend/model/OLD_TF_MODEL.ipynb#X22sZmlsZQ%3D%3D?line=1'>2</a>\u001b[0m           epochs\u001b[39m=\u001b[39;49m\u001b[39m50\u001b[39;49m, \n\u001b[0;32m      <a href='vscode-notebook-cell:/c%3A/Users/Sam%27s%20PC/Documents/GitHub/Sway/backend/model/OLD_TF_MODEL.ipynb#X22sZmlsZQ%3D%3D?line=2'>3</a>\u001b[0m           batch_size\u001b[39m=\u001b[39;49mbatch_size, \n\u001b[0;32m      <a href='vscode-notebook-cell:/c%3A/Users/Sam%27s%20PC/Documents/GitHub/Sway/backend/model/OLD_TF_MODEL.ipynb#X22sZmlsZQ%3D%3D?line=3'>4</a>\u001b[0m           callbacks\u001b[39m=\u001b[39;49m[cp_callback],\n\u001b[0;32m      <a href='vscode-notebook-cell:/c%3A/Users/Sam%27s%20PC/Documents/GitHub/Sway/backend/model/OLD_TF_MODEL.ipynb#X22sZmlsZQ%3D%3D?line=4'>5</a>\u001b[0m           validation_data\u001b[39m=\u001b[39;49m(test_data_f),\n\u001b[0;32m      <a href='vscode-notebook-cell:/c%3A/Users/Sam%27s%20PC/Documents/GitHub/Sway/backend/model/OLD_TF_MODEL.ipynb#X22sZmlsZQ%3D%3D?line=5'>6</a>\u001b[0m           verbose\u001b[39m=\u001b[39;49m\u001b[39m0\u001b[39;49m)\n",
      "File \u001b[1;32m~\\AppData\\Local\\Packages\\PythonSoftwareFoundation.Python.3.10_qbz5n2kfra8p0\\LocalCache\\local-packages\\Python310\\site-packages\\keras\\utils\\traceback_utils.py:70\u001b[0m, in \u001b[0;36mfilter_traceback.<locals>.error_handler\u001b[1;34m(*args, **kwargs)\u001b[0m\n\u001b[0;32m     67\u001b[0m     filtered_tb \u001b[39m=\u001b[39m _process_traceback_frames(e\u001b[39m.\u001b[39m__traceback__)\n\u001b[0;32m     68\u001b[0m     \u001b[39m# To get the full stack trace, call:\u001b[39;00m\n\u001b[0;32m     69\u001b[0m     \u001b[39m# `tf.debugging.disable_traceback_filtering()`\u001b[39;00m\n\u001b[1;32m---> 70\u001b[0m     \u001b[39mraise\u001b[39;00m e\u001b[39m.\u001b[39mwith_traceback(filtered_tb) \u001b[39mfrom\u001b[39;00m \u001b[39mNone\u001b[39m\n\u001b[0;32m     71\u001b[0m \u001b[39mfinally\u001b[39;00m:\n\u001b[0;32m     72\u001b[0m     \u001b[39mdel\u001b[39;00m filtered_tb\n",
      "File \u001b[1;32mC:\\Users\\SAM'SP~1\\AppData\\Local\\Temp\\__autograph_generated_filem44mby4p.py:15\u001b[0m, in \u001b[0;36mouter_factory.<locals>.inner_factory.<locals>.tf__train_function\u001b[1;34m(iterator)\u001b[0m\n\u001b[0;32m     13\u001b[0m \u001b[39mtry\u001b[39;00m:\n\u001b[0;32m     14\u001b[0m     do_return \u001b[39m=\u001b[39m \u001b[39mTrue\u001b[39;00m\n\u001b[1;32m---> 15\u001b[0m     retval_ \u001b[39m=\u001b[39m ag__\u001b[39m.\u001b[39mconverted_call(ag__\u001b[39m.\u001b[39mld(step_function), (ag__\u001b[39m.\u001b[39mld(\u001b[39mself\u001b[39m), ag__\u001b[39m.\u001b[39mld(iterator)), \u001b[39mNone\u001b[39;00m, fscope)\n\u001b[0;32m     16\u001b[0m \u001b[39mexcept\u001b[39;00m:\n\u001b[0;32m     17\u001b[0m     do_return \u001b[39m=\u001b[39m \u001b[39mFalse\u001b[39;00m\n",
      "File \u001b[1;32mC:\\Users\\SAM'SP~1\\AppData\\Local\\Temp\\__autograph_generated_filecvc170kf.py:74\u001b[0m, in \u001b[0;36mouter_factory.<locals>.inner_factory.<locals>.tf__call\u001b[1;34m(self, inputs, training)\u001b[0m\n\u001b[0;32m     72\u001b[0m     result \u001b[39m=\u001b[39m ag__\u001b[39m.\u001b[39mconverted_call(ag__\u001b[39m.\u001b[39mld(smart_cond)\u001b[39m.\u001b[39msmart_cond, (ag__\u001b[39m.\u001b[39mld(training), ag__\u001b[39m.\u001b[39mautograph_artifact(\u001b[39mlambda\u001b[39;00m : ag__\u001b[39m.\u001b[39mconverted_call(ag__\u001b[39m.\u001b[39mld(f), (), \u001b[39mdict\u001b[39m(training\u001b[39m=\u001b[39m\u001b[39mTrue\u001b[39;00m), fscope)), ag__\u001b[39m.\u001b[39mautograph_artifact(\u001b[39mlambda\u001b[39;00m : ag__\u001b[39m.\u001b[39mconverted_call(ag__\u001b[39m.\u001b[39mld(f), (), \u001b[39mdict\u001b[39m(training\u001b[39m=\u001b[39m\u001b[39mFalse\u001b[39;00m), fscope))), \u001b[39mNone\u001b[39;00m, fscope)\n\u001b[0;32m     73\u001b[0m result \u001b[39m=\u001b[39m ag__\u001b[39m.\u001b[39mUndefined(\u001b[39m'\u001b[39m\u001b[39mresult\u001b[39m\u001b[39m'\u001b[39m)\n\u001b[1;32m---> 74\u001b[0m ag__\u001b[39m.\u001b[39;49mif_stmt(ag__\u001b[39m.\u001b[39;49mnot_(ag__\u001b[39m.\u001b[39;49mld(\u001b[39mself\u001b[39;49m)\u001b[39m.\u001b[39;49m_has_training_argument), if_body_3, else_body_3, get_state_3, set_state_3, (\u001b[39m'\u001b[39;49m\u001b[39mresult\u001b[39;49m\u001b[39m'\u001b[39;49m, \u001b[39m'\u001b[39;49m\u001b[39mtraining\u001b[39;49m\u001b[39m'\u001b[39;49m), \u001b[39m1\u001b[39;49m)\n\u001b[0;32m     76\u001b[0m \u001b[39mdef\u001b[39;00m \u001b[39mget_state_6\u001b[39m():\n\u001b[0;32m     77\u001b[0m     \u001b[39mreturn\u001b[39;00m (result,)\n",
      "File \u001b[1;32mC:\\Users\\SAM'SP~1\\AppData\\Local\\Temp\\__autograph_generated_filecvc170kf.py:37\u001b[0m, in \u001b[0;36mouter_factory.<locals>.inner_factory.<locals>.tf__call.<locals>.if_body_3\u001b[1;34m()\u001b[0m\n\u001b[0;32m     35\u001b[0m \u001b[39mdef\u001b[39;00m \u001b[39mif_body_3\u001b[39m():\n\u001b[0;32m     36\u001b[0m     \u001b[39mnonlocal\u001b[39;00m training, result\n\u001b[1;32m---> 37\u001b[0m     result \u001b[39m=\u001b[39m ag__\u001b[39m.\u001b[39;49mconverted_call(ag__\u001b[39m.\u001b[39;49mld(f), (), \u001b[39mNone\u001b[39;49;00m, fscope)\n",
      "\u001b[1;31mValueError\u001b[0m: in user code:\n\n    File \"C:\\Users\\Sam's PC\\AppData\\Local\\Packages\\PythonSoftwareFoundation.Python.3.10_qbz5n2kfra8p0\\LocalCache\\local-packages\\Python310\\site-packages\\keras\\engine\\training.py\", line 1160, in train_function  *\n        return step_function(self, iterator)\n    File \"C:\\Users\\Sam's PC\\AppData\\Local\\Packages\\PythonSoftwareFoundation.Python.3.10_qbz5n2kfra8p0\\LocalCache\\local-packages\\Python310\\site-packages\\keras\\engine\\training.py\", line 1146, in step_function  **\n        outputs = model.distribute_strategy.run(run_step, args=(data,))\n    File \"C:\\Users\\Sam's PC\\AppData\\Local\\Packages\\PythonSoftwareFoundation.Python.3.10_qbz5n2kfra8p0\\LocalCache\\local-packages\\Python310\\site-packages\\keras\\engine\\training.py\", line 1135, in run_step  **\n        outputs = model.train_step(data)\n    File \"C:\\Users\\Sam's PC\\AppData\\Local\\Packages\\PythonSoftwareFoundation.Python.3.10_qbz5n2kfra8p0\\LocalCache\\local-packages\\Python310\\site-packages\\keras\\engine\\training.py\", line 993, in train_step\n        y_pred = self(x, training=True)\n    File \"C:\\Users\\Sam's PC\\AppData\\Local\\Packages\\PythonSoftwareFoundation.Python.3.10_qbz5n2kfra8p0\\LocalCache\\local-packages\\Python310\\site-packages\\keras\\utils\\traceback_utils.py\", line 70, in error_handler\n        raise e.with_traceback(filtered_tb) from None\n    File \"C:\\Users\\SAM'SP~1\\AppData\\Local\\Temp\\__autograph_generated_filecvc170kf.py\", line 74, in tf__call\n        ag__.if_stmt(ag__.not_(ag__.ld(self)._has_training_argument), if_body_3, else_body_3, get_state_3, set_state_3, ('result', 'training'), 1)\n    File \"C:\\Users\\SAM'SP~1\\AppData\\Local\\Temp\\__autograph_generated_filecvc170kf.py\", line 37, in if_body_3\n        result = ag__.converted_call(ag__.ld(f), (), None, fscope)\n\n    ValueError: Exception encountered when calling layer \"keras_layer\" \"                 f\"(type KerasLayer).\n    \n    in user code:\n    \n        File \"C:\\Users\\Sam's PC\\AppData\\Local\\Packages\\PythonSoftwareFoundation.Python.3.10_qbz5n2kfra8p0\\LocalCache\\local-packages\\Python310\\site-packages\\tensorflow_hub\\keras_layer.py\", line 229, in call  *\n            result = f()\n    \n        ValueError: Python inputs incompatible with input_signature:\n          inputs: (\n            Tensor(\"IteratorGetNext:0\", shape=(None, None), dtype=string))\n          input_signature: (\n            TensorSpec(shape=(None,), dtype=tf.string, name=None)).\n    \n    \n    Call arguments received by layer \"keras_layer\" \"                 f\"(type KerasLayer):\n      • inputs=tf.Tensor(shape=(None, None), dtype=string)\n      • training=True\n"
     ]
    }
   ],
   "source": [
    "model.fit(train_data_f, \n",
    "          epochs=50, \n",
    "          batch_size=batch_size, \n",
    "          callbacks=[cp_callback],\n",
    "          validation_data=test_data_f,\n",
    "          verbose=0)"
   ]
  }
 ],
 "metadata": {
  "kernelspec": {
   "display_name": "Python 3.10.8 64-bit (microsoft store)",
   "language": "python",
   "name": "python3"
  },
  "language_info": {
   "codemirror_mode": {
    "name": "ipython",
    "version": 3
   },
   "file_extension": ".py",
   "mimetype": "text/x-python",
   "name": "python",
   "nbconvert_exporter": "python",
   "pygments_lexer": "ipython3",
   "version": "3.10.8"
  },
  "orig_nbformat": 4,
  "vscode": {
   "interpreter": {
    "hash": "6405ec6159b0547165700ce207a2b1c9d048e435bca4e5d6f2cd71ef647b6574"
   }
  }
 },
 "nbformat": 4,
 "nbformat_minor": 2
}
