{
 "cells": [
  {
   "cell_type": "code",
   "execution_count": 72,
   "metadata": {},
   "outputs": [],
   "source": [
    "import pathlib\n",
    "from sklearn import neighbors\n",
    "from sklearn import metrics\n",
    "import string\n",
    "import numpy as np\n",
    "from tqdm.auto import tqdm\n",
    "\n",
    "import spacy\n",
    "nlp = spacy.load('en_core_web_lg')\n",
    "\n",
    "from scipy import spatial"
   ]
  },
  {
   "cell_type": "code",
   "execution_count": null,
   "metadata": {},
   "outputs": [],
   "source": [
    "docs = []\n",
    "labels = []\n",
    "\n",
    "directory = pathlib.Path(r'..\\data\\genderData')\n",
    "label_names = ['Man', 'Woman']\n",
    "\n",
    "for label in label_names:\n",
    "    for file in directory.joinpath(label).iterdir():\n",
    "        labels.append(label)\n",
    "        docs.append(file.read_text(encoding='utf-8'))"
   ]
  },
  {
   "cell_type": "code",
   "execution_count": 53,
   "metadata": {},
   "outputs": [
    {
     "name": "stdout",
     "output_type": "stream",
     "text": [
      "business\n"
     ]
    },
    {
     "data": {
      "text/plain": [
       "'Ad sales boost Time Warner profit\\n\\nQuarterly profits at US media giant TimeWarner jumped 76% to $1.13bn (£600m) for the three months to December, from $639m year-earlier.\\n\\nThe firm, which is now one of the biggest investors in Google, benefited from sales of high-speed internet connections and higher advert sales. TimeWarner said fourth quarter sales rose 2% to $11.1bn from $10.9bn. Its profits were buoyed by one-off gains which offset a profit dip at Warner Bros, and less users for AOL.\\n\\nTime Warner said on Friday that it now owns 8% of search-engine Google. But its own internet business, AOL, had has mixed fortunes. It lost 464,000 subscribers in the fourth quarter profits were lower than in the preceding three quarters. However, the company said AOL\\'s underlying profit before exceptional items rose 8% on the back of stronger internet advertising revenues. It hopes to increase subscribers by offering the online service free to TimeWarner internet customers and will try to sign up AOL\\'s existing customers for high-speed broadband. TimeWarner also has to restate 2000 and 2003 results following a probe by the US Securities Exchange Commission (SEC), which is close to concluding.\\n\\nTime Warner\\'s fourth quarter profits were slightly better than analysts\\' expectations. But its film division saw profits slump 27% to $284m, helped by box-office flops Alexander and Catwoman, a sharp contrast to year-earlier, when the third and final film in the Lord of the Rings trilogy boosted results. For the full-year, TimeWarner posted a profit of $3.36bn, up 27% from its 2003 performance, while revenues grew 6.4% to $42.09bn. \"Our financial performance was strong, meeting or exceeding all of our full-year objectives and greatly enhancing our flexibility,\" chairman and chief executive Richard Parsons said. For 2005, TimeWarner is projecting operating earnings growth of around 5%, and also expects higher revenue and wider profit margins.\\n\\nTimeWarner is to restate its accounts as part of efforts to resolve an inquiry into AOL by US market regulators. It has already offered to pay $300m to settle charges, in a deal that is under review by the SEC. The company said it was unable to estimate the amount it needed to set aside for legal reserves, which it previously set at $500m. It intends to adjust the way it accounts for a deal with German music publisher Bertelsmann\\'s purchase of a stake in AOL Europe, which it had reported as advertising revenue. It will now book the sale of its stake in AOL Europe as a loss on the value of that stake.\\n'"
      ]
     },
     "execution_count": 53,
     "metadata": {},
     "output_type": "execute_result"
    }
   ],
   "source": [
    "doc = docs[0]\n",
    "print(labels[0])\n",
    "doc"
   ]
  },
  {
   "cell_type": "code",
   "execution_count": 54,
   "metadata": {},
   "outputs": [],
   "source": [
    "def clean_text(text):\n",
    "    text = text.lower()\n",
    "    text = text.translate(str.maketrans('', '', string.punctuation))\n",
    "    text = text.replace('\\n', ' ')\n",
    "    text = ' '.join(text.split())  # remove multiple whitespaces\n",
    "    return text"
   ]
  },
  {
   "cell_type": "code",
   "execution_count": 55,
   "metadata": {},
   "outputs": [
    {
     "data": {
      "text/plain": [
       "'ad sales boost time warner profit quarterly profits at us media giant timewarner jumped 76 to 113bn £600m for the three months to december from 639m yearearlier the firm which is now one of the biggest investors in google benefited from sales of highspeed internet connections and higher advert sales timewarner said fourth quarter sales rose 2 to 111bn from 109bn its profits were buoyed by oneoff gains which offset a profit dip at warner bros and less users for aol time warner said on friday that it now owns 8 of searchengine google but its own internet business aol had has mixed fortunes it lost 464000 subscribers in the fourth quarter profits were lower than in the preceding three quarters however the company said aols underlying profit before exceptional items rose 8 on the back of stronger internet advertising revenues it hopes to increase subscribers by offering the online service free to timewarner internet customers and will try to sign up aols existing customers for highspeed broadband timewarner also has to restate 2000 and 2003 results following a probe by the us securities exchange commission sec which is close to concluding time warners fourth quarter profits were slightly better than analysts expectations but its film division saw profits slump 27 to 284m helped by boxoffice flops alexander and catwoman a sharp contrast to yearearlier when the third and final film in the lord of the rings trilogy boosted results for the fullyear timewarner posted a profit of 336bn up 27 from its 2003 performance while revenues grew 64 to 4209bn our financial performance was strong meeting or exceeding all of our fullyear objectives and greatly enhancing our flexibility chairman and chief executive richard parsons said for 2005 timewarner is projecting operating earnings growth of around 5 and also expects higher revenue and wider profit margins timewarner is to restate its accounts as part of efforts to resolve an inquiry into aol by us market regulators it has already offered to pay 300m to settle charges in a deal that is under review by the sec the company said it was unable to estimate the amount it needed to set aside for legal reserves which it previously set at 500m it intends to adjust the way it accounts for a deal with german music publisher bertelsmanns purchase of a stake in aol europe which it had reported as advertising revenue it will now book the sale of its stake in aol europe as a loss on the value of that stake'"
      ]
     },
     "execution_count": 55,
     "metadata": {},
     "output_type": "execute_result"
    }
   ],
   "source": [
    "doc = clean_text(doc)\n",
    "doc"
   ]
  },
  {
   "cell_type": "code",
   "execution_count": 56,
   "metadata": {},
   "outputs": [],
   "source": [
    "def embed(tokens, nlp):\n",
    "    \"\"\"Return the centroid of the embeddings for the given tokens.\n",
    "\n",
    "    Out-of-vocabulary tokens are cast aside. Stop words are also\n",
    "    discarded. An array of 0s is returned if none of the tokens\n",
    "    are valid.\n",
    "\n",
    "    \"\"\"\n",
    "\n",
    "    lexemes = (nlp.vocab[token] for token in tokens)\n",
    "\n",
    "    vectors = np.asarray([\n",
    "        lexeme.vector\n",
    "        for lexeme in lexemes\n",
    "        if lexeme.has_vector\n",
    "        and not lexeme.is_stop\n",
    "        and len(lexeme.text) > 1\n",
    "    ])\n",
    "\n",
    "    if len(vectors) > 0:\n",
    "        centroid = vectors.mean(axis=0)\n",
    "    else:\n",
    "        width = nlp.meta['vectors']['width']  # typically 300\n",
    "        centroid = np.zeros(width)\n",
    "\n",
    "    return centroid"
   ]
  },
  {
   "cell_type": "code",
   "execution_count": 57,
   "metadata": {},
   "outputs": [
    {
     "name": "stdout",
     "output_type": "stream",
     "text": [
      "(300,)\n",
      "[-0.7090112  -0.47271743 -1.482876    1.0192236   2.6123836  -0.17018092\n",
      "  0.8778576   3.4173107  -0.86535937 -1.4310907 ]\n"
     ]
    }
   ],
   "source": [
    "tokens = doc.split(' ')\n",
    "centroid = embed(tokens, nlp)\n",
    "print(centroid.shape)\n",
    "print(centroid[:10])"
   ]
  },
  {
   "cell_type": "code",
   "execution_count": 58,
   "metadata": {},
   "outputs": [
    {
     "data": {
      "text/plain": [
       "(5, 300)"
      ]
     },
     "execution_count": 58,
     "metadata": {},
     "output_type": "execute_result"
    }
   ],
   "source": [
    "label_vectors = np.asarray([\n",
    "    embed(label.split(' '), nlp)\n",
    "    for label in label_names\n",
    "])\n",
    "label_vectors.shape"
   ]
  },
  {
   "cell_type": "code",
   "execution_count": 62,
   "metadata": {},
   "outputs": [
    {
     "data": {
      "text/plain": [
       "'entertainment'"
      ]
     },
     "execution_count": 62,
     "metadata": {},
     "output_type": "execute_result"
    }
   ],
   "source": [
    "neigh = neighbors.NearestNeighbors(n_neighbors=1)\n",
    "neigh.fit(label_vectors)\n",
    "closest_label = neigh.kneighbors([centroid], return_distance=False)[0, 0]\n",
    "label_names[closest_label]"
   ]
  },
  {
   "cell_type": "code",
   "execution_count": 59,
   "metadata": {},
   "outputs": [],
   "source": [
    "def predict(doc, nlp, neigh):\n",
    "    doc = clean_text(doc)\n",
    "    tokens = doc.split(' ')[:50]\n",
    "    centroid = embed(tokens, nlp)\n",
    "    closest_label = neigh.kneighbors([centroid], return_distance=False)[0][0]\n",
    "    return closest_label\n",
    "\n",
    "preds = [label_names[predict(doc, nlp, neigh)] for doc in docs]"
   ]
  },
  {
   "cell_type": "code",
   "execution_count": 63,
   "metadata": {},
   "outputs": [
    {
     "name": "stdout",
     "output_type": "stream",
     "text": [
      "               precision    recall  f1-score   support\n",
      "\n",
      "     business       0.58      0.90      0.70       510\n",
      "entertainment       0.48      0.91      0.63       386\n",
      "     politics       0.81      0.45      0.57       417\n",
      "        sport       0.94      0.64      0.76       511\n",
      "   technology       0.86      0.26      0.40       401\n",
      "\n",
      "     accuracy                           0.64      2225\n",
      "    macro avg       0.73      0.63      0.61      2225\n",
      " weighted avg       0.74      0.64      0.62      2225\n",
      "\n"
     ]
    }
   ],
   "source": [
    "neigh = neighbors.NearestNeighbors(\n",
    "    n_neighbors=1,\n",
    "    metric=spatial.distance.cosine\n",
    ")\n",
    "\n",
    "neigh.fit(label_vectors)\n",
    "\n",
    "preds = [label_names[predict(doc, nlp, neigh)] for doc in docs]\n",
    "\n",
    "report = metrics.classification_report(\n",
    "    y_true=labels,\n",
    "    y_pred=preds,\n",
    "    labels=label_names\n",
    ")\n",
    "\n",
    "print(report)"
   ]
  }
 ],
 "metadata": {
  "kernelspec": {
   "display_name": "Python 3.10.7 64-bit (microsoft store)",
   "language": "python",
   "name": "python3"
  },
  "language_info": {
   "codemirror_mode": {
    "name": "ipython",
    "version": 3
   },
   "file_extension": ".py",
   "mimetype": "text/x-python",
   "name": "python",
   "nbconvert_exporter": "python",
   "pygments_lexer": "ipython3",
   "version": "3.10.7"
  },
  "orig_nbformat": 4,
  "vscode": {
   "interpreter": {
    "hash": "6405ec6159b0547165700ce207a2b1c9d048e435bca4e5d6f2cd71ef647b6574"
   }
  }
 },
 "nbformat": 4,
 "nbformat_minor": 2
}
